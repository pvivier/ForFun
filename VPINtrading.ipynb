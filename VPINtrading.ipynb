{
 "cells": [
  {
   "cell_type": "code",
   "execution_count": 684,
   "id": "55127300",
   "metadata": {},
   "outputs": [],
   "source": [
    "import pandas as pd\n",
    "import numpy as np\n",
    "import matplotlib.pyplot as plt\n",
    "from matplotlib.pyplot import figure\n",
    "import statsmodels.api as sm\n",
    "import warnings\n",
    "warnings.filterwarnings('ignore')\n",
    "import seaborn as sns"
   ]
  },
  {
   "cell_type": "code",
   "execution_count": 685,
   "id": "333a10a1",
   "metadata": {},
   "outputs": [],
   "source": [
    "pd.set_option('display.max_rows', 10)"
   ]
  },
  {
   "cell_type": "code",
   "execution_count": 686,
   "id": "46f00515",
   "metadata": {},
   "outputs": [
    {
     "data": {
      "text/plain": [
       "<Figure size 640x480 with 0 Axes>"
      ]
     },
     "execution_count": 686,
     "metadata": {},
     "output_type": "execute_result"
    },
    {
     "data": {
      "text/plain": [
       "<Figure size 640x480 with 0 Axes>"
      ]
     },
     "metadata": {},
     "output_type": "display_data"
    }
   ],
   "source": [
    "figure(figsize=(8, 6), dpi=80)"
   ]
  },
  {
   "cell_type": "markdown",
   "id": "49db3b09",
   "metadata": {},
   "source": [
    "My project is a VPIN trading strategy. This strategy revoleves around generating alpha from trading flow analysis.\\\n",
    "An easy summary is that we get returns, regress against rolling trade flow, and trade when predicted returns are higher than a set level.\\\n",
    "Technically, I don't think this is exactly a VPIN strategy. By doing some research, it seems that VPINs understand that the market is not completely represented on public exchanges (for non-crypto anyway) and that even if a trade is made on the ask, it could potentially not have been buyer initiated because of rapid price movements. Therefore, the VPIN strategy usualy involves looking at volume candles and assigning proportional volume to positive or negative trade flow depending on the close price relative to the high and low. In our dataset, the \"buy\" or \"sell\" side was given. This means that we do not have to do these approximations and can have a very accurate trade flow calculation."
   ]
  },
  {
   "cell_type": "markdown",
   "id": "30ec3d37",
   "metadata": {},
   "source": [
    "# Importing Data"
   ]
  },
  {
   "cell_type": "markdown",
   "id": "3bd88d39",
   "metadata": {},
   "source": [
    "For this step, I used crypto pairs data from 2021, 2022 and 2023:\\\n",
    "-BTC VS USD\\\n",
    "-ETH VS BTC\\\n",
    "-ETH VS USD"
   ]
  },
  {
   "cell_type": "markdown",
   "id": "860a787d",
   "metadata": {},
   "source": [
    "The data was not in seconds are not uniformly spread out (as expected people are not trading on exactly regular intervals). This isnt an issue. After modifying the data indeces and columns as you see below, I resapled the data over each second. This gives us the total flow each second over the sample.\n",
    "\n",
    "The 'Tradeflow' column was calculated using a simple multiplicative operation."
   ]
  },
  {
   "cell_type": "code",
   "execution_count": 687,
   "id": "637e1b46",
   "metadata": {},
   "outputs": [],
   "source": [
    "pd.set_option('display.max_rows', 10)"
   ]
  },
  {
   "cell_type": "markdown",
   "id": "b03df784",
   "metadata": {},
   "source": [
    "To give an idea of what the original data looks like:"
   ]
  },
  {
   "cell_type": "code",
   "execution_count": 480,
   "id": "7e1595a9",
   "metadata": {},
   "outputs": [
    {
     "data": {
      "text/html": [
       "<div>\n",
       "<style scoped>\n",
       "    .dataframe tbody tr th:only-of-type {\n",
       "        vertical-align: middle;\n",
       "    }\n",
       "\n",
       "    .dataframe tbody tr th {\n",
       "        vertical-align: top;\n",
       "    }\n",
       "\n",
       "    .dataframe thead th {\n",
       "        text-align: right;\n",
       "    }\n",
       "</style>\n",
       "<table border=\"1\" class=\"dataframe\">\n",
       "  <thead>\n",
       "    <tr style=\"text-align: right;\">\n",
       "      <th></th>\n",
       "      <th>received_utc_nanoseconds</th>\n",
       "      <th>timestamp_utc_nanoseconds</th>\n",
       "      <th>PriceMillionths</th>\n",
       "      <th>SizeBillionths</th>\n",
       "      <th>Side</th>\n",
       "    </tr>\n",
       "  </thead>\n",
       "  <tbody>\n",
       "    <tr>\n",
       "      <th>0</th>\n",
       "      <td>1674521267814309000</td>\n",
       "      <td>1674521267874527000</td>\n",
       "      <td>22970120000</td>\n",
       "      <td>87069600</td>\n",
       "      <td>-1</td>\n",
       "    </tr>\n",
       "    <tr>\n",
       "      <th>1</th>\n",
       "      <td>1674521267814046000</td>\n",
       "      <td>1674521267874527000</td>\n",
       "      <td>22970150000</td>\n",
       "      <td>25797600</td>\n",
       "      <td>-1</td>\n",
       "    </tr>\n",
       "    <tr>\n",
       "      <th>2</th>\n",
       "      <td>1674521267817981000</td>\n",
       "      <td>1674521267878712000</td>\n",
       "      <td>22970120000</td>\n",
       "      <td>10</td>\n",
       "      <td>-1</td>\n",
       "    </tr>\n",
       "    <tr>\n",
       "      <th>3</th>\n",
       "      <td>1674521267822734000</td>\n",
       "      <td>1674521267886114000</td>\n",
       "      <td>22969160000</td>\n",
       "      <td>217683140</td>\n",
       "      <td>-1</td>\n",
       "    </tr>\n",
       "    <tr>\n",
       "      <th>4</th>\n",
       "      <td>1674521274845338000</td>\n",
       "      <td>1674521268676444000</td>\n",
       "      <td>22969840000</td>\n",
       "      <td>10000000</td>\n",
       "      <td>1</td>\n",
       "    </tr>\n",
       "    <tr>\n",
       "      <th>...</th>\n",
       "      <td>...</td>\n",
       "      <td>...</td>\n",
       "      <td>...</td>\n",
       "      <td>...</td>\n",
       "      <td>...</td>\n",
       "    </tr>\n",
       "    <tr>\n",
       "      <th>560102</th>\n",
       "      <td>1674661801474245000</td>\n",
       "      <td>1674661801477570000</td>\n",
       "      <td>22573080000</td>\n",
       "      <td>920730</td>\n",
       "      <td>1</td>\n",
       "    </tr>\n",
       "    <tr>\n",
       "      <th>560103</th>\n",
       "      <td>1674661801534824000</td>\n",
       "      <td>1674661801543105000</td>\n",
       "      <td>22571970000</td>\n",
       "      <td>335000000</td>\n",
       "      <td>-1</td>\n",
       "    </tr>\n",
       "    <tr>\n",
       "      <th>560104</th>\n",
       "      <td>1674661801592039000</td>\n",
       "      <td>1674661801601688000</td>\n",
       "      <td>22570920000</td>\n",
       "      <td>50000000</td>\n",
       "      <td>-1</td>\n",
       "    </tr>\n",
       "    <tr>\n",
       "      <th>560105</th>\n",
       "      <td>1674661801592674000</td>\n",
       "      <td>1674661801601719000</td>\n",
       "      <td>22570920000</td>\n",
       "      <td>32600000</td>\n",
       "      <td>-1</td>\n",
       "    </tr>\n",
       "    <tr>\n",
       "      <th>560106</th>\n",
       "      <td>1674661801593427000</td>\n",
       "      <td>1674661801601767000</td>\n",
       "      <td>22570920000</td>\n",
       "      <td>6009570</td>\n",
       "      <td>-1</td>\n",
       "    </tr>\n",
       "  </tbody>\n",
       "</table>\n",
       "<p>560107 rows × 5 columns</p>\n",
       "</div>"
      ],
      "text/plain": [
       "        received_utc_nanoseconds  timestamp_utc_nanoseconds  PriceMillionths  \\\n",
       "0            1674521267814309000        1674521267874527000      22970120000   \n",
       "1            1674521267814046000        1674521267874527000      22970150000   \n",
       "2            1674521267817981000        1674521267878712000      22970120000   \n",
       "3            1674521267822734000        1674521267886114000      22969160000   \n",
       "4            1674521274845338000        1674521268676444000      22969840000   \n",
       "...                          ...                        ...              ...   \n",
       "560102       1674661801474245000        1674661801477570000      22573080000   \n",
       "560103       1674661801534824000        1674661801543105000      22571970000   \n",
       "560104       1674661801592039000        1674661801601688000      22570920000   \n",
       "560105       1674661801592674000        1674661801601719000      22570920000   \n",
       "560106       1674661801593427000        1674661801601767000      22570920000   \n",
       "\n",
       "        SizeBillionths  Side  \n",
       "0             87069600    -1  \n",
       "1             25797600    -1  \n",
       "2                   10    -1  \n",
       "3            217683140    -1  \n",
       "4             10000000     1  \n",
       "...                ...   ...  \n",
       "560102          920730     1  \n",
       "560103       335000000    -1  \n",
       "560104        50000000    -1  \n",
       "560105        32600000    -1  \n",
       "560106         6009570    -1  \n",
       "\n",
       "[560107 rows x 5 columns]"
      ]
     },
     "execution_count": 480,
     "metadata": {},
     "output_type": "execute_result"
    }
   ],
   "source": [
    "BTC_USD_2023 = pd.read_csv(\"/Users/pierrevivier/Desktop/trades_narrow_BTC-USD_2023.delim.gz\", delimiter = '\\t')\n",
    "BTC_USD_2023"
   ]
  },
  {
   "cell_type": "code",
   "execution_count": 688,
   "id": "23df2a6d",
   "metadata": {},
   "outputs": [],
   "source": [
    "BTC_USD_2023 = pd.read_csv(\"/Users/pierrevivier/Desktop/trades_narrow_BTC-USD_2023.delim.gz\", delimiter = '\\t')\n",
    "ETH_BTC_2023 = pd.read_csv(\"/Users/pierrevivier/Desktop/trades_narrow_ETH-BTC_2023.delim.gz\", delimiter = '\\t')\n",
    "ETH_USD_2023 = pd.read_csv(\"/Users/pierrevivier/Desktop/trades_narrow_ETH-USD_2023.delim.gz\", delimiter = '\\t')\n",
    "BTC_USD_2022 = pd.read_csv(\"/Users/pierrevivier/Desktop/trades_narrow_BTC-USD_2022.delim.gz\", delimiter = '\\t')\n",
    "ETH_BTC_2022 = pd.read_csv(\"/Users/pierrevivier/Desktop/trades_narrow_ETH-BTC_2022.delim.gz\", delimiter = '\\t')\n",
    "ETH_USD_2022 = pd.read_csv(\"/Users/pierrevivier/Desktop/trades_narrow_ETH-USD_2022.delim.gz\", delimiter = '\\t')\n",
    "BTC_USD_2021 = pd.read_csv(\"/Users/pierrevivier/Desktop/trades_narrow_BTC-USD_2021.delim.gz\", delimiter = '\\t')\n",
    "ETH_BTC_2021 = pd.read_csv(\"/Users/pierrevivier/Desktop/trades_narrow_ETH-BTC_2021.delim.gz\", delimiter = '\\t')\n",
    "ETH_USD_2021 = pd.read_csv(\"/Users/pierrevivier/Desktop/trades_narrow_ETH-USD_2021.delim.gz\", delimiter = '\\t')\n",
    "\n",
    "dfs = [BTC_USD_2023,ETH_BTC_2023,ETH_USD_2023,BTC_USD_2022,ETH_BTC_2022,ETH_USD_2022,BTC_USD_2021,ETH_BTC_2021,ETH_USD_2021]\n",
    "#I store the dataframes inside a list for easier manipulation\n",
    "for i in range(len(dfs)):\n",
    "    dfs[i].index = pd.to_datetime((dfs[i]['timestamp_utc_nanoseconds']/10**9).round(1), unit='s')\n",
    "    dfs[i].index = dfs[i].index.rename('time')\n",
    "\n",
    "for i in range(len(dfs)):\n",
    "    dfs[i]['Tradeflow'] = dfs[i]['PriceMillionths']*dfs[i]['SizeBillionths'] * np.sign(dfs[i]['Side'])\n",
    "    \n",
    "for i in range(len(dfs)):\n",
    "    dfs[i] = dfs[i].resample('1S').agg({'PriceMillionths':'last','SizeBillionths':'sum','Tradeflow':'sum'})\n",
    "    \n",
    "#for i in range(len(dfs)):\n",
    "#    dfs[i]['TradeflowMean'] = dfs[i]['Tradeflox'].rollin(30).mean()\n",
    "\n",
    "    \n",
    "\n",
    "    \n",
    "    \n",
    "BTC_USD_2023 = dfs[0]\n",
    "ETH_BTC_2023 = dfs[1]\n",
    "ETH_USD_2023 = dfs[2]\n",
    "BTC_USD_2022 = dfs[3]\n",
    "ETH_BTC_2022 = dfs[4]\n",
    "ETH_USD_2022 = dfs[5]\n",
    "BTC_USD_2021 = dfs[6]\n",
    "ETH_BTC_2021 = dfs[7]\n",
    "ETH_USD_2021 = dfs[8]\n",
    "    "
   ]
  },
  {
   "cell_type": "code",
   "execution_count": 482,
   "id": "89efde06",
   "metadata": {},
   "outputs": [
    {
     "data": {
      "text/html": [
       "<div>\n",
       "<style scoped>\n",
       "    .dataframe tbody tr th:only-of-type {\n",
       "        vertical-align: middle;\n",
       "    }\n",
       "\n",
       "    .dataframe tbody tr th {\n",
       "        vertical-align: top;\n",
       "    }\n",
       "\n",
       "    .dataframe thead th {\n",
       "        text-align: right;\n",
       "    }\n",
       "</style>\n",
       "<table border=\"1\" class=\"dataframe\">\n",
       "  <thead>\n",
       "    <tr style=\"text-align: right;\">\n",
       "      <th></th>\n",
       "      <th>PriceMillionths</th>\n",
       "      <th>SizeBillionths</th>\n",
       "      <th>Tradeflow</th>\n",
       "    </tr>\n",
       "    <tr>\n",
       "      <th>time</th>\n",
       "      <th></th>\n",
       "      <th></th>\n",
       "      <th></th>\n",
       "    </tr>\n",
       "  </thead>\n",
       "  <tbody>\n",
       "    <tr>\n",
       "      <th>2022-01-29 21:02:49</th>\n",
       "      <td>3.839104e+10</td>\n",
       "      <td>260015400</td>\n",
       "      <td>9.982032e+18</td>\n",
       "    </tr>\n",
       "    <tr>\n",
       "      <th>2022-01-29 21:02:50</th>\n",
       "      <td>3.839456e+10</td>\n",
       "      <td>165936820</td>\n",
       "      <td>4.299443e+18</td>\n",
       "    </tr>\n",
       "    <tr>\n",
       "      <th>2022-01-29 21:02:51</th>\n",
       "      <td>3.838189e+10</td>\n",
       "      <td>144903700</td>\n",
       "      <td>-5.397144e+18</td>\n",
       "    </tr>\n",
       "    <tr>\n",
       "      <th>2022-01-29 21:02:52</th>\n",
       "      <td>3.838875e+10</td>\n",
       "      <td>15137200</td>\n",
       "      <td>-5.703130e+16</td>\n",
       "    </tr>\n",
       "    <tr>\n",
       "      <th>2022-01-29 21:02:53</th>\n",
       "      <td>3.838263e+10</td>\n",
       "      <td>4528110</td>\n",
       "      <td>9.703062e+16</td>\n",
       "    </tr>\n",
       "    <tr>\n",
       "      <th>...</th>\n",
       "      <td>...</td>\n",
       "      <td>...</td>\n",
       "      <td>...</td>\n",
       "    </tr>\n",
       "    <tr>\n",
       "      <th>2022-02-05 01:29:51</th>\n",
       "      <td>4.139201e+10</td>\n",
       "      <td>209535020</td>\n",
       "      <td>2.385051e+18</td>\n",
       "    </tr>\n",
       "    <tr>\n",
       "      <th>2022-02-05 01:29:52</th>\n",
       "      <td>4.139810e+10</td>\n",
       "      <td>14826440</td>\n",
       "      <td>6.137498e+17</td>\n",
       "    </tr>\n",
       "    <tr>\n",
       "      <th>2022-02-05 01:29:53</th>\n",
       "      <td>4.139831e+10</td>\n",
       "      <td>90899050</td>\n",
       "      <td>-3.423022e+18</td>\n",
       "    </tr>\n",
       "    <tr>\n",
       "      <th>2022-02-05 01:29:54</th>\n",
       "      <td>4.139582e+10</td>\n",
       "      <td>15061000</td>\n",
       "      <td>5.844903e+17</td>\n",
       "    </tr>\n",
       "    <tr>\n",
       "      <th>2022-02-05 01:29:55</th>\n",
       "      <td>4.140029e+10</td>\n",
       "      <td>9093510</td>\n",
       "      <td>3.764750e+17</td>\n",
       "    </tr>\n",
       "  </tbody>\n",
       "</table>\n",
       "<p>534427 rows × 3 columns</p>\n",
       "</div>"
      ],
      "text/plain": [
       "                     PriceMillionths  SizeBillionths     Tradeflow\n",
       "time                                                              \n",
       "2022-01-29 21:02:49     3.839104e+10       260015400  9.982032e+18\n",
       "2022-01-29 21:02:50     3.839456e+10       165936820  4.299443e+18\n",
       "2022-01-29 21:02:51     3.838189e+10       144903700 -5.397144e+18\n",
       "2022-01-29 21:02:52     3.838875e+10        15137200 -5.703130e+16\n",
       "2022-01-29 21:02:53     3.838263e+10         4528110  9.703062e+16\n",
       "...                              ...             ...           ...\n",
       "2022-02-05 01:29:51     4.139201e+10       209535020  2.385051e+18\n",
       "2022-02-05 01:29:52     4.139810e+10        14826440  6.137498e+17\n",
       "2022-02-05 01:29:53     4.139831e+10        90899050 -3.423022e+18\n",
       "2022-02-05 01:29:54     4.139582e+10        15061000  5.844903e+17\n",
       "2022-02-05 01:29:55     4.140029e+10         9093510  3.764750e+17\n",
       "\n",
       "[534427 rows x 3 columns]"
      ]
     },
     "execution_count": 482,
     "metadata": {},
     "output_type": "execute_result"
    }
   ],
   "source": [
    "BTC_USD_2022"
   ]
  },
  {
   "cell_type": "markdown",
   "id": "a13a133d",
   "metadata": {},
   "source": [
    "# Visualizing our datasets"
   ]
  },
  {
   "cell_type": "markdown",
   "id": "e0b6d083",
   "metadata": {},
   "source": [
    "Import part of the process to look at graphs that are human-readable to get an idea of what we are working with."
   ]
  },
  {
   "cell_type": "markdown",
   "id": "fa437b32",
   "metadata": {},
   "source": [
    "One main motivation I have to run these graphs is to see if there are very large differences between the years, and if some parts of the data are clealy different from one-another."
   ]
  },
  {
   "cell_type": "code",
   "execution_count": 483,
   "id": "d74e78af",
   "metadata": {},
   "outputs": [
    {
     "data": {
      "text/plain": [
       "[<matplotlib.lines.Line2D at 0x7ff349cfd850>]"
      ]
     },
     "execution_count": 483,
     "metadata": {},
     "output_type": "execute_result"
    },
    {
     "data": {
      "image/png": "[encoded data removed]",
      "text/plain": [
       "<Figure size 800x400 with 1 Axes>"
      ]
     },
     "metadata": {
      "needs_background": "light"
     },
     "output_type": "display_data"
    }
   ],
   "source": [
    "figure(figsize=(10, 5), dpi=80)\n",
    "plt.xlabel('day-hour-minute, in Jan 2023')\n",
    "plt.title('BTC_USD_2023 Price in millionths')\n",
    "plt.plot(BTC_USD_2023['PriceMillionths'])"
   ]
  },
  {
   "cell_type": "code",
   "execution_count": 484,
   "id": "1dbeed9b",
   "metadata": {},
   "outputs": [
    {
     "data": {
      "text/plain": [
       "[<matplotlib.lines.Line2D at 0x7ff3397eefa0>]"
      ]
     },
     "execution_count": 484,
     "metadata": {},
     "output_type": "execute_result"
    },
    {
     "data": {
      "image/png": "[encoded data removed]",
      "text/plain": [
       "<Figure size 800x400 with 1 Axes>"
      ]
     },
     "metadata": {
      "needs_background": "light"
     },
     "output_type": "display_data"
    }
   ],
   "source": [
    "figure(figsize=(10, 5), dpi=80)\n",
    "plt.xlabel('day-hour-minute, in Jan 2022')\n",
    "plt.title('BTC_USD_2022 Price in millionths')\n",
    "plt.plot(BTC_USD_2022['PriceMillionths'])"
   ]
  },
  {
   "cell_type": "code",
   "execution_count": 485,
   "id": "69d170ce",
   "metadata": {},
   "outputs": [
    {
     "data": {
      "text/plain": [
       "[<matplotlib.lines.Line2D at 0x7ff339b7a0d0>]"
      ]
     },
     "execution_count": 485,
     "metadata": {},
     "output_type": "execute_result"
    },
    {
     "data": {
      "image/png": "[encoded data removed]",
      "text/plain": [
       "<Figure size 800x400 with 1 Axes>"
      ]
     },
     "metadata": {
      "needs_background": "light"
     },
     "output_type": "display_data"
    }
   ],
   "source": [
    "figure(figsize=(10, 5), dpi=80)\n",
    "plt.xlabel('day-hour-minute, in Jan 2023')\n",
    "plt.title('ETH_BTC_2023 Price in millionths')\n",
    "plt.plot(ETH_BTC_2023['PriceMillionths'])"
   ]
  },
  {
   "cell_type": "code",
   "execution_count": 486,
   "id": "66c12818",
   "metadata": {},
   "outputs": [
    {
     "data": {
      "text/plain": [
       "[<matplotlib.lines.Line2D at 0x7ff339921c40>]"
      ]
     },
     "execution_count": 486,
     "metadata": {},
     "output_type": "execute_result"
    },
    {
     "data": {
      "image/png": "[encoded data removed]",
      "text/plain": [
       "<Figure size 800x400 with 1 Axes>"
      ]
     },
     "metadata": {
      "needs_background": "light"
     },
     "output_type": "display_data"
    }
   ],
   "source": [
    "figure(figsize=(10, 5), dpi=80)\n",
    "plt.xlabel('day-hour-minute, in Jan 2022')\n",
    "plt.title('ETH_BTC_2022 Price in millionths')\n",
    "plt.plot(ETH_BTC_2022['PriceMillionths'])"
   ]
  },
  {
   "cell_type": "code",
   "execution_count": 487,
   "id": "182ef330",
   "metadata": {},
   "outputs": [
    {
     "data": {
      "text/plain": [
       "[<matplotlib.lines.Line2D at 0x7ff32f314640>]"
      ]
     },
     "execution_count": 487,
     "metadata": {},
     "output_type": "execute_result"
    },
    {
     "data": {
      "image/png": "[encoded data removed]",
      "text/plain": [
       "<Figure size 800x400 with 1 Axes>"
      ]
     },
     "metadata": {
      "needs_background": "light"
     },
     "output_type": "display_data"
    }
   ],
   "source": [
    "figure(figsize=(10, 5), dpi=80)\n",
    "plt.xlabel('day-hour-minute, in Jan 2022')\n",
    "plt.title('ETH_USD_2023 Price in millionths')\n",
    "plt.plot(ETH_USD_2023['PriceMillionths'])"
   ]
  },
  {
   "cell_type": "code",
   "execution_count": 488,
   "id": "d7cc8b17",
   "metadata": {},
   "outputs": [
    {
     "data": {
      "text/plain": [
       "[<matplotlib.lines.Line2D at 0x7ff3305e8400>]"
      ]
     },
     "execution_count": 488,
     "metadata": {},
     "output_type": "execute_result"
    },
    {
     "data": {
      "image/png": "[encoded data removed]",
      "text/plain": [
       "<Figure size 800x400 with 1 Axes>"
      ]
     },
     "metadata": {
      "needs_background": "light"
     },
     "output_type": "display_data"
    }
   ],
   "source": [
    "figure(figsize=(10, 5), dpi=80)\n",
    "plt.xlabel('day-hour-minute, in Jan and Feb 2022')\n",
    "plt.title('BTC_USD_2022 Price in millionths')\n",
    "plt.plot(BTC_USD_2022['PriceMillionths'])"
   ]
  },
  {
   "cell_type": "markdown",
   "id": "f2366926",
   "metadata": {},
   "source": [
    "I looked at all the graphs, but they are not all of interest, so I'll link the rest in the annex of the powerpoint and the end of this notebook."
   ]
  },
  {
   "cell_type": "markdown",
   "id": "53595ca8",
   "metadata": {},
   "source": [
    "The most interesting graphs is the ETH_BTC 2023 graph, where our resapling clearly shows that our data is sparse. This should not be an issue for our VPIN strategy, but we shall see. I remove the NaNs in the dataframes, but after the tradeflow graphs in case they give us insights."
   ]
  },
  {
   "cell_type": "markdown",
   "id": "a724a5d9",
   "metadata": {},
   "source": [
    "Next are the tradeflow graphs."
   ]
  },
  {
   "cell_type": "code",
   "execution_count": 489,
   "id": "04b6cda0",
   "metadata": {},
   "outputs": [
    {
     "data": {
      "text/plain": [
       "[<matplotlib.lines.Line2D at 0x7ff3321c2280>]"
      ]
     },
     "execution_count": 489,
     "metadata": {},
     "output_type": "execute_result"
    },
    {
     "data": {
      "image/png": "[encoded data removed]",
      "text/plain": [
       "<Figure size 800x400 with 1 Axes>"
      ]
     },
     "metadata": {
      "needs_background": "light"
     },
     "output_type": "display_data"
    }
   ],
   "source": [
    "figure(figsize=(10, 5), dpi=80)\n",
    "plt.xlabel('day-hour-minute, in Jan 2023')\n",
    "plt.title('BTC_USD_2022 Size in Billionths')\n",
    "plt.plot(BTC_USD_2022['SizeBillionths'])"
   ]
  },
  {
   "cell_type": "markdown",
   "id": "21496e6d",
   "metadata": {},
   "source": [
    "I have tried to visualize these as a rolling mean or as tradeflow, but overall the only thing I got out of them was that certain seconds have much larger orders than others - but that isnt unexpected."
   ]
  },
  {
   "cell_type": "code",
   "execution_count": 689,
   "id": "b8987d05",
   "metadata": {},
   "outputs": [],
   "source": [
    "dfs = [BTC_USD_2023,ETH_BTC_2023,ETH_USD_2023,BTC_USD_2022,ETH_BTC_2022,ETH_USD_2022,BTC_USD_2021,ETH_BTC_2021,ETH_USD_2021]\n",
    "\n",
    "for i in range(len(dfs)):\n",
    "    dfs[i]=dfs[i].dropna(axis=0)\n",
    "    dfs[i]['returns'] = dfs[i]['PriceMillionths'].pct_change()\n",
    "    dfs[i]=dfs[i].dropna(axis=0)\n",
    "    \n",
    "\n",
    "BTC_USD_2023 = dfs[0]\n",
    "ETH_BTC_2023 = dfs[1]\n",
    "ETH_USD_2023 = dfs[2]\n",
    "BTC_USD_2022 = dfs[3]\n",
    "ETH_BTC_2022 = dfs[4]\n",
    "ETH_USD_2022 = dfs[5]\n",
    "BTC_USD_2021 = dfs[6]\n",
    "ETH_BTC_2021 = dfs[7]\n",
    "ETH_USD_2021 = dfs[8]\n"
   ]
  },
  {
   "cell_type": "code",
   "execution_count": 668,
   "id": "2f3def49",
   "metadata": {},
   "outputs": [
    {
     "data": {
      "text/html": [
       "<div>\n",
       "<style scoped>\n",
       "    .dataframe tbody tr th:only-of-type {\n",
       "        vertical-align: middle;\n",
       "    }\n",
       "\n",
       "    .dataframe tbody tr th {\n",
       "        vertical-align: top;\n",
       "    }\n",
       "\n",
       "    .dataframe thead th {\n",
       "        text-align: right;\n",
       "    }\n",
       "</style>\n",
       "<table border=\"1\" class=\"dataframe\">\n",
       "  <thead>\n",
       "    <tr style=\"text-align: right;\">\n",
       "      <th></th>\n",
       "      <th>PriceMillionths</th>\n",
       "      <th>SizeBillionths</th>\n",
       "      <th>Tradeflow</th>\n",
       "      <th>returns</th>\n",
       "      <th>rollingTradeflow</th>\n",
       "    </tr>\n",
       "    <tr>\n",
       "      <th>time</th>\n",
       "      <th></th>\n",
       "      <th></th>\n",
       "      <th></th>\n",
       "      <th></th>\n",
       "      <th></th>\n",
       "    </tr>\n",
       "  </thead>\n",
       "  <tbody>\n",
       "    <tr>\n",
       "      <th>2023-01-24 00:48:20</th>\n",
       "      <td>2.296535e+10</td>\n",
       "      <td>734908420</td>\n",
       "      <td>-1.687729e+19</td>\n",
       "      <td>-9.970550e-05</td>\n",
       "      <td>-1.008971e+18</td>\n",
       "    </tr>\n",
       "    <tr>\n",
       "      <th>2023-01-24 00:48:21</th>\n",
       "      <td>2.296666e+10</td>\n",
       "      <td>1496090</td>\n",
       "      <td>3.436019e+16</td>\n",
       "      <td>5.704246e-05</td>\n",
       "      <td>-3.129930e+19</td>\n",
       "    </tr>\n",
       "    <tr>\n",
       "      <th>2023-01-24 00:48:22</th>\n",
       "      <td>2.296426e+10</td>\n",
       "      <td>801820</td>\n",
       "      <td>-1.841320e+16</td>\n",
       "      <td>-1.044993e-04</td>\n",
       "      <td>-3.827184e+19</td>\n",
       "    </tr>\n",
       "    <tr>\n",
       "      <th>2023-01-24 00:48:23</th>\n",
       "      <td>2.296732e+10</td>\n",
       "      <td>105256170</td>\n",
       "      <td>2.417380e+18</td>\n",
       "      <td>1.332505e-04</td>\n",
       "      <td>-3.804036e+19</td>\n",
       "    </tr>\n",
       "    <tr>\n",
       "      <th>2023-01-24 00:48:24</th>\n",
       "      <td>2.296768e+10</td>\n",
       "      <td>40138130</td>\n",
       "      <td>9.218850e+17</td>\n",
       "      <td>1.567445e-05</td>\n",
       "      <td>-3.622483e+19</td>\n",
       "    </tr>\n",
       "    <tr>\n",
       "      <th>...</th>\n",
       "      <td>...</td>\n",
       "      <td>...</td>\n",
       "      <td>...</td>\n",
       "      <td>...</td>\n",
       "      <td>...</td>\n",
       "    </tr>\n",
       "    <tr>\n",
       "      <th>2023-01-25 15:49:57</th>\n",
       "      <td>2.257980e+10</td>\n",
       "      <td>50775320</td>\n",
       "      <td>1.146496e+18</td>\n",
       "      <td>4.428739e-07</td>\n",
       "      <td>1.242400e+19</td>\n",
       "    </tr>\n",
       "    <tr>\n",
       "      <th>2023-01-25 15:49:58</th>\n",
       "      <td>2.257946e+10</td>\n",
       "      <td>828210210</td>\n",
       "      <td>-1.869213e+19</td>\n",
       "      <td>-1.505771e-05</td>\n",
       "      <td>1.314745e+19</td>\n",
       "    </tr>\n",
       "    <tr>\n",
       "      <th>2023-01-25 15:49:59</th>\n",
       "      <td>2.257918e+10</td>\n",
       "      <td>592230</td>\n",
       "      <td>1.337207e+16</td>\n",
       "      <td>-1.240065e-05</td>\n",
       "      <td>-6.730789e+18</td>\n",
       "    </tr>\n",
       "    <tr>\n",
       "      <th>2023-01-25 15:50:00</th>\n",
       "      <td>2.257339e+10</td>\n",
       "      <td>280834910</td>\n",
       "      <td>-6.264620e+18</td>\n",
       "      <td>-2.564309e-04</td>\n",
       "      <td>-9.372369e+18</td>\n",
       "    </tr>\n",
       "    <tr>\n",
       "      <th>2023-01-25 15:50:01</th>\n",
       "      <td>2.257092e+10</td>\n",
       "      <td>550155380</td>\n",
       "      <td>-1.165305e+19</td>\n",
       "      <td>-1.094209e-04</td>\n",
       "      <td>-1.325134e+19</td>\n",
       "    </tr>\n",
       "  </tbody>\n",
       "</table>\n",
       "<p>85623 rows × 5 columns</p>\n",
       "</div>"
      ],
      "text/plain": [
       "                     PriceMillionths  SizeBillionths     Tradeflow  \\\n",
       "time                                                                 \n",
       "2023-01-24 00:48:20     2.296535e+10       734908420 -1.687729e+19   \n",
       "2023-01-24 00:48:21     2.296666e+10         1496090  3.436019e+16   \n",
       "2023-01-24 00:48:22     2.296426e+10          801820 -1.841320e+16   \n",
       "2023-01-24 00:48:23     2.296732e+10       105256170  2.417380e+18   \n",
       "2023-01-24 00:48:24     2.296768e+10        40138130  9.218850e+17   \n",
       "...                              ...             ...           ...   \n",
       "2023-01-25 15:49:57     2.257980e+10        50775320  1.146496e+18   \n",
       "2023-01-25 15:49:58     2.257946e+10       828210210 -1.869213e+19   \n",
       "2023-01-25 15:49:59     2.257918e+10          592230  1.337207e+16   \n",
       "2023-01-25 15:50:00     2.257339e+10       280834910 -6.264620e+18   \n",
       "2023-01-25 15:50:01     2.257092e+10       550155380 -1.165305e+19   \n",
       "\n",
       "                          returns  rollingTradeflow  \n",
       "time                                                 \n",
       "2023-01-24 00:48:20 -9.970550e-05     -1.008971e+18  \n",
       "2023-01-24 00:48:21  5.704246e-05     -3.129930e+19  \n",
       "2023-01-24 00:48:22 -1.044993e-04     -3.827184e+19  \n",
       "2023-01-24 00:48:23  1.332505e-04     -3.804036e+19  \n",
       "2023-01-24 00:48:24  1.567445e-05     -3.622483e+19  \n",
       "...                           ...               ...  \n",
       "2023-01-25 15:49:57  4.428739e-07      1.242400e+19  \n",
       "2023-01-25 15:49:58 -1.505771e-05      1.314745e+19  \n",
       "2023-01-25 15:49:59 -1.240065e-05     -6.730789e+18  \n",
       "2023-01-25 15:50:00 -2.564309e-04     -9.372369e+18  \n",
       "2023-01-25 15:50:01 -1.094209e-04     -1.325134e+19  \n",
       "\n",
       "[85623 rows x 5 columns]"
      ]
     },
     "execution_count": 668,
     "metadata": {},
     "output_type": "execute_result"
    }
   ],
   "source": [
    "BTC_USD_2023"
   ]
  },
  {
   "cell_type": "markdown",
   "id": "ae33263f",
   "metadata": {},
   "source": [
    "# The Strategy"
   ]
  },
  {
   "cell_type": "markdown",
   "id": "87577794",
   "metadata": {},
   "source": [
    "Here is the code for the VPIN strategy. I have coded a long-only, long-short and a double strategy. I explain each one when required. The code is annotated for clarity."
   ]
  },
  {
   "cell_type": "markdown",
   "id": "4d2f13d1",
   "metadata": {},
   "source": [
    "Here are the basics for the long-only strategy.\n",
    "\n",
    "I split the data on training and testing sets, chronologically.\n",
    "\n",
    "With the training data, I generate a beta for predicted returns using rolling tradeflow.\n",
    "\n",
    "Using this beta, I predict returns on the test data.\n",
    "\n",
    "When out test data return predictions are above a predetermined level, I enter the trade. When the returns are predicted to go back down, I exit the trade."
   ]
  },
  {
   "cell_type": "markdown",
   "id": "254a9325",
   "metadata": {},
   "source": [
    "As a reminder, this is what the data looks like."
   ]
  },
  {
   "cell_type": "code",
   "execution_count": 493,
   "id": "5caa2259",
   "metadata": {},
   "outputs": [
    {
     "data": {
      "text/html": [
       "<div>\n",
       "<style scoped>\n",
       "    .dataframe tbody tr th:only-of-type {\n",
       "        vertical-align: middle;\n",
       "    }\n",
       "\n",
       "    .dataframe tbody tr th {\n",
       "        vertical-align: top;\n",
       "    }\n",
       "\n",
       "    .dataframe thead th {\n",
       "        text-align: right;\n",
       "    }\n",
       "</style>\n",
       "<table border=\"1\" class=\"dataframe\">\n",
       "  <thead>\n",
       "    <tr style=\"text-align: right;\">\n",
       "      <th></th>\n",
       "      <th>PriceMillionths</th>\n",
       "      <th>SizeBillionths</th>\n",
       "      <th>Tradeflow</th>\n",
       "      <th>returns</th>\n",
       "    </tr>\n",
       "    <tr>\n",
       "      <th>time</th>\n",
       "      <th></th>\n",
       "      <th></th>\n",
       "      <th></th>\n",
       "      <th></th>\n",
       "    </tr>\n",
       "  </thead>\n",
       "  <tbody>\n",
       "    <tr>\n",
       "      <th>2023-01-24 00:47:48</th>\n",
       "      <td>2.296767e+10</td>\n",
       "      <td>273053410</td>\n",
       "      <td>6.211442e+18</td>\n",
       "      <td>-6.486959e-05</td>\n",
       "    </tr>\n",
       "    <tr>\n",
       "      <th>2023-01-24 00:47:49</th>\n",
       "      <td>2.297080e+10</td>\n",
       "      <td>589020180</td>\n",
       "      <td>1.341303e+19</td>\n",
       "      <td>1.362785e-04</td>\n",
       "    </tr>\n",
       "    <tr>\n",
       "      <th>2023-01-24 00:47:50</th>\n",
       "      <td>2.297304e+10</td>\n",
       "      <td>305021280</td>\n",
       "      <td>7.006904e+18</td>\n",
       "      <td>9.751511e-05</td>\n",
       "    </tr>\n",
       "    <tr>\n",
       "      <th>2023-01-24 00:47:51</th>\n",
       "      <td>2.297434e+10</td>\n",
       "      <td>1610050380</td>\n",
       "      <td>-2.498973e+17</td>\n",
       "      <td>5.658807e-05</td>\n",
       "    </tr>\n",
       "    <tr>\n",
       "      <th>2023-01-24 00:47:52</th>\n",
       "      <td>2.297323e+10</td>\n",
       "      <td>26198090</td>\n",
       "      <td>6.018544e+17</td>\n",
       "      <td>-4.831477e-05</td>\n",
       "    </tr>\n",
       "    <tr>\n",
       "      <th>...</th>\n",
       "      <td>...</td>\n",
       "      <td>...</td>\n",
       "      <td>...</td>\n",
       "      <td>...</td>\n",
       "    </tr>\n",
       "    <tr>\n",
       "      <th>2023-01-25 15:49:57</th>\n",
       "      <td>2.257980e+10</td>\n",
       "      <td>50775320</td>\n",
       "      <td>1.146496e+18</td>\n",
       "      <td>4.428739e-07</td>\n",
       "    </tr>\n",
       "    <tr>\n",
       "      <th>2023-01-25 15:49:58</th>\n",
       "      <td>2.257946e+10</td>\n",
       "      <td>828210210</td>\n",
       "      <td>-1.869213e+19</td>\n",
       "      <td>-1.505771e-05</td>\n",
       "    </tr>\n",
       "    <tr>\n",
       "      <th>2023-01-25 15:49:59</th>\n",
       "      <td>2.257918e+10</td>\n",
       "      <td>592230</td>\n",
       "      <td>1.337207e+16</td>\n",
       "      <td>-1.240065e-05</td>\n",
       "    </tr>\n",
       "    <tr>\n",
       "      <th>2023-01-25 15:50:00</th>\n",
       "      <td>2.257339e+10</td>\n",
       "      <td>280834910</td>\n",
       "      <td>-6.264620e+18</td>\n",
       "      <td>-2.564309e-04</td>\n",
       "    </tr>\n",
       "    <tr>\n",
       "      <th>2023-01-25 15:50:01</th>\n",
       "      <td>2.257092e+10</td>\n",
       "      <td>550155380</td>\n",
       "      <td>-1.165305e+19</td>\n",
       "      <td>-1.094209e-04</td>\n",
       "    </tr>\n",
       "  </tbody>\n",
       "</table>\n",
       "<p>85654 rows × 4 columns</p>\n",
       "</div>"
      ],
      "text/plain": [
       "                     PriceMillionths  SizeBillionths     Tradeflow  \\\n",
       "time                                                                 \n",
       "2023-01-24 00:47:48     2.296767e+10       273053410  6.211442e+18   \n",
       "2023-01-24 00:47:49     2.297080e+10       589020180  1.341303e+19   \n",
       "2023-01-24 00:47:50     2.297304e+10       305021280  7.006904e+18   \n",
       "2023-01-24 00:47:51     2.297434e+10      1610050380 -2.498973e+17   \n",
       "2023-01-24 00:47:52     2.297323e+10        26198090  6.018544e+17   \n",
       "...                              ...             ...           ...   \n",
       "2023-01-25 15:49:57     2.257980e+10        50775320  1.146496e+18   \n",
       "2023-01-25 15:49:58     2.257946e+10       828210210 -1.869213e+19   \n",
       "2023-01-25 15:49:59     2.257918e+10          592230  1.337207e+16   \n",
       "2023-01-25 15:50:00     2.257339e+10       280834910 -6.264620e+18   \n",
       "2023-01-25 15:50:01     2.257092e+10       550155380 -1.165305e+19   \n",
       "\n",
       "                          returns  \n",
       "time                               \n",
       "2023-01-24 00:47:48 -6.486959e-05  \n",
       "2023-01-24 00:47:49  1.362785e-04  \n",
       "2023-01-24 00:47:50  9.751511e-05  \n",
       "2023-01-24 00:47:51  5.658807e-05  \n",
       "2023-01-24 00:47:52 -4.831477e-05  \n",
       "...                           ...  \n",
       "2023-01-25 15:49:57  4.428739e-07  \n",
       "2023-01-25 15:49:58 -1.505771e-05  \n",
       "2023-01-25 15:49:59 -1.240065e-05  \n",
       "2023-01-25 15:50:00 -2.564309e-04  \n",
       "2023-01-25 15:50:01 -1.094209e-04  \n",
       "\n",
       "[85654 rows x 4 columns]"
      ]
     },
     "execution_count": 493,
     "metadata": {},
     "output_type": "execute_result"
    }
   ],
   "source": [
    "BTC_USD_2023"
   ]
  },
  {
   "cell_type": "code",
   "execution_count": 592,
   "id": "e420846d",
   "metadata": {},
   "outputs": [
    {
     "data": {
      "text/html": [
       "<div>\n",
       "<style scoped>\n",
       "    .dataframe tbody tr th:only-of-type {\n",
       "        vertical-align: middle;\n",
       "    }\n",
       "\n",
       "    .dataframe tbody tr th {\n",
       "        vertical-align: top;\n",
       "    }\n",
       "\n",
       "    .dataframe thead th {\n",
       "        text-align: right;\n",
       "    }\n",
       "</style>\n",
       "<table border=\"1\" class=\"dataframe\">\n",
       "  <thead>\n",
       "    <tr style=\"text-align: right;\">\n",
       "      <th></th>\n",
       "      <th>PriceMillionths</th>\n",
       "      <th>SizeBillionths</th>\n",
       "      <th>Tradeflow</th>\n",
       "      <th>returns</th>\n",
       "      <th>rollingTradeflow</th>\n",
       "      <th>pred_returns</th>\n",
       "      <th>trigger</th>\n",
       "      <th>Cash</th>\n",
       "      <th>Position</th>\n",
       "      <th>Pnl</th>\n",
       "      <th>cumpnl</th>\n",
       "    </tr>\n",
       "    <tr>\n",
       "      <th>time</th>\n",
       "      <th></th>\n",
       "      <th></th>\n",
       "      <th></th>\n",
       "      <th></th>\n",
       "      <th></th>\n",
       "      <th></th>\n",
       "      <th></th>\n",
       "      <th></th>\n",
       "      <th></th>\n",
       "      <th></th>\n",
       "      <th></th>\n",
       "    </tr>\n",
       "  </thead>\n",
       "  <tbody>\n",
       "    <tr>\n",
       "      <th>2022-02-03 05:53:18</th>\n",
       "      <td>3.697001e+10</td>\n",
       "      <td>8155590</td>\n",
       "      <td>3.015122e+17</td>\n",
       "      <td>0.000000</td>\n",
       "      <td>-1.334931e+19</td>\n",
       "      <td>-2.711903e-07</td>\n",
       "      <td>0</td>\n",
       "      <td>0.0</td>\n",
       "      <td>0.0</td>\n",
       "      <td>0.0</td>\n",
       "      <td>0.000000</td>\n",
       "    </tr>\n",
       "    <tr>\n",
       "      <th>2022-02-03 05:53:19</th>\n",
       "      <td>3.697001e+10</td>\n",
       "      <td>3602390</td>\n",
       "      <td>1.331804e+17</td>\n",
       "      <td>0.000000</td>\n",
       "      <td>-1.311693e+19</td>\n",
       "      <td>-2.664695e-07</td>\n",
       "      <td>0</td>\n",
       "      <td>0.0</td>\n",
       "      <td>0.0</td>\n",
       "      <td>0.0</td>\n",
       "      <td>0.000000</td>\n",
       "    </tr>\n",
       "    <tr>\n",
       "      <th>2022-02-03 05:53:20</th>\n",
       "      <td>3.698295e+10</td>\n",
       "      <td>563800810</td>\n",
       "      <td>2.084668e+19</td>\n",
       "      <td>0.000350</td>\n",
       "      <td>-1.318470e+19</td>\n",
       "      <td>-2.678461e-07</td>\n",
       "      <td>0</td>\n",
       "      <td>0.0</td>\n",
       "      <td>0.0</td>\n",
       "      <td>0.0</td>\n",
       "      <td>0.000000</td>\n",
       "    </tr>\n",
       "    <tr>\n",
       "      <th>2022-02-03 05:53:21</th>\n",
       "      <td>3.697727e+10</td>\n",
       "      <td>68227180</td>\n",
       "      <td>-2.457161e+18</td>\n",
       "      <td>-0.000154</td>\n",
       "      <td>7.392586e+18</td>\n",
       "      <td>1.501798e-07</td>\n",
       "      <td>0</td>\n",
       "      <td>0.0</td>\n",
       "      <td>0.0</td>\n",
       "      <td>0.0</td>\n",
       "      <td>0.000000</td>\n",
       "    </tr>\n",
       "    <tr>\n",
       "      <th>2022-02-03 05:53:23</th>\n",
       "      <td>3.697873e+10</td>\n",
       "      <td>134700</td>\n",
       "      <td>4.981035e+15</td>\n",
       "      <td>0.000039</td>\n",
       "      <td>1.315570e+19</td>\n",
       "      <td>2.672571e-07</td>\n",
       "      <td>0</td>\n",
       "      <td>0.0</td>\n",
       "      <td>0.0</td>\n",
       "      <td>0.0</td>\n",
       "      <td>0.000000</td>\n",
       "    </tr>\n",
       "    <tr>\n",
       "      <th>...</th>\n",
       "      <td>...</td>\n",
       "      <td>...</td>\n",
       "      <td>...</td>\n",
       "      <td>...</td>\n",
       "      <td>...</td>\n",
       "      <td>...</td>\n",
       "      <td>...</td>\n",
       "      <td>...</td>\n",
       "      <td>...</td>\n",
       "      <td>...</td>\n",
       "      <td>...</td>\n",
       "    </tr>\n",
       "    <tr>\n",
       "      <th>2022-02-05 01:29:51</th>\n",
       "      <td>4.139201e+10</td>\n",
       "      <td>209535020</td>\n",
       "      <td>2.385051e+18</td>\n",
       "      <td>0.000216</td>\n",
       "      <td>-1.731604e+19</td>\n",
       "      <td>-3.517740e-07</td>\n",
       "      <td>0</td>\n",
       "      <td>0.0</td>\n",
       "      <td>0.0</td>\n",
       "      <td>0.0</td>\n",
       "      <td>0.035806</td>\n",
       "    </tr>\n",
       "    <tr>\n",
       "      <th>2022-02-05 01:29:52</th>\n",
       "      <td>4.139810e+10</td>\n",
       "      <td>14826440</td>\n",
       "      <td>6.137498e+17</td>\n",
       "      <td>0.000147</td>\n",
       "      <td>-1.359651e+19</td>\n",
       "      <td>-2.762122e-07</td>\n",
       "      <td>0</td>\n",
       "      <td>0.0</td>\n",
       "      <td>0.0</td>\n",
       "      <td>0.0</td>\n",
       "      <td>0.035806</td>\n",
       "    </tr>\n",
       "    <tr>\n",
       "      <th>2022-02-05 01:29:53</th>\n",
       "      <td>4.139831e+10</td>\n",
       "      <td>90899050</td>\n",
       "      <td>-3.423022e+18</td>\n",
       "      <td>0.000005</td>\n",
       "      <td>-9.689482e+18</td>\n",
       "      <td>-1.968411e-07</td>\n",
       "      <td>0</td>\n",
       "      <td>0.0</td>\n",
       "      <td>0.0</td>\n",
       "      <td>0.0</td>\n",
       "      <td>0.035806</td>\n",
       "    </tr>\n",
       "    <tr>\n",
       "      <th>2022-02-05 01:29:54</th>\n",
       "      <td>4.139582e+10</td>\n",
       "      <td>15061000</td>\n",
       "      <td>5.844903e+17</td>\n",
       "      <td>-0.000060</td>\n",
       "      <td>-1.349054e+19</td>\n",
       "      <td>-2.740592e-07</td>\n",
       "      <td>0</td>\n",
       "      <td>0.0</td>\n",
       "      <td>0.0</td>\n",
       "      <td>0.0</td>\n",
       "      <td>0.035806</td>\n",
       "    </tr>\n",
       "    <tr>\n",
       "      <th>2022-02-05 01:29:55</th>\n",
       "      <td>4.140029e+10</td>\n",
       "      <td>9093510</td>\n",
       "      <td>3.764750e+17</td>\n",
       "      <td>0.000108</td>\n",
       "      <td>-1.301356e+19</td>\n",
       "      <td>-2.643695e-07</td>\n",
       "      <td>0</td>\n",
       "      <td>0.0</td>\n",
       "      <td>0.0</td>\n",
       "      <td>0.0</td>\n",
       "      <td>0.035806</td>\n",
       "    </tr>\n",
       "  </tbody>\n",
       "</table>\n",
       "<p>144480 rows × 11 columns</p>\n",
       "</div>"
      ],
      "text/plain": [
       "                     PriceMillionths  SizeBillionths     Tradeflow   returns  \\\n",
       "time                                                                           \n",
       "2022-02-03 05:53:18     3.697001e+10         8155590  3.015122e+17  0.000000   \n",
       "2022-02-03 05:53:19     3.697001e+10         3602390  1.331804e+17  0.000000   \n",
       "2022-02-03 05:53:20     3.698295e+10       563800810  2.084668e+19  0.000350   \n",
       "2022-02-03 05:53:21     3.697727e+10        68227180 -2.457161e+18 -0.000154   \n",
       "2022-02-03 05:53:23     3.697873e+10          134700  4.981035e+15  0.000039   \n",
       "...                              ...             ...           ...       ...   \n",
       "2022-02-05 01:29:51     4.139201e+10       209535020  2.385051e+18  0.000216   \n",
       "2022-02-05 01:29:52     4.139810e+10        14826440  6.137498e+17  0.000147   \n",
       "2022-02-05 01:29:53     4.139831e+10        90899050 -3.423022e+18  0.000005   \n",
       "2022-02-05 01:29:54     4.139582e+10        15061000  5.844903e+17 -0.000060   \n",
       "2022-02-05 01:29:55     4.140029e+10         9093510  3.764750e+17  0.000108   \n",
       "\n",
       "                     rollingTradeflow  pred_returns  trigger  Cash  Position  \\\n",
       "time                                                                           \n",
       "2022-02-03 05:53:18     -1.334931e+19 -2.711903e-07        0   0.0       0.0   \n",
       "2022-02-03 05:53:19     -1.311693e+19 -2.664695e-07        0   0.0       0.0   \n",
       "2022-02-03 05:53:20     -1.318470e+19 -2.678461e-07        0   0.0       0.0   \n",
       "2022-02-03 05:53:21      7.392586e+18  1.501798e-07        0   0.0       0.0   \n",
       "2022-02-03 05:53:23      1.315570e+19  2.672571e-07        0   0.0       0.0   \n",
       "...                               ...           ...      ...   ...       ...   \n",
       "2022-02-05 01:29:51     -1.731604e+19 -3.517740e-07        0   0.0       0.0   \n",
       "2022-02-05 01:29:52     -1.359651e+19 -2.762122e-07        0   0.0       0.0   \n",
       "2022-02-05 01:29:53     -9.689482e+18 -1.968411e-07        0   0.0       0.0   \n",
       "2022-02-05 01:29:54     -1.349054e+19 -2.740592e-07        0   0.0       0.0   \n",
       "2022-02-05 01:29:55     -1.301356e+19 -2.643695e-07        0   0.0       0.0   \n",
       "\n",
       "                     Pnl    cumpnl  \n",
       "time                                \n",
       "2022-02-03 05:53:18  0.0  0.000000  \n",
       "2022-02-03 05:53:19  0.0  0.000000  \n",
       "2022-02-03 05:53:20  0.0  0.000000  \n",
       "2022-02-03 05:53:21  0.0  0.000000  \n",
       "2022-02-03 05:53:23  0.0  0.000000  \n",
       "...                  ...       ...  \n",
       "2022-02-05 01:29:51  0.0  0.035806  \n",
       "2022-02-05 01:29:52  0.0  0.035806  \n",
       "2022-02-05 01:29:53  0.0  0.035806  \n",
       "2022-02-05 01:29:54  0.0  0.035806  \n",
       "2022-02-05 01:29:55  0.0  0.035806  \n",
       "\n",
       "[144480 rows x 11 columns]"
      ]
     },
     "execution_count": 592,
     "metadata": {},
     "output_type": "execute_result"
    }
   ],
   "source": [
    "VPIN(BTC_USD_2022,30,0.5)"
   ]
  },
  {
   "cell_type": "code",
   "execution_count": 623,
   "id": "8bfdd89a",
   "metadata": {},
   "outputs": [],
   "source": [
    "def VPIN(dataset, window, j):\n",
    "    \n",
    "    #this part calculates a rolling trade flow based on the window input\n",
    "    dataset['rollingTradeflow'] = dataset['Tradeflow'].rolling(window,closed = 'left').sum()\n",
    "    dataset=dataset.dropna(axis=0)\n",
    "    \n",
    "    #this part splits the data for training and testing purposes\n",
    "    train, test = train_test_split(dataset, test_size=0.3,shuffle = False)\n",
    "    beta = sm.OLS(train['returns'],train['rollingTradeflow']).fit().params[0]\n",
    "    \n",
    "    #this part predicts the returns with our beta and tradeflow\n",
    "    test['pred_returns'] = test['rollingTradeflow'] * beta\n",
    "    dataset = test\n",
    "    \n",
    "    #this is the calculation of the level and trigger\n",
    "    levelhigh = dataset['pred_returns'].mean() + dataset['pred_returns'].std()*j\n",
    "    levellow = dataset['pred_returns'].mean() + dataset['pred_returns'].std()*j/2\n",
    "    dataset['trigger'] = np.where(dataset['pred_returns']>levelhigh, 1, 0)\n",
    "    dataset['exit'] = np.where(dataset['pred_returns']>levellow, 1, 0)\n",
    "    \n",
    "    df = dataset.copy()\n",
    "    df['Cash']=0.0\n",
    "    df['Position']=0.0\n",
    "    df['Pnl']=0.0\n",
    "    tradetracker = 0\n",
    "    for today in df.index:\n",
    "        \n",
    "        #if on first day we need to enter, then enter into a trade\n",
    "        if today == df.index[0]:\n",
    "            if df.loc[today,'trigger'] > 0:\n",
    "                df.loc[today,'Position'] = 1 / df.loc[today,'PriceMillionths']\n",
    "                df.loc[today,'Cash'] = - 1 \n",
    "                tradetracker += 1\n",
    "        \n",
    "        #if on last day we still hold equity, sell it off\n",
    "        elif today == df.index[-1]:\n",
    "            if df.loc[yesterday,'Position'] >0.0:\n",
    "                df.loc[today,'Cash'] = df.loc[yesterday,'Position'] * df.loc[today,'PriceMillionths'] \n",
    "                df.loc[today,'Position'] = 0.0\n",
    "                df.loc[today,'Pnl'] = df.loc[today,'Cash'] - 1\n",
    "                tradetracker +1\n",
    "        else:\n",
    "            \n",
    "            #if we are not holding anything and the expected future returns are high enough, enter trade\n",
    "            if df.loc[today,'trigger'] > 0 and df.loc[yesterday,'Position']==0: \n",
    "                df.loc[today,'Position'] = 1 / df.loc[today,'PriceMillionths']\n",
    "                df.loc[today,'Cash'] = - 1\n",
    "                tradetracker += 1\n",
    "                \n",
    "            #if we are holding equity but the predicted returns are low enough, exit position\n",
    "            elif df.loc[today,'exit'] == 0 and df.loc[yesterday,'Position']>0.0: \n",
    "                df.loc[today,'Cash'] = df.loc[yesterday,'Position'] * df.loc[today,'PriceMillionths']    \n",
    "                df.loc[today,'Position'] = 0.0\n",
    "                df.loc[today,'Pnl'] = df.loc[today,'Cash'] - 1\n",
    "\n",
    "                tradetracker += 1\n",
    "            \n",
    "            #if we are holding but predicted returns are still high, hold\n",
    "            else:\n",
    "                df.loc[today,'Position'] = df.loc[yesterday,'Position'] \n",
    "        yesterday=today\n",
    "    df['cumpnl'] = df['Pnl'].cumsum()\n",
    "    return [df,tradetracker]\n"
   ]
  },
  {
   "cell_type": "markdown",
   "id": "59db5b49",
   "metadata": {},
   "source": [
    "Here is a sample output for the BTC_USD dataset."
   ]
  },
  {
   "cell_type": "code",
   "execution_count": 625,
   "id": "f4512861",
   "metadata": {},
   "outputs": [],
   "source": [
    "sample = VPIN(BTC_USD_2022,30,0.5)"
   ]
  },
  {
   "cell_type": "code",
   "execution_count": 626,
   "id": "a6978cd2",
   "metadata": {},
   "outputs": [
    {
     "data": {
      "text/html": [
       "<div>\n",
       "<style scoped>\n",
       "    .dataframe tbody tr th:only-of-type {\n",
       "        vertical-align: middle;\n",
       "    }\n",
       "\n",
       "    .dataframe tbody tr th {\n",
       "        vertical-align: top;\n",
       "    }\n",
       "\n",
       "    .dataframe thead th {\n",
       "        text-align: right;\n",
       "    }\n",
       "</style>\n",
       "<table border=\"1\" class=\"dataframe\">\n",
       "  <thead>\n",
       "    <tr style=\"text-align: right;\">\n",
       "      <th></th>\n",
       "      <th>PriceMillionths</th>\n",
       "      <th>SizeBillionths</th>\n",
       "      <th>Tradeflow</th>\n",
       "      <th>returns</th>\n",
       "      <th>rollingTradeflow</th>\n",
       "      <th>pred_returns</th>\n",
       "      <th>trigger</th>\n",
       "      <th>exit</th>\n",
       "      <th>Cash</th>\n",
       "      <th>Position</th>\n",
       "      <th>Pnl</th>\n",
       "      <th>cumpnl</th>\n",
       "    </tr>\n",
       "    <tr>\n",
       "      <th>time</th>\n",
       "      <th></th>\n",
       "      <th></th>\n",
       "      <th></th>\n",
       "      <th></th>\n",
       "      <th></th>\n",
       "      <th></th>\n",
       "      <th></th>\n",
       "      <th></th>\n",
       "      <th></th>\n",
       "      <th></th>\n",
       "      <th></th>\n",
       "      <th></th>\n",
       "    </tr>\n",
       "  </thead>\n",
       "  <tbody>\n",
       "    <tr>\n",
       "      <th>2022-02-03 05:53:18</th>\n",
       "      <td>3.697001e+10</td>\n",
       "      <td>8155590</td>\n",
       "      <td>3.015122e+17</td>\n",
       "      <td>0.000000</td>\n",
       "      <td>-1.334931e+19</td>\n",
       "      <td>-2.711903e-07</td>\n",
       "      <td>0</td>\n",
       "      <td>0</td>\n",
       "      <td>0.0</td>\n",
       "      <td>0.0</td>\n",
       "      <td>0.0</td>\n",
       "      <td>0.000000</td>\n",
       "    </tr>\n",
       "    <tr>\n",
       "      <th>2022-02-03 05:53:19</th>\n",
       "      <td>3.697001e+10</td>\n",
       "      <td>3602390</td>\n",
       "      <td>1.331804e+17</td>\n",
       "      <td>0.000000</td>\n",
       "      <td>-1.311693e+19</td>\n",
       "      <td>-2.664695e-07</td>\n",
       "      <td>0</td>\n",
       "      <td>0</td>\n",
       "      <td>0.0</td>\n",
       "      <td>0.0</td>\n",
       "      <td>0.0</td>\n",
       "      <td>0.000000</td>\n",
       "    </tr>\n",
       "    <tr>\n",
       "      <th>2022-02-03 05:53:20</th>\n",
       "      <td>3.698295e+10</td>\n",
       "      <td>563800810</td>\n",
       "      <td>2.084668e+19</td>\n",
       "      <td>0.000350</td>\n",
       "      <td>-1.318470e+19</td>\n",
       "      <td>-2.678461e-07</td>\n",
       "      <td>0</td>\n",
       "      <td>0</td>\n",
       "      <td>0.0</td>\n",
       "      <td>0.0</td>\n",
       "      <td>0.0</td>\n",
       "      <td>0.000000</td>\n",
       "    </tr>\n",
       "    <tr>\n",
       "      <th>2022-02-03 05:53:21</th>\n",
       "      <td>3.697727e+10</td>\n",
       "      <td>68227180</td>\n",
       "      <td>-2.457161e+18</td>\n",
       "      <td>-0.000154</td>\n",
       "      <td>7.392586e+18</td>\n",
       "      <td>1.501798e-07</td>\n",
       "      <td>0</td>\n",
       "      <td>0</td>\n",
       "      <td>0.0</td>\n",
       "      <td>0.0</td>\n",
       "      <td>0.0</td>\n",
       "      <td>0.000000</td>\n",
       "    </tr>\n",
       "    <tr>\n",
       "      <th>2022-02-03 05:53:23</th>\n",
       "      <td>3.697873e+10</td>\n",
       "      <td>134700</td>\n",
       "      <td>4.981035e+15</td>\n",
       "      <td>0.000039</td>\n",
       "      <td>1.315570e+19</td>\n",
       "      <td>2.672571e-07</td>\n",
       "      <td>0</td>\n",
       "      <td>0</td>\n",
       "      <td>0.0</td>\n",
       "      <td>0.0</td>\n",
       "      <td>0.0</td>\n",
       "      <td>0.000000</td>\n",
       "    </tr>\n",
       "    <tr>\n",
       "      <th>...</th>\n",
       "      <td>...</td>\n",
       "      <td>...</td>\n",
       "      <td>...</td>\n",
       "      <td>...</td>\n",
       "      <td>...</td>\n",
       "      <td>...</td>\n",
       "      <td>...</td>\n",
       "      <td>...</td>\n",
       "      <td>...</td>\n",
       "      <td>...</td>\n",
       "      <td>...</td>\n",
       "      <td>...</td>\n",
       "    </tr>\n",
       "    <tr>\n",
       "      <th>2022-02-05 01:29:51</th>\n",
       "      <td>4.139201e+10</td>\n",
       "      <td>209535020</td>\n",
       "      <td>2.385051e+18</td>\n",
       "      <td>0.000216</td>\n",
       "      <td>-1.731604e+19</td>\n",
       "      <td>-3.517740e-07</td>\n",
       "      <td>0</td>\n",
       "      <td>0</td>\n",
       "      <td>0.0</td>\n",
       "      <td>0.0</td>\n",
       "      <td>0.0</td>\n",
       "      <td>0.042023</td>\n",
       "    </tr>\n",
       "    <tr>\n",
       "      <th>2022-02-05 01:29:52</th>\n",
       "      <td>4.139810e+10</td>\n",
       "      <td>14826440</td>\n",
       "      <td>6.137498e+17</td>\n",
       "      <td>0.000147</td>\n",
       "      <td>-1.359651e+19</td>\n",
       "      <td>-2.762122e-07</td>\n",
       "      <td>0</td>\n",
       "      <td>0</td>\n",
       "      <td>0.0</td>\n",
       "      <td>0.0</td>\n",
       "      <td>0.0</td>\n",
       "      <td>0.042023</td>\n",
       "    </tr>\n",
       "    <tr>\n",
       "      <th>2022-02-05 01:29:53</th>\n",
       "      <td>4.139831e+10</td>\n",
       "      <td>90899050</td>\n",
       "      <td>-3.423022e+18</td>\n",
       "      <td>0.000005</td>\n",
       "      <td>-9.689482e+18</td>\n",
       "      <td>-1.968411e-07</td>\n",
       "      <td>0</td>\n",
       "      <td>0</td>\n",
       "      <td>0.0</td>\n",
       "      <td>0.0</td>\n",
       "      <td>0.0</td>\n",
       "      <td>0.042023</td>\n",
       "    </tr>\n",
       "    <tr>\n",
       "      <th>2022-02-05 01:29:54</th>\n",
       "      <td>4.139582e+10</td>\n",
       "      <td>15061000</td>\n",
       "      <td>5.844903e+17</td>\n",
       "      <td>-0.000060</td>\n",
       "      <td>-1.349054e+19</td>\n",
       "      <td>-2.740592e-07</td>\n",
       "      <td>0</td>\n",
       "      <td>0</td>\n",
       "      <td>0.0</td>\n",
       "      <td>0.0</td>\n",
       "      <td>0.0</td>\n",
       "      <td>0.042023</td>\n",
       "    </tr>\n",
       "    <tr>\n",
       "      <th>2022-02-05 01:29:55</th>\n",
       "      <td>4.140029e+10</td>\n",
       "      <td>9093510</td>\n",
       "      <td>3.764750e+17</td>\n",
       "      <td>0.000108</td>\n",
       "      <td>-1.301356e+19</td>\n",
       "      <td>-2.643695e-07</td>\n",
       "      <td>0</td>\n",
       "      <td>0</td>\n",
       "      <td>0.0</td>\n",
       "      <td>0.0</td>\n",
       "      <td>0.0</td>\n",
       "      <td>0.042023</td>\n",
       "    </tr>\n",
       "  </tbody>\n",
       "</table>\n",
       "<p>144480 rows × 12 columns</p>\n",
       "</div>"
      ],
      "text/plain": [
       "                     PriceMillionths  SizeBillionths     Tradeflow   returns  \\\n",
       "time                                                                           \n",
       "2022-02-03 05:53:18     3.697001e+10         8155590  3.015122e+17  0.000000   \n",
       "2022-02-03 05:53:19     3.697001e+10         3602390  1.331804e+17  0.000000   \n",
       "2022-02-03 05:53:20     3.698295e+10       563800810  2.084668e+19  0.000350   \n",
       "2022-02-03 05:53:21     3.697727e+10        68227180 -2.457161e+18 -0.000154   \n",
       "2022-02-03 05:53:23     3.697873e+10          134700  4.981035e+15  0.000039   \n",
       "...                              ...             ...           ...       ...   \n",
       "2022-02-05 01:29:51     4.139201e+10       209535020  2.385051e+18  0.000216   \n",
       "2022-02-05 01:29:52     4.139810e+10        14826440  6.137498e+17  0.000147   \n",
       "2022-02-05 01:29:53     4.139831e+10        90899050 -3.423022e+18  0.000005   \n",
       "2022-02-05 01:29:54     4.139582e+10        15061000  5.844903e+17 -0.000060   \n",
       "2022-02-05 01:29:55     4.140029e+10         9093510  3.764750e+17  0.000108   \n",
       "\n",
       "                     rollingTradeflow  pred_returns  trigger  exit  Cash  \\\n",
       "time                                                                       \n",
       "2022-02-03 05:53:18     -1.334931e+19 -2.711903e-07        0     0   0.0   \n",
       "2022-02-03 05:53:19     -1.311693e+19 -2.664695e-07        0     0   0.0   \n",
       "2022-02-03 05:53:20     -1.318470e+19 -2.678461e-07        0     0   0.0   \n",
       "2022-02-03 05:53:21      7.392586e+18  1.501798e-07        0     0   0.0   \n",
       "2022-02-03 05:53:23      1.315570e+19  2.672571e-07        0     0   0.0   \n",
       "...                               ...           ...      ...   ...   ...   \n",
       "2022-02-05 01:29:51     -1.731604e+19 -3.517740e-07        0     0   0.0   \n",
       "2022-02-05 01:29:52     -1.359651e+19 -2.762122e-07        0     0   0.0   \n",
       "2022-02-05 01:29:53     -9.689482e+18 -1.968411e-07        0     0   0.0   \n",
       "2022-02-05 01:29:54     -1.349054e+19 -2.740592e-07        0     0   0.0   \n",
       "2022-02-05 01:29:55     -1.301356e+19 -2.643695e-07        0     0   0.0   \n",
       "\n",
       "                     Position  Pnl    cumpnl  \n",
       "time                                          \n",
       "2022-02-03 05:53:18       0.0  0.0  0.000000  \n",
       "2022-02-03 05:53:19       0.0  0.0  0.000000  \n",
       "2022-02-03 05:53:20       0.0  0.0  0.000000  \n",
       "2022-02-03 05:53:21       0.0  0.0  0.000000  \n",
       "2022-02-03 05:53:23       0.0  0.0  0.000000  \n",
       "...                       ...  ...       ...  \n",
       "2022-02-05 01:29:51       0.0  0.0  0.042023  \n",
       "2022-02-05 01:29:52       0.0  0.0  0.042023  \n",
       "2022-02-05 01:29:53       0.0  0.0  0.042023  \n",
       "2022-02-05 01:29:54       0.0  0.0  0.042023  \n",
       "2022-02-05 01:29:55       0.0  0.0  0.042023  \n",
       "\n",
       "[144480 rows x 12 columns]"
      ]
     },
     "execution_count": 626,
     "metadata": {},
     "output_type": "execute_result"
    }
   ],
   "source": [
    "sample[0]"
   ]
  },
  {
   "cell_type": "code",
   "execution_count": 627,
   "id": "01aa33ae",
   "metadata": {},
   "outputs": [
    {
     "data": {
      "text/plain": [
       "3700"
      ]
     },
     "execution_count": 627,
     "metadata": {},
     "output_type": "execute_result"
    }
   ],
   "source": [
    "sample[1]"
   ]
  },
  {
   "cell_type": "markdown",
   "id": "2fcc6885",
   "metadata": {},
   "source": [
    "This shows that the pnl was 4.2% over 3700 trades for a window of 30 seconds and a j equal to 0.5."
   ]
  },
  {
   "cell_type": "markdown",
   "id": "ed77cbcb",
   "metadata": {},
   "source": [
    "Now we will seek to optimize over the window and over the level (the level is determined by j)."
   ]
  },
  {
   "cell_type": "code",
   "execution_count": 780,
   "id": "2744845d",
   "metadata": {},
   "outputs": [
    {
     "data": {
      "text/plain": [
       "array([0. , 0.5, 1. , 1.5, 2. , 2.5])"
      ]
     },
     "execution_count": 780,
     "metadata": {},
     "output_type": "execute_result"
    }
   ],
   "source": [
    "np.arange(0,3,0.5)"
   ]
  },
  {
   "cell_type": "markdown",
   "id": "7e71a4ea",
   "metadata": {},
   "source": [
    "This function finds the optimal window and j for a training dataset, for the long or double strategy."
   ]
  },
  {
   "cell_type": "code",
   "execution_count": 969,
   "id": "67f871ba",
   "metadata": {},
   "outputs": [],
   "source": [
    "def find_optimal(dataset,long_or_double):\n",
    "    \n",
    "    df = pd.DataFrame(columns =[0,0.5,1,1.5,2,2.5] , index = [5,10,30,50,100,200,500])\n",
    "    train, test = train_test_split(dataset, test_size=0.3,shuffle = False)\n",
    "    ma = 0\n",
    "    if long_or_double=='long':\n",
    "        \n",
    "        #looping over windows\n",
    "        for w in [5,10,30,50,100,200,500]:\n",
    "            print('1/8')\n",
    "            \n",
    "            #looping over levels\n",
    "            for j in np.arange(0,3,0.5):\n",
    "                print('lap 1')\n",
    "                df.loc[w,j] = VPIN(train, w, j)[0]['cumpnl'][-1]\n",
    "                if df.loc[w,j]>ma:\n",
    "                    finalw = w\n",
    "                    finalj = j\n",
    "                    ma = df.loc[w,j]\n",
    "    if long_or_double=='double':\n",
    "        for w in [5,10,30,50,100,200,500]:\n",
    "            print('1/8')\n",
    "            for j in np.arange(0,3,0.5):\n",
    "                df.loc[w,j] = VPINdouble(train, w, j)[0]['cumpnl'][-1]\n",
    "                if df.loc[w,j]>ma:\n",
    "                    finalw = w\n",
    "                    finalj = j\n",
    "                    ma = df.loc[w,j]\n",
    "\n",
    "    return [finalw,finalj]"
   ]
  },
  {
   "cell_type": "code",
   "execution_count": 851,
   "id": "1f058524",
   "metadata": {},
   "outputs": [
    {
     "name": "stdout",
     "output_type": "stream",
     "text": [
      "1/8\n",
      "1/8\n",
      "1/8\n",
      "1/8\n",
      "1/8\n",
      "1/8\n",
      "1/8\n",
      "1/8\n"
     ]
    }
   ],
   "source": [
    "optimal_parameters_long = pd.DataFrame(columns =[0,0.5,1,1.5,2,2.5] , index = [5,10,30,50,100,200,500])\n",
    "train, test = train_test_split(BTC_USD_2023[:2000], test_size=0.3,shuffle = False)\n",
    "t = 0\n",
    "for w in [5,10,30,50,100,200,500]:\n",
    "    print('1/8')\n",
    "        \n",
    "    for j in np.arange(0,3,0.5):\n",
    "        optimal_parameters_long.loc[w,j] = VPIN(train, w, j)[0]['cumpnl'][-1]\n"
   ]
  },
  {
   "cell_type": "code",
   "execution_count": 681,
   "id": "7d131de4",
   "metadata": {},
   "outputs": [
    {
     "data": {
      "text/html": [
       "<div>\n",
       "<style scoped>\n",
       "    .dataframe tbody tr th:only-of-type {\n",
       "        vertical-align: middle;\n",
       "    }\n",
       "\n",
       "    .dataframe tbody tr th {\n",
       "        vertical-align: top;\n",
       "    }\n",
       "\n",
       "    .dataframe thead th {\n",
       "        text-align: right;\n",
       "    }\n",
       "</style>\n",
       "<table border=\"1\" class=\"dataframe\">\n",
       "  <thead>\n",
       "    <tr style=\"text-align: right;\">\n",
       "      <th></th>\n",
       "      <th>0.0</th>\n",
       "      <th>0.5</th>\n",
       "      <th>1.0</th>\n",
       "      <th>1.5</th>\n",
       "      <th>2.0</th>\n",
       "      <th>2.5</th>\n",
       "    </tr>\n",
       "  </thead>\n",
       "  <tbody>\n",
       "    <tr>\n",
       "      <th>5</th>\n",
       "      <td>-0.003921</td>\n",
       "      <td>0.000072</td>\n",
       "      <td>0.000283</td>\n",
       "      <td>-0.003731</td>\n",
       "      <td>-0.001619</td>\n",
       "      <td>-0.002497</td>\n",
       "    </tr>\n",
       "    <tr>\n",
       "      <th>10</th>\n",
       "      <td>-0.019422</td>\n",
       "      <td>-0.00363</td>\n",
       "      <td>0.002363</td>\n",
       "      <td>-0.00417</td>\n",
       "      <td>-0.005483</td>\n",
       "      <td>-0.004578</td>\n",
       "    </tr>\n",
       "    <tr>\n",
       "      <th>30</th>\n",
       "      <td>-0.002964</td>\n",
       "      <td>0.000443</td>\n",
       "      <td>-0.004587</td>\n",
       "      <td>0.001809</td>\n",
       "      <td>-0.00392</td>\n",
       "      <td>-0.001452</td>\n",
       "    </tr>\n",
       "    <tr>\n",
       "      <th>50</th>\n",
       "      <td>-0.007509</td>\n",
       "      <td>-0.006872</td>\n",
       "      <td>-0.004561</td>\n",
       "      <td>0.002318</td>\n",
       "      <td>-0.001501</td>\n",
       "      <td>-0.001269</td>\n",
       "    </tr>\n",
       "    <tr>\n",
       "      <th>100</th>\n",
       "      <td>-0.008816</td>\n",
       "      <td>-0.000532</td>\n",
       "      <td>0.00618</td>\n",
       "      <td>0.004109</td>\n",
       "      <td>0.002399</td>\n",
       "      <td>0.0012</td>\n",
       "    </tr>\n",
       "    <tr>\n",
       "      <th>200</th>\n",
       "      <td>-0.000538</td>\n",
       "      <td>0.006687</td>\n",
       "      <td>0.005457</td>\n",
       "      <td>0.00515</td>\n",
       "      <td>0.003846</td>\n",
       "      <td>0.005806</td>\n",
       "    </tr>\n",
       "    <tr>\n",
       "      <th>500</th>\n",
       "      <td>-0.020432</td>\n",
       "      <td>-0.013568</td>\n",
       "      <td>-0.004614</td>\n",
       "      <td>0.002232</td>\n",
       "      <td>0.003166</td>\n",
       "      <td>0.0</td>\n",
       "    </tr>\n",
       "    <tr>\n",
       "      <th>1000</th>\n",
       "      <td>-0.017079</td>\n",
       "      <td>-0.021195</td>\n",
       "      <td>0.003419</td>\n",
       "      <td>0.007898</td>\n",
       "      <td>0.0</td>\n",
       "      <td>0.0</td>\n",
       "    </tr>\n",
       "  </tbody>\n",
       "</table>\n",
       "</div>"
      ],
      "text/plain": [
       "           0.0       0.5       1.0       1.5       2.0       2.5\n",
       "5    -0.003921  0.000072  0.000283 -0.003731 -0.001619 -0.002497\n",
       "10   -0.019422  -0.00363  0.002363  -0.00417 -0.005483 -0.004578\n",
       "30   -0.002964  0.000443 -0.004587  0.001809  -0.00392 -0.001452\n",
       "50   -0.007509 -0.006872 -0.004561  0.002318 -0.001501 -0.001269\n",
       "100  -0.008816 -0.000532   0.00618  0.004109  0.002399    0.0012\n",
       "200  -0.000538  0.006687  0.005457   0.00515  0.003846  0.005806\n",
       "500  -0.020432 -0.013568 -0.004614  0.002232  0.003166       0.0\n",
       "1000 -0.017079 -0.021195  0.003419  0.007898       0.0       0.0"
      ]
     },
     "execution_count": 681,
     "metadata": {},
     "output_type": "execute_result"
    }
   ],
   "source": [
    "optimal_parameters_long"
   ]
  },
  {
   "cell_type": "code",
   "execution_count": 683,
   "id": "f7b8b1b0",
   "metadata": {},
   "outputs": [
    {
     "data": {
      "text/plain": [
       "[Text(0.5, 37.77777777777778, 'standard deviation multiplier'),\n",
       " Text(57.777777777777786, 0.5, 'size of window in seconds'),\n",
       " Text(0.5, 1.0, 'Heatmap of optimal level-window combinations')]"
      ]
     },
     "execution_count": 683,
     "metadata": {},
     "output_type": "execute_result"
    },
    {
     "data": {
      "image/png": "[encoded data removed]",
      "text/plain": [
       "<Figure size 640x480 with 2 Axes>"
      ]
     },
     "metadata": {
      "needs_background": "light"
     },
     "output_type": "display_data"
    }
   ],
   "source": [
    "figure(figsize=(8, 6), dpi=80)\n",
    "#sns.color_palette(\"vlag\", as_cmap=True)\n",
    "ma = sns.heatmap(optimal_parameters_long.values.tolist(),cmap=\"vlag\",annot=True,xticklabels=[0,0.5,1,1.5,2,2.5], yticklabels=[5,10,30,50,100,200,500,1000])\n",
    "ma.set(xlabel='standard deviation multiplier', ylabel='size of window in seconds',title = 'Heatmap of optimal level-window combinations')\n"
   ]
  },
  {
   "cell_type": "markdown",
   "id": "19730fe1",
   "metadata": {},
   "source": [
    "This data is the training data, so we can select a pair that has a high pnl and isnt an anomaly, and run it on the testing data.\n",
    "I have done this for the 9 dataframes for the 3 pairs, and these are the results we get:"
   ]
  },
  {
   "cell_type": "code",
   "execution_count": 914,
   "id": "54496bdb",
   "metadata": {},
   "outputs": [],
   "source": [
    "dfs1 = [BTC_USD_2023,ETH_BTC_2023,ETH_USD_2023]\n",
    "df2 = [BTC_USD_2022,ETH_BTC_2022,ETH_USD_2022]\n",
    "df3 = [BTC_USD_2021,ETH_BTC_2021,ETH_USD_2021]\n",
    "pnl1 = [0,0,0]\n",
    "pnl2 = [0,0,0]\n",
    "pnl3 = [0,0,0]"
   ]
  },
  {
   "cell_type": "markdown",
   "id": "75f839dd",
   "metadata": {},
   "source": [
    "I run them seperately in these next few loops."
   ]
  },
  {
   "cell_type": "code",
   "execution_count": null,
   "id": "04c22f11",
   "metadata": {},
   "outputs": [],
   "source": [
    "for i in range(len(dfs1)):\n",
    "    print('One done')\n",
    "    pnl1[i] = find_optimal(dfs1[i],'long')"
   ]
  },
  {
   "cell_type": "code",
   "execution_count": null,
   "id": "744d1f1a",
   "metadata": {},
   "outputs": [],
   "source": [
    "for i in range(len(df2)):\n",
    "    print('One done')\n",
    "    pnl2[i] = find_optimal(df2[i],'long')"
   ]
  },
  {
   "cell_type": "code",
   "execution_count": 915,
   "id": "dd887227",
   "metadata": {},
   "outputs": [
    {
     "name": "stdout",
     "output_type": "stream",
     "text": [
      "1/8\n",
      "lap 1\n",
      "lap 1\n",
      "lap 1\n",
      "lap 1\n",
      "lap 1\n",
      "lap 1\n",
      "1/8\n",
      "lap 1\n",
      "lap 1\n",
      "lap 1\n",
      "lap 1\n",
      "lap 1\n",
      "lap 1\n",
      "1/8\n",
      "lap 1\n",
      "lap 1\n",
      "lap 1\n",
      "lap 1\n",
      "lap 1\n",
      "lap 1\n",
      "1/8\n",
      "lap 1\n",
      "lap 1\n",
      "lap 1\n",
      "lap 1\n",
      "lap 1\n",
      "lap 1\n",
      "1/8\n",
      "lap 1\n",
      "lap 1\n",
      "lap 1\n",
      "lap 1\n",
      "lap 1\n",
      "lap 1\n",
      "1/8\n",
      "lap 1\n",
      "lap 1\n",
      "lap 1\n",
      "lap 1\n",
      "lap 1\n",
      "lap 1\n",
      "1/8\n",
      "lap 1\n",
      "lap 1\n",
      "lap 1\n",
      "lap 1\n",
      "lap 1\n",
      "lap 1\n"
     ]
    }
   ],
   "source": [
    "pnl3[1] = find_optimal(df3[1],'long')"
   ]
  },
  {
   "cell_type": "code",
   "execution_count": null,
   "id": "68267d32",
   "metadata": {},
   "outputs": [],
   "source": []
  },
  {
   "cell_type": "code",
   "execution_count": 924,
   "id": "a98fbefc",
   "metadata": {},
   "outputs": [
    {
     "name": "stdout",
     "output_type": "stream",
     "text": [
      "1/8\n",
      "lap 1\n",
      "lap 1\n",
      "lap 1\n",
      "lap 1\n",
      "lap 1\n",
      "lap 1\n",
      "1/8\n",
      "lap 1\n",
      "lap 1\n",
      "lap 1\n",
      "lap 1\n",
      "lap 1\n",
      "lap 1\n",
      "1/8\n",
      "lap 1\n",
      "lap 1\n",
      "lap 1\n",
      "lap 1\n",
      "lap 1\n",
      "lap 1\n",
      "1/8\n",
      "lap 1\n",
      "lap 1\n",
      "lap 1\n",
      "lap 1\n",
      "lap 1\n",
      "lap 1\n",
      "1/8\n",
      "lap 1\n",
      "lap 1\n",
      "lap 1\n",
      "lap 1\n",
      "lap 1\n",
      "lap 1\n",
      "1/8\n",
      "lap 1\n",
      "lap 1\n",
      "lap 1\n",
      "lap 1\n",
      "lap 1\n",
      "lap 1\n",
      "1/8\n",
      "lap 1\n",
      "lap 1\n",
      "lap 1\n",
      "lap 1\n",
      "lap 1\n",
      "lap 1\n"
     ]
    }
   ],
   "source": [
    "pnl3[0] = find_optimal(df3[0],'long')"
   ]
  },
  {
   "cell_type": "code",
   "execution_count": 916,
   "id": "1b6f5bd0",
   "metadata": {},
   "outputs": [
    {
     "name": "stdout",
     "output_type": "stream",
     "text": [
      "1/8\n",
      "lap 1\n",
      "lap 1\n",
      "lap 1\n",
      "lap 1\n",
      "lap 1\n",
      "lap 1\n",
      "1/8\n",
      "lap 1\n",
      "lap 1\n",
      "lap 1\n",
      "lap 1\n",
      "lap 1\n",
      "lap 1\n",
      "1/8\n",
      "lap 1\n",
      "lap 1\n",
      "lap 1\n",
      "lap 1\n",
      "lap 1\n",
      "lap 1\n",
      "1/8\n",
      "lap 1\n",
      "lap 1\n",
      "lap 1\n",
      "lap 1\n",
      "lap 1\n",
      "lap 1\n",
      "1/8\n",
      "lap 1\n",
      "lap 1\n",
      "lap 1\n",
      "lap 1\n",
      "lap 1\n",
      "lap 1\n",
      "1/8\n",
      "lap 1\n",
      "lap 1\n",
      "lap 1\n",
      "lap 1\n",
      "lap 1\n",
      "lap 1\n",
      "1/8\n",
      "lap 1\n",
      "lap 1\n",
      "lap 1\n",
      "lap 1\n",
      "lap 1\n",
      "lap 1\n"
     ]
    }
   ],
   "source": [
    "pnl3[2] = find_optimal(df3[2],'long')"
   ]
  },
  {
   "cell_type": "code",
   "execution_count": 897,
   "id": "7a040148",
   "metadata": {},
   "outputs": [
    {
     "data": {
      "text/plain": [
       "481629"
      ]
     },
     "execution_count": 897,
     "metadata": {},
     "output_type": "execute_result"
    }
   ],
   "source": [
    "len(BTC_USD_2022)"
   ]
  },
  {
   "cell_type": "code",
   "execution_count": 895,
   "id": "bf9b501e",
   "metadata": {},
   "outputs": [
    {
     "data": {
      "text/plain": [
       "0.0295383844138003"
      ]
     },
     "execution_count": 895,
     "metadata": {},
     "output_type": "execute_result"
    }
   ],
   "source": [
    "VPIN(BTC_USD_2022, w, j)[0]['cumpnl'][-1]"
   ]
  },
  {
   "cell_type": "code",
   "execution_count": 884,
   "id": "0a1de615",
   "metadata": {},
   "outputs": [],
   "source": [
    "cols = ['BTC_USD_2023','ETH_BTC_2023','ETH_USD_2023','BTC_USD_2022','ETH_BTC_2022','ETH_USD_2022','BTC_USD_2021','ETH_BTC_2021','ETH_USD_2021']\n",
    "\n",
    "final_results = pd.DataFrame(columns = cols , index = ['w','j','pnl'])\n",
    "\n",
    "final_results['BTC_USD_2023'] = [pnl1[0][0],pnl1[0][1],VPIN(BTC_USD_2023,pnl1[0][0],pnl1[0][1])[0]['cumpnl'][-1]]\n",
    "final_results['ETH_BTC_2023'] = [pnl1[1][0],pnl1[1][1],VPIN(ETH_BTC_2023,pnl1[1][0],pnl1[1][1])[0]['cumpnl'][-1]]\n",
    "final_results['ETH_USD_2023'] = [pnl1[2][0],pnl1[2][1],VPIN(ETH_USD_2023,pnl1[2][0],pnl1[2][1])[0]['cumpnl'][-1]]"
   ]
  },
  {
   "cell_type": "code",
   "execution_count": 904,
   "id": "bdd73c69",
   "metadata": {},
   "outputs": [],
   "source": [
    "final_results['BTC_USD_2022'] = [pnl2[0][0],pnl2[0][1],VPIN(BTC_USD_2022,pnl2[0][0],pnl2[0][1])[0]['cumpnl'][-1]]\n",
    "final_results['ETH_BTC_2022'] = [pnl2[1][0],pnl2[1][1],VPIN(ETH_BTC_2022,pnl2[1][0],pnl2[1][1])[0]['cumpnl'][-1]]\n",
    "final_results['ETH_USD_2022'] = [pnl2[2][0],pnl2[2][1],VPIN(ETH_USD_2023,pnl2[2][0],pnl2[2][1])[0]['cumpnl'][-1]]"
   ]
  },
  {
   "cell_type": "code",
   "execution_count": 925,
   "id": "7adc52ca",
   "metadata": {},
   "outputs": [],
   "source": [
    "final_results['BTC_USD_2021'] = [pnl3[0][0],pnl3[0][1],VPIN(BTC_USD_2021,pnl3[0][0],pnl3[0][1])[0]['cumpnl'][-1]]\n",
    "final_results['ETH_BTC_2021'] = [pnl3[1][0],pnl3[1][1],VPIN(ETH_BTC_2021,pnl3[1][0],pnl3[1][1])[0]['cumpnl'][-1]]\n",
    "final_results['ETH_USD_2021'] = [pnl3[2][0],pnl3[2][1],VPIN(ETH_USD_2021,pnl3[2][0],pnl3[2][1])[0]['cumpnl'][-1]]"
   ]
  },
  {
   "cell_type": "code",
   "execution_count": 913,
   "id": "9d1ebd2d",
   "metadata": {},
   "outputs": [
    {
     "data": {
      "text/plain": [
       "[[5, 0.0], [10, 0.0], [500, 0.5]]"
      ]
     },
     "execution_count": 913,
     "metadata": {},
     "output_type": "execute_result"
    }
   ],
   "source": []
  },
  {
   "cell_type": "code",
   "execution_count": 922,
   "id": "1f72fd33",
   "metadata": {},
   "outputs": [],
   "source": []
  },
  {
   "cell_type": "code",
   "execution_count": 927,
   "id": "1c78e1ee",
   "metadata": {},
   "outputs": [
    {
     "data": {
      "text/html": [
       "<div>\n",
       "<style scoped>\n",
       "    .dataframe tbody tr th:only-of-type {\n",
       "        vertical-align: middle;\n",
       "    }\n",
       "\n",
       "    .dataframe tbody tr th {\n",
       "        vertical-align: top;\n",
       "    }\n",
       "\n",
       "    .dataframe thead th {\n",
       "        text-align: right;\n",
       "    }\n",
       "</style>\n",
       "<table border=\"1\" class=\"dataframe\">\n",
       "  <thead>\n",
       "    <tr style=\"text-align: right;\">\n",
       "      <th></th>\n",
       "      <th>BTC_USD_2023</th>\n",
       "      <th>ETH_BTC_2023</th>\n",
       "      <th>ETH_USD_2023</th>\n",
       "      <th>BTC_USD_2022</th>\n",
       "      <th>ETH_BTC_2022</th>\n",
       "      <th>ETH_USD_2022</th>\n",
       "      <th>BTC_USD_2021</th>\n",
       "      <th>ETH_BTC_2021</th>\n",
       "      <th>ETH_USD_2021</th>\n",
       "    </tr>\n",
       "  </thead>\n",
       "  <tbody>\n",
       "    <tr>\n",
       "      <th>w</th>\n",
       "      <td>5.000000</td>\n",
       "      <td>10.000000</td>\n",
       "      <td>500.000000</td>\n",
       "      <td>100.000000</td>\n",
       "      <td>500.000000</td>\n",
       "      <td>200.000000</td>\n",
       "      <td>5.000000</td>\n",
       "      <td>30.000000</td>\n",
       "      <td>500.00000</td>\n",
       "    </tr>\n",
       "    <tr>\n",
       "      <th>j</th>\n",
       "      <td>0.000000</td>\n",
       "      <td>0.000000</td>\n",
       "      <td>0.500000</td>\n",
       "      <td>0.000000</td>\n",
       "      <td>1.000000</td>\n",
       "      <td>0.000000</td>\n",
       "      <td>0.000000</td>\n",
       "      <td>0.000000</td>\n",
       "      <td>0.50000</td>\n",
       "    </tr>\n",
       "    <tr>\n",
       "      <th>pnl</th>\n",
       "      <td>0.007497</td>\n",
       "      <td>0.005154</td>\n",
       "      <td>0.004859</td>\n",
       "      <td>0.072866</td>\n",
       "      <td>0.011196</td>\n",
       "      <td>0.003356</td>\n",
       "      <td>0.615576</td>\n",
       "      <td>0.007352</td>\n",
       "      <td>0.02367</td>\n",
       "    </tr>\n",
       "  </tbody>\n",
       "</table>\n",
       "</div>"
      ],
      "text/plain": [
       "     BTC_USD_2023  ETH_BTC_2023  ETH_USD_2023  BTC_USD_2022  ETH_BTC_2022  \\\n",
       "w        5.000000     10.000000    500.000000    100.000000    500.000000   \n",
       "j        0.000000      0.000000      0.500000      0.000000      1.000000   \n",
       "pnl      0.007497      0.005154      0.004859      0.072866      0.011196   \n",
       "\n",
       "     ETH_USD_2022  BTC_USD_2021  ETH_BTC_2021  ETH_USD_2021  \n",
       "w      200.000000      5.000000     30.000000     500.00000  \n",
       "j        0.000000      0.000000      0.000000       0.50000  \n",
       "pnl      0.003356      0.615576      0.007352       0.02367  "
      ]
     },
     "execution_count": 927,
     "metadata": {},
     "output_type": "execute_result"
    }
   ],
   "source": [
    "storing_final = final_results"
   ]
  },
  {
   "cell_type": "markdown",
   "id": "5842dba3",
   "metadata": {},
   "source": [
    "This is a great dataset. Firstly, all the returns are positive. This is a good indicator that our strategy seems robust. The fact that the 2023 data is still positive for a long-only strategy in a bear market is very attractive.\n",
    "What we also see is that the strategy can achieve very decent results, such as 7% and more generally returns of around 1%.\n",
    "By far the largest dataset, with over a million trades, BTC_USD_2021 returned 61%.\n",
    "This is encouraging as it means that if the strategy is allowed to run for longer, it generates better resutls."
   ]
  },
  {
   "cell_type": "code",
   "execution_count": 928,
   "id": "b4bfb033",
   "metadata": {},
   "outputs": [
    {
     "data": {
      "text/plain": [
       "60951"
      ]
     },
     "execution_count": 928,
     "metadata": {},
     "output_type": "execute_result"
    }
   ],
   "source": [
    "VPIN(BTC_USD_2021, 5, 0)[1]"
   ]
  },
  {
   "cell_type": "markdown",
   "id": "b2239b42",
   "metadata": {},
   "source": [
    "However, this was done in 61000 trades, which seems excessive. To make trades more impactful, I created the double down VPIN that follows."
   ]
  },
  {
   "cell_type": "markdown",
   "id": "b601b4e7",
   "metadata": {},
   "source": [
    "# Double Down VPIN"
   ]
  },
  {
   "cell_type": "markdown",
   "id": "eab532a1",
   "metadata": {},
   "source": [
    "This is an improved VPIN function. I realized that if we are already holding equity, but on our line the returns are higher than the level, being allowed to double down would most likely improve our pnl. I annotate the VPINdouble function below."
   ]
  },
  {
   "cell_type": "code",
   "execution_count": 936,
   "id": "908c29ca",
   "metadata": {},
   "outputs": [],
   "source": [
    "def VPINdouble(dataset, window, j):\n",
    "    #this part calculates a rolling trade flow based on the window input\n",
    "    dataset['rollingTradeflow'] = dataset['Tradeflow'].rolling(window,closed = 'left').sum()\n",
    "    dataset=dataset.dropna(axis=0)\n",
    "    \n",
    "    #this part splits the data for training and testing purposes\n",
    "    train, test = train_test_split(dataset, test_size=0.3,shuffle = False)\n",
    "    beta = sm.OLS(train['returns'],train['rollingTradeflow']).fit().params[0]\n",
    "    \n",
    "    #this part predicts the returns with our beta and tradeflow\n",
    "    test['pred_returns'] = test['rollingTradeflow'] * beta\n",
    "    dataset = test\n",
    "    \n",
    "    #this is the calculation of the level and trigger\n",
    "    levelhigh = dataset['pred_returns'].mean() + dataset['pred_returns'].std()*j\n",
    "    levellow = dataset['pred_returns'].mean() + dataset['pred_returns'].std()*j/2\n",
    "\n",
    "    dataset['trigger'] = np.where(dataset['pred_returns']>levelhigh, 1, 0)\n",
    "    dataset['exit'] = np.where(dataset['pred_returns']>levellow, 1, 0)\n",
    "    \n",
    "    df = dataset.copy()\n",
    "    df['Cash']=0.0\n",
    "    df['Position']=0.0\n",
    "    df['Pnl']=0.0\n",
    "    \n",
    "    #we need a cashtracker now to track the amount of cash that is being invested at one time\n",
    "    cashtracker = 0\n",
    "    maxcash = 0\n",
    "    tradetracker = 0\n",
    "    maxindex = 0\n",
    "    \n",
    "    for today in df.index:\n",
    "        #if on first day we need to enter, then enter into a trade\n",
    "        if today == df.index[0]:\n",
    "            if df.loc[today,'trigger'] > 0:\n",
    "                df.loc[today,'Position'] = 1 / df.loc[today,'PriceMillionths']\n",
    "                df.loc[today,'Cash'] = - 1\n",
    "                cashtracker += 1\n",
    "                if cashtracker > maxcash:\n",
    "                    maxcash = cashtracker\n",
    "                tradetracker += 1\n",
    "                \n",
    "        #if on last day we still hold equity, sell it off\n",
    "        elif today == df.index[-1]:\n",
    "            if df.loc[yesterday,'Position'] >0.0:\n",
    "                df.loc[today,'Cash'] = df.loc[yesterday,'Position'] * df.loc[today,'PriceMillionths'] \n",
    "                df.loc[today,'Position'] = 0.0\n",
    "                df.loc[today,'Pnl'] = df.loc[today,'Cash'] - cashtracker\n",
    "                cashtracker = 0\n",
    "                tradetracker +1\n",
    "                \n",
    "        else:\n",
    "            #if we are not holding anything and the expected future returns are high enough, enter trade\n",
    "            if df.loc[today,'trigger'] > 0 and df.loc[yesterday,'Position']==0: \n",
    "                df.loc[today,'Position'] = 1 / df.loc[today,'PriceMillionths']\n",
    "                df.loc[today,'Cash'] = - 1\n",
    "                cashtracker += 1\n",
    "                if cashtracker > maxcash:\n",
    "                    maxcash = cashtracker\n",
    "                    maxindex = today\n",
    "                tradetracker += 1\n",
    "                \n",
    "            #if we are holding equity but the predicted returns are low enough, exit position\n",
    "            elif df.loc[today,'exit'] == 0 and df.loc[yesterday,'Position']>0.0: \n",
    "                df.loc[today,'Cash'] = df.loc[yesterday,'Position'] * df.loc[today,'PriceMillionths']    \n",
    "                df.loc[today,'Position'] = 0.0\n",
    "                df.loc[today,'Pnl'] = df.loc[today,'Cash'] - cashtracker\n",
    "                cashtracker = 0\n",
    "                tradetracker += 1\n",
    "                \n",
    "            #if we are holding but the predicted returns are high, buy again\n",
    "            elif df.loc[today,'trigger'] > 0 and df.loc[yesterday,'Position'] > 0.0:\n",
    "                df.loc[today, 'Position'] = df.loc[yesterday,'Position'] +  1 / df.loc[today,'PriceMillionths']\n",
    "                df.loc[today, 'Cash'] = -1\n",
    "                cashtracker += 1\n",
    "                if cashtracker > maxcash:\n",
    "                    maxcash = cashtracker\n",
    "                    maxindex = today\n",
    "                tradetracker += 1\n",
    "            \n",
    "            #if the ticker is inside the range, below the trigger but above the sell point, hold\n",
    "            else:\n",
    "                df.loc[today,'Position'] = df.loc[yesterday,'Position'] \n",
    "            \n",
    "        yesterday=today\n",
    "    df['cumpnl'] = df['Pnl'].cumsum()\n",
    "    tradetracker\n",
    "    return [df,maxcash,tradetracker,maxindex]"
   ]
  },
  {
   "cell_type": "markdown",
   "id": "48cff8c5",
   "metadata": {},
   "source": [
    "Here is a sample output of the VPINdouble function."
   ]
  },
  {
   "cell_type": "code",
   "execution_count": 935,
   "id": "a4c0ffe9",
   "metadata": {},
   "outputs": [],
   "source": [
    "dub = VPINdouble(BTC_USD_2023, 30, 0)"
   ]
  },
  {
   "cell_type": "code",
   "execution_count": null,
   "id": "10b3ae32",
   "metadata": {},
   "outputs": [],
   "source": [
    "dub[0].tail()"
   ]
  },
  {
   "cell_type": "markdown",
   "id": "4e14223e",
   "metadata": {},
   "source": [
    "We are generateing 19% returns on 14000 trades."
   ]
  },
  {
   "cell_type": "markdown",
   "id": "f3fc46d5",
   "metadata": {},
   "source": [
    "Great results, however, we clearly have to take into account some form of trade cost per trade, and we are assuming that we can trade the close every day. My understanding is that this type of very fast trading has extremely low costs, so could be viable to do this number of trades over a day."
   ]
  },
  {
   "cell_type": "markdown",
   "id": "11edb326",
   "metadata": {},
   "source": [
    "I'll conduct the same optimization approach I did with VPIN, looping around different windows and levels."
   ]
  },
  {
   "cell_type": "code",
   "execution_count": 951,
   "id": "b6bbe34a",
   "metadata": {},
   "outputs": [],
   "source": [
    "df1dub = [BTC_USD_2023,ETH_BTC_2023,ETH_USD_2023]\n",
    "df2dub = [BTC_USD_2022,ETH_BTC_2022,ETH_USD_2022]\n",
    "df3dub = [BTC_USD_2021,ETH_BTC_2021,ETH_USD_2021]\n",
    "pnl1dub = [0,0,0]\n",
    "pnl2dub = [0,0,0]\n",
    "pnl3dub = [0,0,0]"
   ]
  },
  {
   "cell_type": "code",
   "execution_count": 952,
   "id": "b0349410",
   "metadata": {},
   "outputs": [
    {
     "name": "stdout",
     "output_type": "stream",
     "text": [
      "One done\n",
      "1/8\n",
      "1/8\n",
      "1/8\n",
      "1/8\n",
      "1/8\n",
      "1/8\n",
      "1/8\n",
      "One done\n",
      "1/8\n",
      "1/8\n",
      "1/8\n",
      "1/8\n",
      "1/8\n",
      "1/8\n",
      "1/8\n",
      "One done\n",
      "1/8\n",
      "1/8\n",
      "1/8\n",
      "1/8\n",
      "1/8\n",
      "1/8\n",
      "1/8\n"
     ]
    }
   ],
   "source": [
    "for i in range(len(df1dub)):\n",
    "    print('One done')\n",
    "    pnl1dub[i] = find_optimal(df1dub[i],'double')"
   ]
  },
  {
   "cell_type": "code",
   "execution_count": 953,
   "id": "fc893478",
   "metadata": {},
   "outputs": [
    {
     "name": "stdout",
     "output_type": "stream",
     "text": [
      "One done\n",
      "1/8\n",
      "1/8\n",
      "1/8\n",
      "1/8\n",
      "1/8\n",
      "1/8\n",
      "1/8\n",
      "One done\n",
      "1/8\n",
      "1/8\n",
      "1/8\n",
      "1/8\n",
      "1/8\n",
      "1/8\n",
      "1/8\n",
      "One done\n",
      "1/8\n",
      "1/8\n",
      "1/8\n",
      "1/8\n",
      "1/8\n",
      "1/8\n",
      "1/8\n"
     ]
    }
   ],
   "source": [
    "for i in range(len(df2dub)):\n",
    "    print('One done')\n",
    "    pnl2dub[i] = find_optimal(df2dub[i],'double')"
   ]
  },
  {
   "cell_type": "code",
   "execution_count": 974,
   "id": "f304e863",
   "metadata": {},
   "outputs": [
    {
     "name": "stdout",
     "output_type": "stream",
     "text": [
      "1/8\n",
      "1/8\n",
      "1/8\n",
      "1/8\n"
     ]
    }
   ],
   "source": [
    "pnl3dub[0] = find_optimal(df3dub[0],'double')"
   ]
  },
  {
   "cell_type": "code",
   "execution_count": 972,
   "id": "7cbbdd06",
   "metadata": {},
   "outputs": [
    {
     "name": "stdout",
     "output_type": "stream",
     "text": [
      "1/8\n",
      "1/8\n",
      "1/8\n",
      "1/8\n"
     ]
    }
   ],
   "source": [
    "pnl3dub[1] = find_optimal(df3dub[1],'double')"
   ]
  },
  {
   "cell_type": "code",
   "execution_count": 973,
   "id": "67f07385",
   "metadata": {},
   "outputs": [
    {
     "name": "stdout",
     "output_type": "stream",
     "text": [
      "1/8\n",
      "1/8\n",
      "1/8\n",
      "1/8\n"
     ]
    }
   ],
   "source": [
    "pnl3dub[2] = find_optimal(df3dub[2],'double')"
   ]
  },
  {
   "cell_type": "code",
   "execution_count": 964,
   "id": "ef42bdf5",
   "metadata": {},
   "outputs": [
    {
     "name": "stdout",
     "output_type": "stream",
     "text": [
      "One done\n",
      "1/8\n",
      "1/8\n",
      "1/8\n",
      "1/8\n",
      "1/8\n",
      "One done\n",
      "1/8\n",
      "1/8\n",
      "1/8\n",
      "1/8\n",
      "1/8\n",
      "One done\n",
      "1/8\n",
      "1/8\n",
      "1/8\n",
      "1/8\n",
      "1/8\n"
     ]
    }
   ],
   "source": [
    "for i in range(len(df3dub)):\n",
    "    print('One done')\n",
    "    pnl3dub[i] = find_optimal(df3dub[i][:40000],'double')"
   ]
  },
  {
   "cell_type": "code",
   "execution_count": 967,
   "id": "d77ddb09",
   "metadata": {},
   "outputs": [
    {
     "data": {
      "text/html": [
       "<div>\n",
       "<style scoped>\n",
       "    .dataframe tbody tr th:only-of-type {\n",
       "        vertical-align: middle;\n",
       "    }\n",
       "\n",
       "    .dataframe tbody tr th {\n",
       "        vertical-align: top;\n",
       "    }\n",
       "\n",
       "    .dataframe thead th {\n",
       "        text-align: right;\n",
       "    }\n",
       "</style>\n",
       "<table border=\"1\" class=\"dataframe\">\n",
       "  <thead>\n",
       "    <tr style=\"text-align: right;\">\n",
       "      <th></th>\n",
       "      <th>PriceMillionths</th>\n",
       "      <th>SizeBillionths</th>\n",
       "      <th>Tradeflow</th>\n",
       "      <th>returns</th>\n",
       "      <th>rollingTradeflow</th>\n",
       "      <th>pred_returns</th>\n",
       "      <th>trigger</th>\n",
       "      <th>exit</th>\n",
       "      <th>Cash</th>\n",
       "      <th>Position</th>\n",
       "      <th>Pnl</th>\n",
       "      <th>cumpnl</th>\n",
       "    </tr>\n",
       "    <tr>\n",
       "      <th>time</th>\n",
       "      <th></th>\n",
       "      <th></th>\n",
       "      <th></th>\n",
       "      <th></th>\n",
       "      <th></th>\n",
       "      <th></th>\n",
       "      <th></th>\n",
       "      <th></th>\n",
       "      <th></th>\n",
       "      <th></th>\n",
       "      <th></th>\n",
       "      <th></th>\n",
       "    </tr>\n",
       "  </thead>\n",
       "  <tbody>\n",
       "    <tr>\n",
       "      <th>2021-04-10 21:57:04</th>\n",
       "      <td>5.904881e+10</td>\n",
       "      <td>13068970</td>\n",
       "      <td>-7.386686e+17</td>\n",
       "      <td>-3.607055e-05</td>\n",
       "      <td>3.928610e+19</td>\n",
       "      <td>8.892286e-07</td>\n",
       "      <td>1</td>\n",
       "      <td>1</td>\n",
       "      <td>-1.00000</td>\n",
       "      <td>1.693514e-11</td>\n",
       "      <td>0.00000</td>\n",
       "      <td>0.000000</td>\n",
       "    </tr>\n",
       "    <tr>\n",
       "      <th>2021-04-10 21:57:05</th>\n",
       "      <td>5.904883e+10</td>\n",
       "      <td>17849490</td>\n",
       "      <td>9.068837e+17</td>\n",
       "      <td>3.387028e-07</td>\n",
       "      <td>3.827603e+19</td>\n",
       "      <td>8.663659e-07</td>\n",
       "      <td>1</td>\n",
       "      <td>1</td>\n",
       "      <td>-1.00000</td>\n",
       "      <td>3.387028e-11</td>\n",
       "      <td>0.00000</td>\n",
       "      <td>0.000000</td>\n",
       "    </tr>\n",
       "    <tr>\n",
       "      <th>2021-04-10 21:57:06</th>\n",
       "      <td>5.904826e+10</td>\n",
       "      <td>61868480</td>\n",
       "      <td>-2.251514e+18</td>\n",
       "      <td>-9.653028e-06</td>\n",
       "      <td>3.914509e+19</td>\n",
       "      <td>8.860369e-07</td>\n",
       "      <td>1</td>\n",
       "      <td>1</td>\n",
       "      <td>-1.00000</td>\n",
       "      <td>5.080558e-11</td>\n",
       "      <td>0.00000</td>\n",
       "      <td>0.000000</td>\n",
       "    </tr>\n",
       "    <tr>\n",
       "      <th>2021-04-10 21:57:07</th>\n",
       "      <td>5.903896e+10</td>\n",
       "      <td>44040490</td>\n",
       "      <td>1.608577e+18</td>\n",
       "      <td>-1.574983e-04</td>\n",
       "      <td>3.693119e+19</td>\n",
       "      <td>8.359260e-07</td>\n",
       "      <td>1</td>\n",
       "      <td>1</td>\n",
       "      <td>-1.00000</td>\n",
       "      <td>6.774355e-11</td>\n",
       "      <td>0.00000</td>\n",
       "      <td>0.000000</td>\n",
       "    </tr>\n",
       "    <tr>\n",
       "      <th>2021-04-10 21:57:08</th>\n",
       "      <td>5.904412e+10</td>\n",
       "      <td>22988190</td>\n",
       "      <td>1.357320e+18</td>\n",
       "      <td>8.739991e-05</td>\n",
       "      <td>3.830254e+19</td>\n",
       "      <td>8.669660e-07</td>\n",
       "      <td>1</td>\n",
       "      <td>1</td>\n",
       "      <td>-1.00000</td>\n",
       "      <td>8.468003e-11</td>\n",
       "      <td>0.00000</td>\n",
       "      <td>0.000000</td>\n",
       "    </tr>\n",
       "    <tr>\n",
       "      <th>...</th>\n",
       "      <td>...</td>\n",
       "      <td>...</td>\n",
       "      <td>...</td>\n",
       "      <td>...</td>\n",
       "      <td>...</td>\n",
       "      <td>...</td>\n",
       "      <td>...</td>\n",
       "      <td>...</td>\n",
       "      <td>...</td>\n",
       "      <td>...</td>\n",
       "      <td>...</td>\n",
       "      <td>...</td>\n",
       "    </tr>\n",
       "    <tr>\n",
       "      <th>2021-04-10 22:08:17</th>\n",
       "      <td>5.932902e+10</td>\n",
       "      <td>151100</td>\n",
       "      <td>8.964615e+15</td>\n",
       "      <td>0.000000e+00</td>\n",
       "      <td>3.823287e+19</td>\n",
       "      <td>8.653891e-07</td>\n",
       "      <td>1</td>\n",
       "      <td>1</td>\n",
       "      <td>-1.00000</td>\n",
       "      <td>1.348413e-10</td>\n",
       "      <td>0.00000</td>\n",
       "      <td>0.033964</td>\n",
       "    </tr>\n",
       "    <tr>\n",
       "      <th>2021-04-10 22:08:18</th>\n",
       "      <td>5.932901e+10</td>\n",
       "      <td>7630000</td>\n",
       "      <td>-4.526803e+17</td>\n",
       "      <td>-1.685516e-07</td>\n",
       "      <td>3.805046e+19</td>\n",
       "      <td>8.612603e-07</td>\n",
       "      <td>1</td>\n",
       "      <td>1</td>\n",
       "      <td>-1.00000</td>\n",
       "      <td>1.516964e-10</td>\n",
       "      <td>0.00000</td>\n",
       "      <td>0.033964</td>\n",
       "    </tr>\n",
       "    <tr>\n",
       "      <th>2021-04-10 22:08:19</th>\n",
       "      <td>5.932901e+10</td>\n",
       "      <td>3100610</td>\n",
       "      <td>-1.839561e+17</td>\n",
       "      <td>0.000000e+00</td>\n",
       "      <td>3.891593e+19</td>\n",
       "      <td>8.808499e-07</td>\n",
       "      <td>1</td>\n",
       "      <td>1</td>\n",
       "      <td>-1.00000</td>\n",
       "      <td>1.685516e-10</td>\n",
       "      <td>0.00000</td>\n",
       "      <td>0.033964</td>\n",
       "    </tr>\n",
       "    <tr>\n",
       "      <th>2021-04-10 22:08:20</th>\n",
       "      <td>5.932901e+10</td>\n",
       "      <td>292890</td>\n",
       "      <td>-1.737687e+16</td>\n",
       "      <td>0.000000e+00</td>\n",
       "      <td>3.874690e+19</td>\n",
       "      <td>8.770240e-07</td>\n",
       "      <td>1</td>\n",
       "      <td>1</td>\n",
       "      <td>-1.00000</td>\n",
       "      <td>1.854067e-10</td>\n",
       "      <td>0.00000</td>\n",
       "      <td>0.033964</td>\n",
       "    </tr>\n",
       "    <tr>\n",
       "      <th>2021-04-10 22:08:22</th>\n",
       "      <td>5.933150e+10</td>\n",
       "      <td>7781359030</td>\n",
       "      <td>1.869029e+19</td>\n",
       "      <td>4.196935e-05</td>\n",
       "      <td>3.808506e+19</td>\n",
       "      <td>8.620434e-07</td>\n",
       "      <td>1</td>\n",
       "      <td>1</td>\n",
       "      <td>11.00046</td>\n",
       "      <td>0.000000e+00</td>\n",
       "      <td>0.00046</td>\n",
       "      <td>0.034425</td>\n",
       "    </tr>\n",
       "  </tbody>\n",
       "</table>\n",
       "<p>591 rows × 12 columns</p>\n",
       "</div>"
      ],
      "text/plain": [
       "                     PriceMillionths  SizeBillionths     Tradeflow  \\\n",
       "time                                                                 \n",
       "2021-04-10 21:57:04     5.904881e+10        13068970 -7.386686e+17   \n",
       "2021-04-10 21:57:05     5.904883e+10        17849490  9.068837e+17   \n",
       "2021-04-10 21:57:06     5.904826e+10        61868480 -2.251514e+18   \n",
       "2021-04-10 21:57:07     5.903896e+10        44040490  1.608577e+18   \n",
       "2021-04-10 21:57:08     5.904412e+10        22988190  1.357320e+18   \n",
       "...                              ...             ...           ...   \n",
       "2021-04-10 22:08:17     5.932902e+10          151100  8.964615e+15   \n",
       "2021-04-10 22:08:18     5.932901e+10         7630000 -4.526803e+17   \n",
       "2021-04-10 22:08:19     5.932901e+10         3100610 -1.839561e+17   \n",
       "2021-04-10 22:08:20     5.932901e+10          292890 -1.737687e+16   \n",
       "2021-04-10 22:08:22     5.933150e+10      7781359030  1.869029e+19   \n",
       "\n",
       "                          returns  rollingTradeflow  pred_returns  trigger  \\\n",
       "time                                                                         \n",
       "2021-04-10 21:57:04 -3.607055e-05      3.928610e+19  8.892286e-07        1   \n",
       "2021-04-10 21:57:05  3.387028e-07      3.827603e+19  8.663659e-07        1   \n",
       "2021-04-10 21:57:06 -9.653028e-06      3.914509e+19  8.860369e-07        1   \n",
       "2021-04-10 21:57:07 -1.574983e-04      3.693119e+19  8.359260e-07        1   \n",
       "2021-04-10 21:57:08  8.739991e-05      3.830254e+19  8.669660e-07        1   \n",
       "...                           ...               ...           ...      ...   \n",
       "2021-04-10 22:08:17  0.000000e+00      3.823287e+19  8.653891e-07        1   \n",
       "2021-04-10 22:08:18 -1.685516e-07      3.805046e+19  8.612603e-07        1   \n",
       "2021-04-10 22:08:19  0.000000e+00      3.891593e+19  8.808499e-07        1   \n",
       "2021-04-10 22:08:20  0.000000e+00      3.874690e+19  8.770240e-07        1   \n",
       "2021-04-10 22:08:22  4.196935e-05      3.808506e+19  8.620434e-07        1   \n",
       "\n",
       "                     exit      Cash      Position      Pnl    cumpnl  \n",
       "time                                                                  \n",
       "2021-04-10 21:57:04     1  -1.00000  1.693514e-11  0.00000  0.000000  \n",
       "2021-04-10 21:57:05     1  -1.00000  3.387028e-11  0.00000  0.000000  \n",
       "2021-04-10 21:57:06     1  -1.00000  5.080558e-11  0.00000  0.000000  \n",
       "2021-04-10 21:57:07     1  -1.00000  6.774355e-11  0.00000  0.000000  \n",
       "2021-04-10 21:57:08     1  -1.00000  8.468003e-11  0.00000  0.000000  \n",
       "...                   ...       ...           ...      ...       ...  \n",
       "2021-04-10 22:08:17     1  -1.00000  1.348413e-10  0.00000  0.033964  \n",
       "2021-04-10 22:08:18     1  -1.00000  1.516964e-10  0.00000  0.033964  \n",
       "2021-04-10 22:08:19     1  -1.00000  1.685516e-10  0.00000  0.033964  \n",
       "2021-04-10 22:08:20     1  -1.00000  1.854067e-10  0.00000  0.033964  \n",
       "2021-04-10 22:08:22     1  11.00046  0.000000e+00  0.00046  0.034425  \n",
       "\n",
       "[591 rows x 12 columns]"
      ]
     },
     "execution_count": 967,
     "metadata": {},
     "output_type": "execute_result"
    }
   ],
   "source": [
    "VPINdouble(BTC_USD_2021, 30, 0)[0]"
   ]
  },
  {
   "cell_type": "code",
   "execution_count": 985,
   "id": "2dca4840",
   "metadata": {},
   "outputs": [],
   "source": [
    "cols = ['BTC_USD_2023','ETH_BTC_2023','ETH_USD_2023','BTC_USD_2022','ETH_BTC_2022','ETH_USD_2022','BTC_USD_2021','ETH_BTC_2021','ETH_USD_2021']\n",
    "\n",
    "final_resultsdub = pd.DataFrame(columns = cols , index = ['w','j','pnl','maxcash','trades'])\n",
    "\n",
    "a = VPINdouble(BTC_USD_2023,pnl1dub[0][0],pnl1dub[0][1])\n",
    "b = VPINdouble(ETH_BTC_2023,pnl1dub[1][0],pnl1dub[1][1])\n",
    "c = VPINdouble(ETH_USD_2023,pnl1dub[2][0],pnl1dub[2][1])\n",
    "\n",
    "d = VPINdouble(BTC_USD_2022,pnl2dub[0][0],pnl2dub[0][1])\n",
    "e = VPINdouble(ETH_BTC_2022,pnl2dub[1][0],pnl2dub[1][1])\n",
    "f = VPINdouble(ETH_USD_2022,pnl2dub[2][0],pnl2dub[2][1])\n",
    "\n",
    "g = VPINdouble(BTC_USD_2021,pnl3dub[0][0],pnl3dub[0][1])\n",
    "h = VPINdouble(ETH_BTC_2021,pnl3dub[1][0],pnl3dub[1][1])\n",
    "i = VPINdouble(ETH_USD_2021,pnl3dub[2][0],pnl3dub[2][1])"
   ]
  },
  {
   "cell_type": "code",
   "execution_count": 987,
   "id": "91a5431d",
   "metadata": {},
   "outputs": [],
   "source": [
    "final_resultsdub['BTC_USD_2023'] = [pnl1dub[0][0],pnl1dub[0][1],a[0]['cumpnl'][-1],a[1],a[2]]\n",
    "final_resultsdub['ETH_BTC_2023'] = [pnl1dub[1][0],pnl1dub[1][1],b[0]['cumpnl'][-1],b[1],b[2]]\n",
    "final_resultsdub['ETH_USD_2023'] = [pnl1dub[2][0],pnl1dub[2][1],c[0]['cumpnl'][-1],c[1],c[2]]\n",
    "\n",
    "final_resultsdub['BTC_USD_2022'] = [pnl2dub[0][0],pnl2dub[0][1],d[0]['cumpnl'][-1],d[1],d[2]]\n",
    "final_resultsdub['ETH_BTC_2022'] = [pnl2dub[1][0],pnl2dub[1][1],e[0]['cumpnl'][-1],e[1],e[2]]\n",
    "final_resultsdub['ETH_USD_2022'] = [pnl2dub[2][0],pnl2dub[2][1],f[0]['cumpnl'][-1],f[1],f[2]]\n",
    "\n",
    "final_resultsdub['BTC_USD_2021'] = [pnl3dub[0][0],pnl3dub[0][1],g[0]['cumpnl'][-1],h[1],h[2]]\n",
    "final_resultsdub['ETH_BTC_2021'] = [pnl3dub[1][0],pnl3dub[1][1],h[0]['cumpnl'][-1],i[1],i[2]]\n",
    "final_resultsdub['ETH_USD_2021'] = [pnl3dub[2][0],pnl3dub[2][1],i[0]['cumpnl'][-1],i[1],i[2]]"
   ]
  },
  {
   "cell_type": "code",
   "execution_count": 988,
   "id": "b8a501f6",
   "metadata": {},
   "outputs": [
    {
     "data": {
      "text/html": [
       "<div>\n",
       "<style scoped>\n",
       "    .dataframe tbody tr th:only-of-type {\n",
       "        vertical-align: middle;\n",
       "    }\n",
       "\n",
       "    .dataframe tbody tr th {\n",
       "        vertical-align: top;\n",
       "    }\n",
       "\n",
       "    .dataframe thead th {\n",
       "        text-align: right;\n",
       "    }\n",
       "</style>\n",
       "<table border=\"1\" class=\"dataframe\">\n",
       "  <thead>\n",
       "    <tr style=\"text-align: right;\">\n",
       "      <th></th>\n",
       "      <th>BTC_USD_2023</th>\n",
       "      <th>ETH_BTC_2023</th>\n",
       "      <th>ETH_USD_2023</th>\n",
       "      <th>BTC_USD_2022</th>\n",
       "      <th>ETH_BTC_2022</th>\n",
       "      <th>ETH_USD_2022</th>\n",
       "      <th>BTC_USD_2021</th>\n",
       "      <th>ETH_BTC_2021</th>\n",
       "      <th>ETH_USD_2021</th>\n",
       "    </tr>\n",
       "  </thead>\n",
       "  <tbody>\n",
       "    <tr>\n",
       "      <th>w</th>\n",
       "      <td>200.000000</td>\n",
       "      <td>100.000000</td>\n",
       "      <td>50.000000</td>\n",
       "      <td>500.000000</td>\n",
       "      <td>200.000000</td>\n",
       "      <td>200.000000</td>\n",
       "      <td>30.000000</td>\n",
       "      <td>500.000000</td>\n",
       "      <td>500.000000</td>\n",
       "    </tr>\n",
       "    <tr>\n",
       "      <th>j</th>\n",
       "      <td>0.000000</td>\n",
       "      <td>0.000000</td>\n",
       "      <td>1.500000</td>\n",
       "      <td>0.000000</td>\n",
       "      <td>0.000000</td>\n",
       "      <td>0.000000</td>\n",
       "      <td>0.500000</td>\n",
       "      <td>0.000000</td>\n",
       "      <td>0.000000</td>\n",
       "    </tr>\n",
       "    <tr>\n",
       "      <th>pnl</th>\n",
       "      <td>0.654081</td>\n",
       "      <td>0.175877</td>\n",
       "      <td>0.075228</td>\n",
       "      <td>90.178364</td>\n",
       "      <td>9.016529</td>\n",
       "      <td>69.733238</td>\n",
       "      <td>1.534373</td>\n",
       "      <td>2.965222</td>\n",
       "      <td>17.685091</td>\n",
       "    </tr>\n",
       "    <tr>\n",
       "      <th>maxcash</th>\n",
       "      <td>1129.000000</td>\n",
       "      <td>106.000000</td>\n",
       "      <td>258.000000</td>\n",
       "      <td>3743.000000</td>\n",
       "      <td>774.000000</td>\n",
       "      <td>3539.000000</td>\n",
       "      <td>1003.000000</td>\n",
       "      <td>2136.000000</td>\n",
       "      <td>2136.000000</td>\n",
       "    </tr>\n",
       "    <tr>\n",
       "      <th>trades</th>\n",
       "      <td>13919.000000</td>\n",
       "      <td>126.000000</td>\n",
       "      <td>868.000000</td>\n",
       "      <td>62991.000000</td>\n",
       "      <td>12978.000000</td>\n",
       "      <td>88188.000000</td>\n",
       "      <td>3664.000000</td>\n",
       "      <td>16941.000000</td>\n",
       "      <td>16941.000000</td>\n",
       "    </tr>\n",
       "  </tbody>\n",
       "</table>\n",
       "</div>"
      ],
      "text/plain": [
       "         BTC_USD_2023  ETH_BTC_2023  ETH_USD_2023  BTC_USD_2022  ETH_BTC_2022  \\\n",
       "w          200.000000    100.000000     50.000000    500.000000    200.000000   \n",
       "j            0.000000      0.000000      1.500000      0.000000      0.000000   \n",
       "pnl          0.654081      0.175877      0.075228     90.178364      9.016529   \n",
       "maxcash   1129.000000    106.000000    258.000000   3743.000000    774.000000   \n",
       "trades   13919.000000    126.000000    868.000000  62991.000000  12978.000000   \n",
       "\n",
       "         ETH_USD_2022  BTC_USD_2021  ETH_BTC_2021  ETH_USD_2021  \n",
       "w          200.000000     30.000000    500.000000    500.000000  \n",
       "j            0.000000      0.500000      0.000000      0.000000  \n",
       "pnl         69.733238      1.534373      2.965222     17.685091  \n",
       "maxcash   3539.000000   1003.000000   2136.000000   2136.000000  \n",
       "trades   88188.000000   3664.000000  16941.000000  16941.000000  "
      ]
     },
     "execution_count": 988,
     "metadata": {},
     "output_type": "execute_result"
    }
   ],
   "source": [
    "final_resultsdub"
   ]
  },
  {
   "cell_type": "markdown",
   "id": "5d7fb4b5",
   "metadata": {},
   "source": [
    "This strategy has very large returns. However, we must underlign two things.\n",
    "First of all, I intentionally did not set an upper limit on maxcash. I did this because, realistically, a higher maxcash will always be better than a lower one, so the limit should be set by the traders using the strategy and their risk tolerance. Since the base investment is 1 dollar, a 1129 maxcash means that you need to put in 1000 times more than you initially planned, which is huge. Also, the pnl is here in USD, which means that it cannot be interpreted as a percentage since we are sometimes investing more than one USD at a time. Finally, the number of trades is sometimes extremely high, which could create complications."
   ]
  },
  {
   "cell_type": "markdown",
   "id": "8aaacb46",
   "metadata": {},
   "source": [
    "I also coded VPINshort, but it wasn't up to par with the other two strategies."
   ]
  },
  {
   "cell_type": "code",
   "execution_count": null,
   "id": "b774a1d7",
   "metadata": {},
   "outputs": [],
   "source": [
    "def VPINshort(dataset, window, j):\n",
    "    \n",
    "    #this part calculates a rolling trade flow based on the window input\n",
    "    dataset['rollingTradeflow'] = dataset['Tradeflow'].rolling(window,closed = 'left').sum()\n",
    "    dataset=dataset.dropna(axis=0)\n",
    "    \n",
    "    #this part splits the data for training and testing purposes\n",
    "    train, test = train_test_split(dataset, test_size=0.3,shuffle = False)\n",
    "    beta = sm.OLS(train['returns'],train['rollingTradeflow']).fit().params[0]\n",
    "    \n",
    "    #this part predicts the returns with our beta and tradeflow\n",
    "    test['pred_returns'] = test['rollingTradeflow'] * beta\n",
    "    dataset = test\n",
    "    \n",
    "    #this is the calculation of the level and trigger\n",
    "    buyhigh = dataset['pred_returns'].mean() + dataset['pred_returns'].std()*j\n",
    "    buylow = dataset['pred_returns'].mean() + dataset['pred_returns'].std()*j/2\n",
    "    \n",
    "    sellhigh = dataset['pred_returns'].mean() - dataset['pred_returns'].std()*j\n",
    "    selllow = dataset['pred_returns'].mean() - dataset['pred_returns'].std()*j/2\n",
    "    \n",
    "    dataset['trigger1'] = np.where(dataset['pred_returns']>buyhigh, 1, 0)\n",
    "    dataset['trigger2'] = np.where(dataset['pred_returns']<sellhigh, -1, dataset['trigger1'])\n",
    "    dataset['exit'] = np.where(dataset['pred_returns']>buylow, 1, 0)\n",
    "    dataset['exit'] = np.where(dataset['pred_returns']<selllow, 1, dataset['exit'])\n",
    "    \n",
    "    df = dataset.copy()\n",
    "    df['Cash']=0.0\n",
    "    df['Position']=0.0\n",
    "    df['Pnl']=0.0\n",
    "    for today in df.index:\n",
    "        if today == df.index[0]:\n",
    "            if df.loc[today,'trigger2'] ==1:\n",
    "                df.loc[today,'Position'] = 1 / df.loc[today,'PriceMillionths']\n",
    "                df.loc[today,'Cash'] = - 1      \n",
    "            if df.loc[today,'trigger2'] == -1:\n",
    "                df.loc[today,'Position'] = -1 / df.loc[today,'PriceMillionths']\n",
    "                df.loc[today,'Cash'] = 1   \n",
    "        elif today == df.index[-1]:\n",
    "            if df.loc[yesterday,'Position'] != 0.0:\n",
    "                df.loc[today,'Cash'] = df.loc[yesterday,'Position'] * df.loc[today,'PriceMillionths'] \n",
    "                df.loc[today,'Position'] = 0.0\n",
    "                #df.loc[today,'Pnl'] = df['Cash'].cumsum()\n",
    "        else:\n",
    "            if df.loc[today,'trigger2'] > 0 and df.loc[yesterday,'Position']==0: \n",
    "                df.loc[today,'Position'] = 1 / df.loc[today,'PriceMillionths']\n",
    "                df.loc[today,'Cash'] = - 1\n",
    "            elif df.loc[today,'trigger2'] < 0 and df.loc[yesterday,'Position']==0: \n",
    "                df.loc[today,'Position'] = - 1 / df.loc[today,'PriceMillionths']\n",
    "                df.loc[today,'Cash'] = 1\n",
    "            elif df.loc[today,'exit'] == 0 and df.loc[yesterday,'Position'] != 0.0: \n",
    "                df.loc[today,'Cash'] = df.loc[yesterday,'Position'] * df.loc[today,'PriceMillionths']    \n",
    "                df.loc[today,'Position'] = 0.0\n",
    "                #df.loc[today,'Pnl'] = df['Cash'].cumsum()\n",
    "            else:\n",
    "                df.loc[today,'Position'] = df.loc[yesterday,'Position'] \n",
    "        yesterday=today\n",
    "    df['cumpnl']= df['Cash']\n",
    "    return df"
   ]
  },
  {
   "cell_type": "code",
   "execution_count": null,
   "id": "437048d1",
   "metadata": {},
   "outputs": [],
   "source": [
    "optimal_parameters_short = pd.DataFrame(columns =[0,0.5,1,1.5,2,2.5] , index = [5,10,30,50,100,200,500])\n",
    "\n",
    "for w in [5,10,30,50,100,200,500,1000]:\n",
    "    for j in np.arange(0,2,0.5):\n",
    "        optimal_parameters_long.loc[w,j] = VPINshort(BTC_USD_2023[:10000], w, j)['cumpnl'][-1]      "
   ]
  },
  {
   "cell_type": "code",
   "execution_count": null,
   "id": "3203e815",
   "metadata": {},
   "outputs": [],
   "source": [
    "figure(figsize=(8, 6), dpi=80)\n",
    "#sns.color_palette(\"vlag\", as_cmap=True)\n",
    "ma = sns.heatmap(optimal_parameters_long.values.tolist(),cmap=\"vlag\",annot=True,xticklabels=[0,0.5,1,1.5,2,2.5], yticklabels=[5,10,30,50,100,200,500])\n",
    "ma.set(xlabel='standard deviation multiplier', ylabel='size of window in seconds',title = 'Heatmap of optimal level-window combinations')"
   ]
  },
  {
   "cell_type": "code",
   "execution_count": null,
   "id": "a19e8963",
   "metadata": {},
   "outputs": [],
   "source": [
    "#this was storage in case I lost them - they take a while to run\n",
    "storepnl1 = [[5, 0.0], [10, 0.0], [500, 0.5]]\n",
    "storepnl2 = [[100,0.0],[500,1.0],[200,0.0]]\n",
    "storepnl3 = [[5, 0.0], [30, 0.0], [500, 0.5]]"
   ]
  }
 ],
 "metadata": {
  "kernelspec": {
   "display_name": "Python 3 (ipykernel)",
   "language": "python",
   "name": "python3"
  },
  "language_info": {
   "codemirror_mode": {
    "name": "ipython",
    "version": 3
   },
   "file_extension": ".py",
   "mimetype": "text/x-python",
   "name": "python",
   "nbconvert_exporter": "python",
   "pygments_lexer": "ipython3",
   "version": "3.9.12"
  }
 },
 "nbformat": 4,
 "nbformat_minor": 5
}
