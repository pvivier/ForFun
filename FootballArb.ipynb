{
 "cells": [
  {
   "cell_type": "code",
   "execution_count": 1,
   "id": "bc3ed422",
   "metadata": {
    "ExecuteTime": {
     "end_time": "2022-12-03T16:55:06.785541Z",
     "start_time": "2022-12-03T16:55:05.893212Z"
    }
   },
   "outputs": [],
   "source": [
    "import pandas as pd\n",
    "import numpy as np\n",
    "import matplotlib.pyplot as plt\n",
    "import requests,yaml,datetime,os,re\n",
    "os.chdir(os.getcwd())\n",
    "from bs4 import BeautifulSoup as bs\n",
    "from tqdm import tqdm as tqdm\n",
    "pd.set_option('display.max_rows', 10)\n",
    "pd.set_option('mode.chained_assignment', None)\n",
    "import seaborn as sns\n",
    "sns.set_style(\"darkgrid\")\n",
    "\n",
    "from dateutil.relativedelta import relativedelta\n",
    "\n",
    "path = \"C:\\\\Users\\\\awkno\\\\FINM 35910\\\\Sports Arbitrage\""
   ]
  },
  {
   "cell_type": "markdown",
   "id": "2f5e51c9",
   "metadata": {},
   "source": [
    "Soccer"
   ]
  },
  {
   "cell_type": "code",
   "execution_count": 2,
   "id": "d8e31c43",
   "metadata": {
    "ExecuteTime": {
     "end_time": "2022-12-03T16:55:09.767544Z",
     "start_time": "2022-12-03T16:55:08.422524Z"
    }
   },
   "outputs": [
    {
     "ename": "FileNotFoundError",
     "evalue": "[Errno 2] No such file or directory: 'C:\\\\Users\\\\awkno\\\\FINM 35910\\\\Sports Arbitrage\\\\All\\\\Matches.csv'",
     "output_type": "error",
     "traceback": [
      "\u001b[0;31m---------------------------------------------------------------------------\u001b[0m",
      "\u001b[0;31mFileNotFoundError\u001b[0m                         Traceback (most recent call last)",
      "Input \u001b[0;32mIn [2]\u001b[0m, in \u001b[0;36m<cell line: 1>\u001b[0;34m()\u001b[0m\n\u001b[0;32m----> 1\u001b[0m soccer \u001b[38;5;241m=\u001b[39m \u001b[43mpd\u001b[49m\u001b[38;5;241;43m.\u001b[39;49m\u001b[43mread_csv\u001b[49m\u001b[43m(\u001b[49m\u001b[38;5;124;43m\"\u001b[39;49m\u001b[38;5;124;43mC:\u001b[39;49m\u001b[38;5;130;43;01m\\\\\u001b[39;49;00m\u001b[38;5;124;43mUsers\u001b[39;49m\u001b[38;5;130;43;01m\\\\\u001b[39;49;00m\u001b[38;5;124;43mawkno\u001b[39;49m\u001b[38;5;130;43;01m\\\\\u001b[39;49;00m\u001b[38;5;124;43mFINM 35910\u001b[39;49m\u001b[38;5;130;43;01m\\\\\u001b[39;49;00m\u001b[38;5;124;43mSports Arbitrage\u001b[39;49m\u001b[38;5;130;43;01m\\\\\u001b[39;49;00m\u001b[38;5;124;43mAll\u001b[39;49m\u001b[38;5;130;43;01m\\\\\u001b[39;49;00m\u001b[38;5;124;43mMatches.csv\u001b[39;49m\u001b[38;5;124;43m\"\u001b[39;49m\u001b[43m)\u001b[49m\n\u001b[1;32m      2\u001b[0m soccer1 \u001b[38;5;241m=\u001b[39m pd\u001b[38;5;241m.\u001b[39mread_csv(path\u001b[38;5;241m+\u001b[39m\u001b[38;5;124m\"\u001b[39m\u001b[38;5;130;01m\\\\\u001b[39;00m\u001b[38;5;124mMatches.csv\u001b[39m\u001b[38;5;124m\"\u001b[39m)\n",
      "File \u001b[0;32m~/opt/anaconda3/lib/python3.9/site-packages/pandas/util/_decorators.py:311\u001b[0m, in \u001b[0;36mdeprecate_nonkeyword_arguments.<locals>.decorate.<locals>.wrapper\u001b[0;34m(*args, **kwargs)\u001b[0m\n\u001b[1;32m    305\u001b[0m \u001b[38;5;28;01mif\u001b[39;00m \u001b[38;5;28mlen\u001b[39m(args) \u001b[38;5;241m>\u001b[39m num_allow_args:\n\u001b[1;32m    306\u001b[0m     warnings\u001b[38;5;241m.\u001b[39mwarn(\n\u001b[1;32m    307\u001b[0m         msg\u001b[38;5;241m.\u001b[39mformat(arguments\u001b[38;5;241m=\u001b[39marguments),\n\u001b[1;32m    308\u001b[0m         \u001b[38;5;167;01mFutureWarning\u001b[39;00m,\n\u001b[1;32m    309\u001b[0m         stacklevel\u001b[38;5;241m=\u001b[39mstacklevel,\n\u001b[1;32m    310\u001b[0m     )\n\u001b[0;32m--> 311\u001b[0m \u001b[38;5;28;01mreturn\u001b[39;00m \u001b[43mfunc\u001b[49m\u001b[43m(\u001b[49m\u001b[38;5;241;43m*\u001b[39;49m\u001b[43margs\u001b[49m\u001b[43m,\u001b[49m\u001b[43m \u001b[49m\u001b[38;5;241;43m*\u001b[39;49m\u001b[38;5;241;43m*\u001b[39;49m\u001b[43mkwargs\u001b[49m\u001b[43m)\u001b[49m\n",
      "File \u001b[0;32m~/opt/anaconda3/lib/python3.9/site-packages/pandas/io/parsers/readers.py:680\u001b[0m, in \u001b[0;36mread_csv\u001b[0;34m(filepath_or_buffer, sep, delimiter, header, names, index_col, usecols, squeeze, prefix, mangle_dupe_cols, dtype, engine, converters, true_values, false_values, skipinitialspace, skiprows, skipfooter, nrows, na_values, keep_default_na, na_filter, verbose, skip_blank_lines, parse_dates, infer_datetime_format, keep_date_col, date_parser, dayfirst, cache_dates, iterator, chunksize, compression, thousands, decimal, lineterminator, quotechar, quoting, doublequote, escapechar, comment, encoding, encoding_errors, dialect, error_bad_lines, warn_bad_lines, on_bad_lines, delim_whitespace, low_memory, memory_map, float_precision, storage_options)\u001b[0m\n\u001b[1;32m    665\u001b[0m kwds_defaults \u001b[38;5;241m=\u001b[39m _refine_defaults_read(\n\u001b[1;32m    666\u001b[0m     dialect,\n\u001b[1;32m    667\u001b[0m     delimiter,\n\u001b[0;32m   (...)\u001b[0m\n\u001b[1;32m    676\u001b[0m     defaults\u001b[38;5;241m=\u001b[39m{\u001b[38;5;124m\"\u001b[39m\u001b[38;5;124mdelimiter\u001b[39m\u001b[38;5;124m\"\u001b[39m: \u001b[38;5;124m\"\u001b[39m\u001b[38;5;124m,\u001b[39m\u001b[38;5;124m\"\u001b[39m},\n\u001b[1;32m    677\u001b[0m )\n\u001b[1;32m    678\u001b[0m kwds\u001b[38;5;241m.\u001b[39mupdate(kwds_defaults)\n\u001b[0;32m--> 680\u001b[0m \u001b[38;5;28;01mreturn\u001b[39;00m \u001b[43m_read\u001b[49m\u001b[43m(\u001b[49m\u001b[43mfilepath_or_buffer\u001b[49m\u001b[43m,\u001b[49m\u001b[43m \u001b[49m\u001b[43mkwds\u001b[49m\u001b[43m)\u001b[49m\n",
      "File \u001b[0;32m~/opt/anaconda3/lib/python3.9/site-packages/pandas/io/parsers/readers.py:575\u001b[0m, in \u001b[0;36m_read\u001b[0;34m(filepath_or_buffer, kwds)\u001b[0m\n\u001b[1;32m    572\u001b[0m _validate_names(kwds\u001b[38;5;241m.\u001b[39mget(\u001b[38;5;124m\"\u001b[39m\u001b[38;5;124mnames\u001b[39m\u001b[38;5;124m\"\u001b[39m, \u001b[38;5;28;01mNone\u001b[39;00m))\n\u001b[1;32m    574\u001b[0m \u001b[38;5;66;03m# Create the parser.\u001b[39;00m\n\u001b[0;32m--> 575\u001b[0m parser \u001b[38;5;241m=\u001b[39m \u001b[43mTextFileReader\u001b[49m\u001b[43m(\u001b[49m\u001b[43mfilepath_or_buffer\u001b[49m\u001b[43m,\u001b[49m\u001b[43m \u001b[49m\u001b[38;5;241;43m*\u001b[39;49m\u001b[38;5;241;43m*\u001b[39;49m\u001b[43mkwds\u001b[49m\u001b[43m)\u001b[49m\n\u001b[1;32m    577\u001b[0m \u001b[38;5;28;01mif\u001b[39;00m chunksize \u001b[38;5;129;01mor\u001b[39;00m iterator:\n\u001b[1;32m    578\u001b[0m     \u001b[38;5;28;01mreturn\u001b[39;00m parser\n",
      "File \u001b[0;32m~/opt/anaconda3/lib/python3.9/site-packages/pandas/io/parsers/readers.py:933\u001b[0m, in \u001b[0;36mTextFileReader.__init__\u001b[0;34m(self, f, engine, **kwds)\u001b[0m\n\u001b[1;32m    930\u001b[0m     \u001b[38;5;28mself\u001b[39m\u001b[38;5;241m.\u001b[39moptions[\u001b[38;5;124m\"\u001b[39m\u001b[38;5;124mhas_index_names\u001b[39m\u001b[38;5;124m\"\u001b[39m] \u001b[38;5;241m=\u001b[39m kwds[\u001b[38;5;124m\"\u001b[39m\u001b[38;5;124mhas_index_names\u001b[39m\u001b[38;5;124m\"\u001b[39m]\n\u001b[1;32m    932\u001b[0m \u001b[38;5;28mself\u001b[39m\u001b[38;5;241m.\u001b[39mhandles: IOHandles \u001b[38;5;241m|\u001b[39m \u001b[38;5;28;01mNone\u001b[39;00m \u001b[38;5;241m=\u001b[39m \u001b[38;5;28;01mNone\u001b[39;00m\n\u001b[0;32m--> 933\u001b[0m \u001b[38;5;28mself\u001b[39m\u001b[38;5;241m.\u001b[39m_engine \u001b[38;5;241m=\u001b[39m \u001b[38;5;28;43mself\u001b[39;49m\u001b[38;5;241;43m.\u001b[39;49m\u001b[43m_make_engine\u001b[49m\u001b[43m(\u001b[49m\u001b[43mf\u001b[49m\u001b[43m,\u001b[49m\u001b[43m \u001b[49m\u001b[38;5;28;43mself\u001b[39;49m\u001b[38;5;241;43m.\u001b[39;49m\u001b[43mengine\u001b[49m\u001b[43m)\u001b[49m\n",
      "File \u001b[0;32m~/opt/anaconda3/lib/python3.9/site-packages/pandas/io/parsers/readers.py:1217\u001b[0m, in \u001b[0;36mTextFileReader._make_engine\u001b[0;34m(self, f, engine)\u001b[0m\n\u001b[1;32m   1213\u001b[0m     mode \u001b[38;5;241m=\u001b[39m \u001b[38;5;124m\"\u001b[39m\u001b[38;5;124mrb\u001b[39m\u001b[38;5;124m\"\u001b[39m\n\u001b[1;32m   1214\u001b[0m \u001b[38;5;66;03m# error: No overload variant of \"get_handle\" matches argument types\u001b[39;00m\n\u001b[1;32m   1215\u001b[0m \u001b[38;5;66;03m# \"Union[str, PathLike[str], ReadCsvBuffer[bytes], ReadCsvBuffer[str]]\"\u001b[39;00m\n\u001b[1;32m   1216\u001b[0m \u001b[38;5;66;03m# , \"str\", \"bool\", \"Any\", \"Any\", \"Any\", \"Any\", \"Any\"\u001b[39;00m\n\u001b[0;32m-> 1217\u001b[0m \u001b[38;5;28mself\u001b[39m\u001b[38;5;241m.\u001b[39mhandles \u001b[38;5;241m=\u001b[39m \u001b[43mget_handle\u001b[49m\u001b[43m(\u001b[49m\u001b[43m  \u001b[49m\u001b[38;5;66;43;03m# type: ignore[call-overload]\u001b[39;49;00m\n\u001b[1;32m   1218\u001b[0m \u001b[43m    \u001b[49m\u001b[43mf\u001b[49m\u001b[43m,\u001b[49m\n\u001b[1;32m   1219\u001b[0m \u001b[43m    \u001b[49m\u001b[43mmode\u001b[49m\u001b[43m,\u001b[49m\n\u001b[1;32m   1220\u001b[0m \u001b[43m    \u001b[49m\u001b[43mencoding\u001b[49m\u001b[38;5;241;43m=\u001b[39;49m\u001b[38;5;28;43mself\u001b[39;49m\u001b[38;5;241;43m.\u001b[39;49m\u001b[43moptions\u001b[49m\u001b[38;5;241;43m.\u001b[39;49m\u001b[43mget\u001b[49m\u001b[43m(\u001b[49m\u001b[38;5;124;43m\"\u001b[39;49m\u001b[38;5;124;43mencoding\u001b[39;49m\u001b[38;5;124;43m\"\u001b[39;49m\u001b[43m,\u001b[49m\u001b[43m \u001b[49m\u001b[38;5;28;43;01mNone\u001b[39;49;00m\u001b[43m)\u001b[49m\u001b[43m,\u001b[49m\n\u001b[1;32m   1221\u001b[0m \u001b[43m    \u001b[49m\u001b[43mcompression\u001b[49m\u001b[38;5;241;43m=\u001b[39;49m\u001b[38;5;28;43mself\u001b[39;49m\u001b[38;5;241;43m.\u001b[39;49m\u001b[43moptions\u001b[49m\u001b[38;5;241;43m.\u001b[39;49m\u001b[43mget\u001b[49m\u001b[43m(\u001b[49m\u001b[38;5;124;43m\"\u001b[39;49m\u001b[38;5;124;43mcompression\u001b[39;49m\u001b[38;5;124;43m\"\u001b[39;49m\u001b[43m,\u001b[49m\u001b[43m \u001b[49m\u001b[38;5;28;43;01mNone\u001b[39;49;00m\u001b[43m)\u001b[49m\u001b[43m,\u001b[49m\n\u001b[1;32m   1222\u001b[0m \u001b[43m    \u001b[49m\u001b[43mmemory_map\u001b[49m\u001b[38;5;241;43m=\u001b[39;49m\u001b[38;5;28;43mself\u001b[39;49m\u001b[38;5;241;43m.\u001b[39;49m\u001b[43moptions\u001b[49m\u001b[38;5;241;43m.\u001b[39;49m\u001b[43mget\u001b[49m\u001b[43m(\u001b[49m\u001b[38;5;124;43m\"\u001b[39;49m\u001b[38;5;124;43mmemory_map\u001b[39;49m\u001b[38;5;124;43m\"\u001b[39;49m\u001b[43m,\u001b[49m\u001b[43m \u001b[49m\u001b[38;5;28;43;01mFalse\u001b[39;49;00m\u001b[43m)\u001b[49m\u001b[43m,\u001b[49m\n\u001b[1;32m   1223\u001b[0m \u001b[43m    \u001b[49m\u001b[43mis_text\u001b[49m\u001b[38;5;241;43m=\u001b[39;49m\u001b[43mis_text\u001b[49m\u001b[43m,\u001b[49m\n\u001b[1;32m   1224\u001b[0m \u001b[43m    \u001b[49m\u001b[43merrors\u001b[49m\u001b[38;5;241;43m=\u001b[39;49m\u001b[38;5;28;43mself\u001b[39;49m\u001b[38;5;241;43m.\u001b[39;49m\u001b[43moptions\u001b[49m\u001b[38;5;241;43m.\u001b[39;49m\u001b[43mget\u001b[49m\u001b[43m(\u001b[49m\u001b[38;5;124;43m\"\u001b[39;49m\u001b[38;5;124;43mencoding_errors\u001b[39;49m\u001b[38;5;124;43m\"\u001b[39;49m\u001b[43m,\u001b[49m\u001b[43m \u001b[49m\u001b[38;5;124;43m\"\u001b[39;49m\u001b[38;5;124;43mstrict\u001b[39;49m\u001b[38;5;124;43m\"\u001b[39;49m\u001b[43m)\u001b[49m\u001b[43m,\u001b[49m\n\u001b[1;32m   1225\u001b[0m \u001b[43m    \u001b[49m\u001b[43mstorage_options\u001b[49m\u001b[38;5;241;43m=\u001b[39;49m\u001b[38;5;28;43mself\u001b[39;49m\u001b[38;5;241;43m.\u001b[39;49m\u001b[43moptions\u001b[49m\u001b[38;5;241;43m.\u001b[39;49m\u001b[43mget\u001b[49m\u001b[43m(\u001b[49m\u001b[38;5;124;43m\"\u001b[39;49m\u001b[38;5;124;43mstorage_options\u001b[39;49m\u001b[38;5;124;43m\"\u001b[39;49m\u001b[43m,\u001b[49m\u001b[43m \u001b[49m\u001b[38;5;28;43;01mNone\u001b[39;49;00m\u001b[43m)\u001b[49m\u001b[43m,\u001b[49m\n\u001b[1;32m   1226\u001b[0m \u001b[43m\u001b[49m\u001b[43m)\u001b[49m\n\u001b[1;32m   1227\u001b[0m \u001b[38;5;28;01massert\u001b[39;00m \u001b[38;5;28mself\u001b[39m\u001b[38;5;241m.\u001b[39mhandles \u001b[38;5;129;01mis\u001b[39;00m \u001b[38;5;129;01mnot\u001b[39;00m \u001b[38;5;28;01mNone\u001b[39;00m\n\u001b[1;32m   1228\u001b[0m f \u001b[38;5;241m=\u001b[39m \u001b[38;5;28mself\u001b[39m\u001b[38;5;241m.\u001b[39mhandles\u001b[38;5;241m.\u001b[39mhandle\n",
      "File \u001b[0;32m~/opt/anaconda3/lib/python3.9/site-packages/pandas/io/common.py:789\u001b[0m, in \u001b[0;36mget_handle\u001b[0;34m(path_or_buf, mode, encoding, compression, memory_map, is_text, errors, storage_options)\u001b[0m\n\u001b[1;32m    784\u001b[0m \u001b[38;5;28;01melif\u001b[39;00m \u001b[38;5;28misinstance\u001b[39m(handle, \u001b[38;5;28mstr\u001b[39m):\n\u001b[1;32m    785\u001b[0m     \u001b[38;5;66;03m# Check whether the filename is to be opened in binary mode.\u001b[39;00m\n\u001b[1;32m    786\u001b[0m     \u001b[38;5;66;03m# Binary mode does not support 'encoding' and 'newline'.\u001b[39;00m\n\u001b[1;32m    787\u001b[0m     \u001b[38;5;28;01mif\u001b[39;00m ioargs\u001b[38;5;241m.\u001b[39mencoding \u001b[38;5;129;01mand\u001b[39;00m \u001b[38;5;124m\"\u001b[39m\u001b[38;5;124mb\u001b[39m\u001b[38;5;124m\"\u001b[39m \u001b[38;5;129;01mnot\u001b[39;00m \u001b[38;5;129;01min\u001b[39;00m ioargs\u001b[38;5;241m.\u001b[39mmode:\n\u001b[1;32m    788\u001b[0m         \u001b[38;5;66;03m# Encoding\u001b[39;00m\n\u001b[0;32m--> 789\u001b[0m         handle \u001b[38;5;241m=\u001b[39m \u001b[38;5;28;43mopen\u001b[39;49m\u001b[43m(\u001b[49m\n\u001b[1;32m    790\u001b[0m \u001b[43m            \u001b[49m\u001b[43mhandle\u001b[49m\u001b[43m,\u001b[49m\n\u001b[1;32m    791\u001b[0m \u001b[43m            \u001b[49m\u001b[43mioargs\u001b[49m\u001b[38;5;241;43m.\u001b[39;49m\u001b[43mmode\u001b[49m\u001b[43m,\u001b[49m\n\u001b[1;32m    792\u001b[0m \u001b[43m            \u001b[49m\u001b[43mencoding\u001b[49m\u001b[38;5;241;43m=\u001b[39;49m\u001b[43mioargs\u001b[49m\u001b[38;5;241;43m.\u001b[39;49m\u001b[43mencoding\u001b[49m\u001b[43m,\u001b[49m\n\u001b[1;32m    793\u001b[0m \u001b[43m            \u001b[49m\u001b[43merrors\u001b[49m\u001b[38;5;241;43m=\u001b[39;49m\u001b[43merrors\u001b[49m\u001b[43m,\u001b[49m\n\u001b[1;32m    794\u001b[0m \u001b[43m            \u001b[49m\u001b[43mnewline\u001b[49m\u001b[38;5;241;43m=\u001b[39;49m\u001b[38;5;124;43m\"\u001b[39;49m\u001b[38;5;124;43m\"\u001b[39;49m\u001b[43m,\u001b[49m\n\u001b[1;32m    795\u001b[0m \u001b[43m        \u001b[49m\u001b[43m)\u001b[49m\n\u001b[1;32m    796\u001b[0m     \u001b[38;5;28;01melse\u001b[39;00m:\n\u001b[1;32m    797\u001b[0m         \u001b[38;5;66;03m# Binary mode\u001b[39;00m\n\u001b[1;32m    798\u001b[0m         handle \u001b[38;5;241m=\u001b[39m \u001b[38;5;28mopen\u001b[39m(handle, ioargs\u001b[38;5;241m.\u001b[39mmode)\n",
      "\u001b[0;31mFileNotFoundError\u001b[0m: [Errno 2] No such file or directory: 'C:\\\\Users\\\\awkno\\\\FINM 35910\\\\Sports Arbitrage\\\\All\\\\Matches.csv'"
     ]
    }
   ],
   "source": [
    "soccer = pd.read_csv(\"C:\\\\Users\\\\awkno\\\\FINM 35910\\\\Sports Arbitrage\\\\All\\\\Matches.csv\")\n",
    "soccer1 = pd.read_csv(path+\"\\\\Matches.csv\")"
   ]
  },
  {
   "cell_type": "code",
   "execution_count": null,
   "id": "a002311a",
   "metadata": {},
   "outputs": [],
   "source": []
  },
  {
   "cell_type": "code",
   "execution_count": 3,
   "id": "449b9267",
   "metadata": {
    "ExecuteTime": {
     "end_time": "2022-12-03T16:55:09.814235Z",
     "start_time": "2022-12-03T16:55:09.768522Z"
    }
   },
   "outputs": [],
   "source": [
    "soccer1 = soccer1.drop(['BbAH','BbAHh','AHh','BbMxAHH','BbAvAHH','BbMxAHA',\n",
    "                  'BbAvAHA','B365AHH','B365AHA','PAHH','PAHA','MaxAHH',\n",
    "                  'MaxAHA','AvgAHH','AvgAHA','Referee','HS','AS','HST',\n",
    "                  'AST','HC','AC','HF','AF','HFKC','AFKC'],axis=1)"
   ]
  },
  {
   "cell_type": "code",
   "execution_count": 4,
   "id": "1e80ac70",
   "metadata": {
    "ExecuteTime": {
     "end_time": "2022-12-03T16:55:11.225147Z",
     "start_time": "2022-12-03T16:55:11.197340Z"
    }
   },
   "outputs": [],
   "source": [
    "def cleansoccer(df):\n",
    "    df['homegoals'] = df['HG'].fillna(0)+df['FTHG'].fillna(0)\n",
    "    df['awaygoals']=df['AG'].fillna(0)+df['FTAG'].fillna(0)\n",
    "    \n",
    "    soc = df[['League','Date','B365H','B365D','B365A','BSH','BSD','BSA','BWH','BWD','BWA','GBH','GBD','GBA','IWH','IWD','IWA','LBH','LBD','LBA','PSH','PH','PSD','PD','PSA','PA','SBH',\n",
    "                     'SBD','SBA','SJH','SJD','SJA','VCH','VCD','VCA','WHH','WHD','WHA','Home','Away','MaxH','MaxD','MaxA','Max>2.5','Max<2.5','homegoals','awaygoals']]\n",
    "    soc['Date']=soc['Date'].astype(str).apply(lambda x: x.replace('-','')[:8]).astype(int)\n",
    "    soc1 = soc[['League','Date','Home','Away','homegoals','awaygoals']]\n",
    "    lst = ['Bet365','Bwin','VCBet','William Hill','Unibet','Pinnacle','Marathonbet']\n",
    "\n",
    "    home = ['B365H','BWH','GBH','LBH','PSH','PH','SBH','SJH','VCH','WHH','MaxH','League','Date','Home','Away']\n",
    "    draw = ['B365D','BWD','GBD','LBD','PSD','PD','SBD','SJD','VCD','WHD','MaxD','League','Date','Home','Away']\n",
    "    away = ['B365A','BWA','GBA','LBA','PSA','PA','SBA','SJA','VCA','WHA','MaxA','League','Date','Home','Away']\n",
    "    \n",
    "    hom = soc[home].rename(columns={'B365H':'Bet365','BWH':'Bwin','GBH':'Gamebookers',\n",
    "                                    'LBH':'Ladbrokes','PSH':'Pinnacle','PH':'Pinnacle',\n",
    "                                    'SBH':'Sportingbet','SJH':'Stan James','VCH':'VC Bet','WHH':'William Hill'})\n",
    "    dra = soc[draw].rename(columns={'B365D':'Bet365','BWD':'Bwin','GBD':'Gamebookers',\n",
    "                                    'LBD':'Ladbrokes','PSD':'Pinnacle','PD':'Pinnacle',\n",
    "                                    'SBD':'Sportingbet','SJD':'Stan James','VCD':'VC Bet','WHD':'William Hill'})\n",
    "    awa = soc[away].rename(columns={'B365A':'Bet365','BWA':'Bwin','GBA':'Gamebookers',\n",
    "                                    'LBA':'Ladbrokes','PSA':'Pinnacle','PA':'Pinnacle',\n",
    "                                    'SBA':'Sportingbet','SJA':'Stan James','VCA':'VC Bet','WHA':'William Hill'})\n",
    "    \n",
    "    hom['Max'] = hom[['Bet365','Bwin','Gamebookers','Ladbrokes','Pinnacle','Sportingbet','Stan James','VC Bet','William Hill']].max(axis=1)\n",
    "    hom['MaxH']=hom['Max']\n",
    "    dra['Max']=dra[['Bet365','Bwin','Gamebookers','Ladbrokes','Pinnacle','Sportingbet','Stan James','VC Bet','William Hill']].max(axis=1)\n",
    "    dra['MaxD']=dra['Max']\n",
    "    awa['Max']=awa[['Bet365','Bwin','Gamebookers','Ladbrokes','Pinnacle','Sportingbet','Stan James','VC Bet','William Hill']].max(axis=1)\n",
    "    awa['MaxA']=awa['Max']\n",
    "    hom = hom.fillna('')\n",
    "    dra = dra.fillna('')\n",
    "    awa = awa.fillna('')\n",
    "    \n",
    "    hom=hom[hom['MaxH']!='']\n",
    "    dra=dra[dra['MaxD']!='']\n",
    "    awa=awa[awa['MaxA']!='']\n",
    "    \n",
    "    alll = hom.merge(dra,on=['League','Date','Home','Away'])\n",
    "    allll= alll.merge(awa,on=['League','Date','Home','Away'])\n",
    "    \n",
    "    final = allll.merge(soc1,on=['League','Date','Home','Away'])\n",
    "    \n",
    "    colh = list(final.columns)\n",
    "    for _ in final.index:\n",
    "        lsth = list(final.loc[_,:])\n",
    "        tfh = final.loc[_,'MaxH']\n",
    "        tfd = final.loc[_,'MaxD']\n",
    "        tfa = final.loc[_,'MaxA']\n",
    "        indh = lsth.index(tfh)\n",
    "        indd = lsth.index(tfd)\n",
    "        inda = lsth.index(tfa)\n",
    "        final.loc[_,'maxbookiehome'] = colh[indh]\n",
    "        final.loc[_,'maxbookiedraw'] = colh[indd]\n",
    "        final.loc[_,'maxbookieaway'] = colh[inda]\n",
    "        \n",
    "    finalcols = ['League','Date','Home','Away','MaxH','MaxD','MaxA','homegoals','awaygoals','maxbookiehome','maxbookiedraw','maxbookieaway']\n",
    "    soccer = final[finalcols]\n",
    "        \n",
    "    soccer['maxbookiehome'] = soccer['maxbookiehome'].apply(lambda x: x.replace('_x',''))\n",
    "    soccer['maxbookiehome'] = soccer['maxbookiehome'].apply(lambda x: x.replace('_y',''))\n",
    "    soccer['maxbookiedraw'] = soccer['maxbookiedraw'].apply(lambda x: x.replace('_x',''))\n",
    "    soccer['maxbookiedraw'] = soccer['maxbookiedraw'].apply(lambda x: x.replace('_y',''))\n",
    "    soccer['maxbookieaway'] = soccer['maxbookieaway'].apply(lambda x: x.replace('_x',''))\n",
    "    soccer['maxbookieaway'] = soccer['maxbookieaway'].apply(lambda x: x.replace('_y',''))\n",
    "    return soccer\n",
    "    "
   ]
  },
  {
   "cell_type": "code",
   "execution_count": 5,
   "id": "a575c166",
   "metadata": {
    "ExecuteTime": {
     "end_time": "2022-12-03T16:56:08.187043Z",
     "start_time": "2022-12-03T16:55:12.438501Z"
    }
   },
   "outputs": [],
   "source": [
    "soc = cleansoccer(soccer1)"
   ]
  },
  {
   "cell_type": "code",
   "execution_count": 6,
   "id": "9ffe9cee",
   "metadata": {
    "ExecuteTime": {
     "end_time": "2022-12-03T16:56:08.671574Z",
     "start_time": "2022-12-03T16:56:08.187043Z"
    }
   },
   "outputs": [],
   "source": [
    "soc.to_csv(\"C:\\\\Users\\\\awkno\\\\FINM 35910\\\\Sports Arbitrage\\\\cleaned\\\\soccer.csv\")"
   ]
  },
  {
   "cell_type": "code",
   "execution_count": null,
   "id": "789ab7b1",
   "metadata": {},
   "outputs": [],
   "source": []
  },
  {
   "cell_type": "markdown",
   "id": "5147bc75",
   "metadata": {},
   "source": [
    "MLB"
   ]
  },
  {
   "cell_type": "code",
   "execution_count": 7,
   "id": "12e68831",
   "metadata": {
    "ExecuteTime": {
     "end_time": "2022-12-03T16:56:08.782466Z",
     "start_time": "2022-12-03T16:56:08.671574Z"
    }
   },
   "outputs": [],
   "source": [
    "mlb2019 = pd.read_csv(path+\"\\\\mlb\\\\mlb_2019.csv\",sep=';')\n",
    "mlb2020 = pd.read_csv(path+\"\\\\mlb\\\\mlb_2020.csv\",sep=';')\n",
    "mlb2021 = pd.read_csv(path+\"\\\\mlb\\\\mlb_2021.csv\",sep=';')\n",
    "mlb2022 = pd.read_csv(path+\"\\\\mlb\\\\mlb_2022.csv\",sep=';')\n",
    "mlb = pd.concat([mlb2019,mlb2020,mlb2021,mlb2022],axis=0)"
   ]
  },
  {
   "cell_type": "code",
   "execution_count": 8,
   "id": "83ad5842",
   "metadata": {
    "ExecuteTime": {
     "end_time": "2022-12-02T23:09:27.936929Z",
     "start_time": "2022-12-02T23:09:27.926190Z"
    }
   },
   "outputs": [],
   "source": [
    "# mlb2019['doddhome'] = mlb2019['OddHome'].apply(lambda x: (x+100)/100 if x>0 else ((-x+100)/-x))\n",
    "# mlb2019['doddaway'] = mlb2019['OddAway'].apply(lambda x: (x+100)/100 if x>0 else ((-x+100)/-x))\n",
    "# #mlb2019['hw_impprob'] = 1/mlb2019['doddhome']\n",
    "# #mlb2019['aw_impprob'] = 1/mlb2019['doddaway']\n",
    "# mlb2019['Date'] = mlb2019['Date'].apply(lambda x: datetime.datetime.strptime(x,'%d %b %Y').strftime('%Y%m%d'))\n",
    "# mlb2019['hid'] = mlb2019['Home_id'].apply(lambda x: ''.join(i[0] for i in x.split()))\n",
    "# mlb2019['aid'] = mlb2019['Away_id'].apply(lambda x: ''.join(i[0] for i in x.split()))\n",
    "# mlb2019['unique_id'] = mlb2019['hid'].astype(str)+mlb2019['aid'].astype(str)+mlb2019['Date'].astype(str)+mlb2019['Score_home'].astype(str)+mlb2019['Score_away'].astype(str)"
   ]
  },
  {
   "cell_type": "code",
   "execution_count": 9,
   "id": "9ae8ea39",
   "metadata": {
    "ExecuteTime": {
     "end_time": "2022-12-02T23:09:27.945392Z",
     "start_time": "2022-12-02T23:09:27.937308Z"
    }
   },
   "outputs": [],
   "source": [
    "# ho = mlb2019.drop('doddaway',axis=1)\n",
    "# ao = mlb2019.drop('doddhome',axis=1)\n",
    "# dts = pd.pivot_table(mlb2019,values='Date',index='unique_id',aggfunc='last')"
   ]
  },
  {
   "cell_type": "code",
   "execution_count": 10,
   "id": "6033069e",
   "metadata": {
    "ExecuteTime": {
     "end_time": "2022-12-02T23:09:27.961650Z",
     "start_time": "2022-12-02T23:09:27.945392Z"
    }
   },
   "outputs": [],
   "source": [
    "# ho = pd.pivot_table(ho,values='doddhome',index='unique_id',columns=['Bookmaker']).add_suffix('_home')\n",
    "# ao = pd.pivot_table(ao,values='doddaway',index='unique_id',columns=['Bookmaker']).add_suffix('_away')"
   ]
  },
  {
   "cell_type": "code",
   "execution_count": 11,
   "id": "957ea1c9",
   "metadata": {
    "ExecuteTime": {
     "end_time": "2022-12-02T23:09:27.973327Z",
     "start_time": "2022-12-02T23:09:27.961650Z"
    }
   },
   "outputs": [],
   "source": [
    "# maxih,colh = ho.max(axis=1),list(ho.columns)\n",
    "# maxia,cola = ao.max(axis=1),list(ao.columns)\n",
    "# for _ in ho.index:\n",
    "#     lsth = list(ho.loc[_,:])\n",
    "#     lsta = list(ao.loc[_,:])\n",
    "#     tfh = maxih.loc[_,]\n",
    "#     tfa = maxia.loc[_,]\n",
    "#     indh = lsth.index(tfh)\n",
    "#     inha = lsta.index(tfa)\n",
    "#     ho.loc[_,'maxbookiehome'] = colh[indh]\n",
    "#     ao.loc[_,'maxbookieaway'] = cola[inha]"
   ]
  },
  {
   "cell_type": "code",
   "execution_count": 12,
   "id": "fcf6e72a",
   "metadata": {
    "ExecuteTime": {
     "end_time": "2022-12-02T23:09:27.983924Z",
     "start_time": "2022-12-02T23:09:27.973874Z"
    }
   },
   "outputs": [],
   "source": [
    "# ho['maxhome'] = ho.max(axis=1)\n",
    "# ao['maxaway'] = ao.max(axis=1)"
   ]
  },
  {
   "cell_type": "code",
   "execution_count": 13,
   "id": "ea0499be",
   "metadata": {
    "ExecuteTime": {
     "end_time": "2022-12-02T23:09:27.997316Z",
     "start_time": "2022-12-02T23:09:27.984280Z"
    }
   },
   "outputs": [],
   "source": [
    "# #implied probability \n",
    "# ao['away_prob'] = 1/ao['maxaway']\n",
    "# ho['home_prob'] = 1/ho['maxhome']"
   ]
  },
  {
   "cell_type": "code",
   "execution_count": 14,
   "id": "e3345ff7",
   "metadata": {
    "ExecuteTime": {
     "end_time": "2022-12-02T23:09:28.015520Z",
     "start_time": "2022-12-02T23:09:28.000983Z"
    }
   },
   "outputs": [],
   "source": [
    "# al = pd.concat([ao,ho,dts],axis=1)[['maxbookiehome','maxbookieaway','maxhome','maxaway','home_prob','away_prob','Date']]"
   ]
  },
  {
   "cell_type": "code",
   "execution_count": 15,
   "id": "dd0e6717",
   "metadata": {
    "ExecuteTime": {
     "end_time": "2022-12-02T23:09:28.030174Z",
     "start_time": "2022-12-02T23:09:28.015520Z"
    }
   },
   "outputs": [],
   "source": [
    "# al = al.sort_values('Date')"
   ]
  },
  {
   "cell_type": "code",
   "execution_count": 16,
   "id": "271efe06",
   "metadata": {
    "ExecuteTime": {
     "end_time": "2022-12-02T23:09:28.046617Z",
     "start_time": "2022-12-02T23:09:28.031180Z"
    }
   },
   "outputs": [],
   "source": [
    "# z = al['home_prob']+al['away_prob']"
   ]
  },
  {
   "cell_type": "markdown",
   "id": "6314f314",
   "metadata": {
    "ExecuteTime": {
     "end_time": "2022-11-18T15:24:39.803289Z",
     "start_time": "2022-11-18T15:24:39.786290Z"
    }
   },
   "source": [
    "NBA"
   ]
  },
  {
   "cell_type": "code",
   "execution_count": 8,
   "id": "95c95991",
   "metadata": {
    "ExecuteTime": {
     "end_time": "2022-12-03T16:56:08.860862Z",
     "start_time": "2022-12-03T16:56:08.783466Z"
    }
   },
   "outputs": [],
   "source": [
    "nba2019 = pd.read_csv(path+\"\\\\nba\\\\nba_2019-2020.csv\",sep=';')\n",
    "nba2020 = pd.read_csv(path+\"\\\\nba\\\\nba_2020-2021.csv\",sep=';')\n",
    "nba2021 = pd.read_csv(path+\"\\\\nba\\\\nba_2021-2022.csv\",sep=';')\n",
    "nba2022 = pd.read_csv(path+\"\\\\nba\\\\nba_CurrentSeason.csv\",sep=';')\n",
    "nba = pd.concat([nba2019,nba2020,nba2021,nba2022],axis=0)"
   ]
  },
  {
   "cell_type": "markdown",
   "id": "13d984e0",
   "metadata": {
    "ExecuteTime": {
     "end_time": "2022-11-18T15:29:58.520091Z",
     "start_time": "2022-11-18T15:29:58.499588Z"
    }
   },
   "source": [
    "NFL"
   ]
  },
  {
   "cell_type": "code",
   "execution_count": 9,
   "id": "d02e79d3",
   "metadata": {
    "ExecuteTime": {
     "end_time": "2022-12-03T16:56:08.908811Z",
     "start_time": "2022-12-03T16:56:08.861801Z"
    }
   },
   "outputs": [],
   "source": [
    "nfl2019 = pd.read_csv(path+\"\\\\nfl\\\\nfl_2019-2020.csv\",sep=';')\n",
    "nfl2020 = pd.read_csv(path+\"\\\\nfl\\\\nfl_2020-2021.csv\",sep=';')\n",
    "nfl2021 = pd.read_csv(path+\"\\\\nfl\\\\nfl_2021-2022.csv\",sep=';')\n",
    "nfl2022 = pd.read_csv(path+\"\\\\nfl\\\\nfl_CurrentSeason.csv\",sep=';')\n",
    "nfl = pd.concat([nfl2019,nfl2020,nfl2021,nfl2022],axis=0)"
   ]
  },
  {
   "cell_type": "markdown",
   "id": "0e7b9ae7",
   "metadata": {},
   "source": [
    "NHL"
   ]
  },
  {
   "cell_type": "code",
   "execution_count": 10,
   "id": "9efd61b5",
   "metadata": {
    "ExecuteTime": {
     "end_time": "2022-12-03T16:56:09.004874Z",
     "start_time": "2022-12-03T16:56:08.909800Z"
    }
   },
   "outputs": [],
   "source": [
    "nhl2019 = pd.read_csv(path+\"\\\\nhl\\\\nhl_2019-2020.csv\",sep=';')\n",
    "nhl2020 = pd.read_csv(path+\"\\\\nhl\\\\nhl_2020-2021.csv\",sep=';')\n",
    "nhl2021 = pd.read_csv(path+\"\\\\nhl\\\\nhl_2021-2022.csv\",sep=';')\n",
    "nhl2022 = pd.read_csv(path+\"\\\\nhl\\\\nhl_CurrentSeason.csv\",sep=';')\n",
    "nhl = pd.concat([nhl2019,nhl2020,nhl2021,nhl2022],axis=0)"
   ]
  },
  {
   "cell_type": "markdown",
   "id": "7a68640b",
   "metadata": {
    "ExecuteTime": {
     "end_time": "2022-11-18T15:34:26.942674Z",
     "start_time": "2022-11-18T15:34:26.936290Z"
    }
   },
   "source": [
    "All Sports"
   ]
  },
  {
   "cell_type": "code",
   "execution_count": 11,
   "id": "e8a05b1b",
   "metadata": {
    "ExecuteTime": {
     "end_time": "2022-12-03T16:56:09.020815Z",
     "start_time": "2022-12-03T16:56:09.005810Z"
    }
   },
   "outputs": [],
   "source": [
    "def returnall(dfs):\n",
    "    final = []\n",
    "    \n",
    "    for df in dfs:\n",
    "        \n",
    "        df['doddhome'] = df['OddHome'].apply(lambda x: (x+100)/100 if x>0 else ((-x+100)/-x))\n",
    "        df['doddaway'] = df['OddAway'].apply(lambda x: (x+100)/100 if x>0 else ((-x+100)/-x))\n",
    "        df['Dates'] = df['Date'].apply(lambda x: datetime.datetime.strptime(x,'%d %b %Y').strftime('%Y%m%d'))\n",
    "        df['hid']=df['Home_id'].apply(lambda x: ''.join(i[0] for i in x.split()))\n",
    "        df['aid']=df['Away_id'].apply(lambda x: ''.join(i[0] for i in x.split()))\n",
    "        df['unique_id'] = df['hid'].astype(str)+df['aid'].astype(str)+df['Dates'].astype(str)+df['Score_home'].astype(str)+df['Score_away'].astype(str)\n",
    "        \n",
    "        dts = pd.pivot_table(df,values='Dates',index='unique_id',aggfunc='last')\n",
    "        hometeam = pd.pivot_table(df,values='Home_id',index='unique_id',aggfunc='last')\n",
    "        awayteam = pd.pivot_table(df,values='Away_id',index='unique_id',aggfunc='last')\n",
    "        homescore = pd.pivot_table(df,values='Score_home',index='unique_id',aggfunc='last')\n",
    "        awayscore = pd.pivot_table(df,values='Score_away',index='unique_id',aggfunc='last')\n",
    "        \n",
    "        \n",
    "        \n",
    "        ho = df.drop('doddaway',axis=1)\n",
    "        ao = df.drop('doddhome',axis=1)\n",
    "        \n",
    "        ho = pd.pivot_table(ho,values='doddhome',index='unique_id',columns=['Bookmaker'])\n",
    "        ao = pd.pivot_table(ao,values='doddaway',index='unique_id',columns=['Bookmaker'])\n",
    "        \n",
    "        maxih,colh = ho.max(axis=1),list(ho.columns)\n",
    "        maxia,cola = ao.max(axis=1),list(ao.columns)\n",
    "        for _ in ho.index:\n",
    "            lsth = list(ho.loc[_,:])\n",
    "            lsta = list(ao.loc[_,:])\n",
    "            tfh = maxih.loc[_,]\n",
    "            tfa = maxia.loc[_,]\n",
    "            indh = lsth.index(tfh)\n",
    "            inha = lsta.index(tfa)\n",
    "            ho.loc[_,'maxbookiehome'] = colh[indh]\n",
    "            ao.loc[_,'maxbookieaway'] = cola[inha]\n",
    "            \n",
    "        ho['MaxH'] = ho.max(axis=1)\n",
    "        ao['MaxA'] = ao.max(axis=1)\n",
    "        \n",
    "        ao['away_prob'] = 1/ao['MaxA']\n",
    "        ho['home_prob'] = 1/ho['MaxH']\n",
    "        \n",
    "        alls = pd.concat([ao,ho,dts,hometeam,awayteam,homescore,awayscore],axis=1)[['maxbookiehome','maxbookieaway','MaxH','MaxA','home_prob',\\\n",
    "                                                                                    'away_prob','Dates','Home_id','Away_id','Score_home','Score_away']]\n",
    "        alls = alls.sort_values('Dates')\n",
    "        alls['totalodds'] = alls['away_prob']+alls['home_prob']\n",
    "        \n",
    "        lst = ['Bet365','Bwin','VC Bet','William Hill','Unibet','Pinnacle','Marathonbet']\n",
    "        alls_final = alls[(alls['maxbookiehome'].isin(lst))&(alls['maxbookieaway'].isin(lst))]\n",
    "        \n",
    "        final.append(alls_final)\n",
    "    return final"
   ]
  },
  {
   "cell_type": "code",
   "execution_count": 12,
   "id": "f93c5c22",
   "metadata": {
    "ExecuteTime": {
     "end_time": "2022-12-03T16:56:09.036809Z",
     "start_time": "2022-12-03T16:56:09.021803Z"
    }
   },
   "outputs": [],
   "source": [
    "dataframes = [mlb,nhl,nfl,nba]"
   ]
  },
  {
   "cell_type": "code",
   "execution_count": 13,
   "id": "893387b5",
   "metadata": {
    "ExecuteTime": {
     "end_time": "2022-12-03T16:56:16.662671Z",
     "start_time": "2022-12-03T16:56:09.037802Z"
    }
   },
   "outputs": [
    {
     "name": "stderr",
     "output_type": "stream",
     "text": [
      "C:\\Users\\awkno\\AppData\\Local\\Temp\\ipykernel_28884\\3244102158.py:39: FutureWarning: Dropping of nuisance columns in DataFrame reductions (with 'numeric_only=None') is deprecated; in a future version this will raise TypeError.  Select only valid columns before calling the reduction.\n",
      "  ho['MaxH'] = ho.max(axis=1)\n",
      "C:\\Users\\awkno\\AppData\\Local\\Temp\\ipykernel_28884\\3244102158.py:40: FutureWarning: Dropping of nuisance columns in DataFrame reductions (with 'numeric_only=None') is deprecated; in a future version this will raise TypeError.  Select only valid columns before calling the reduction.\n",
      "  ao['MaxA'] = ao.max(axis=1)\n",
      "C:\\Users\\awkno\\AppData\\Local\\Temp\\ipykernel_28884\\3244102158.py:39: FutureWarning: Dropping of nuisance columns in DataFrame reductions (with 'numeric_only=None') is deprecated; in a future version this will raise TypeError.  Select only valid columns before calling the reduction.\n",
      "  ho['MaxH'] = ho.max(axis=1)\n",
      "C:\\Users\\awkno\\AppData\\Local\\Temp\\ipykernel_28884\\3244102158.py:40: FutureWarning: Dropping of nuisance columns in DataFrame reductions (with 'numeric_only=None') is deprecated; in a future version this will raise TypeError.  Select only valid columns before calling the reduction.\n",
      "  ao['MaxA'] = ao.max(axis=1)\n",
      "C:\\Users\\awkno\\AppData\\Local\\Temp\\ipykernel_28884\\3244102158.py:39: FutureWarning: Dropping of nuisance columns in DataFrame reductions (with 'numeric_only=None') is deprecated; in a future version this will raise TypeError.  Select only valid columns before calling the reduction.\n",
      "  ho['MaxH'] = ho.max(axis=1)\n",
      "C:\\Users\\awkno\\AppData\\Local\\Temp\\ipykernel_28884\\3244102158.py:40: FutureWarning: Dropping of nuisance columns in DataFrame reductions (with 'numeric_only=None') is deprecated; in a future version this will raise TypeError.  Select only valid columns before calling the reduction.\n",
      "  ao['MaxA'] = ao.max(axis=1)\n",
      "C:\\Users\\awkno\\AppData\\Local\\Temp\\ipykernel_28884\\3244102158.py:39: FutureWarning: Dropping of nuisance columns in DataFrame reductions (with 'numeric_only=None') is deprecated; in a future version this will raise TypeError.  Select only valid columns before calling the reduction.\n",
      "  ho['MaxH'] = ho.max(axis=1)\n",
      "C:\\Users\\awkno\\AppData\\Local\\Temp\\ipykernel_28884\\3244102158.py:40: FutureWarning: Dropping of nuisance columns in DataFrame reductions (with 'numeric_only=None') is deprecated; in a future version this will raise TypeError.  Select only valid columns before calling the reduction.\n",
      "  ao['MaxA'] = ao.max(axis=1)\n"
     ]
    }
   ],
   "source": [
    "cleaneddata = returnall(dataframes)"
   ]
  },
  {
   "cell_type": "code",
   "execution_count": 14,
   "id": "f2456c0e",
   "metadata": {
    "ExecuteTime": {
     "end_time": "2022-12-03T16:56:16.678192Z",
     "start_time": "2022-12-03T16:56:16.664685Z"
    }
   },
   "outputs": [],
   "source": [
    "mlb = cleaneddata[0]\n",
    "nhl = cleaneddata[1]\n",
    "nfl = cleaneddata[2]\n",
    "nba = cleaneddata[3]"
   ]
  },
  {
   "cell_type": "code",
   "execution_count": 15,
   "id": "0ea610a1",
   "metadata": {
    "ExecuteTime": {
     "end_time": "2022-12-03T16:56:16.710183Z",
     "start_time": "2022-12-03T16:56:16.679196Z"
    }
   },
   "outputs": [
    {
     "data": {
      "text/html": [
       "<div>\n",
       "<style scoped>\n",
       "    .dataframe tbody tr th:only-of-type {\n",
       "        vertical-align: middle;\n",
       "    }\n",
       "\n",
       "    .dataframe tbody tr th {\n",
       "        vertical-align: top;\n",
       "    }\n",
       "\n",
       "    .dataframe thead th {\n",
       "        text-align: right;\n",
       "    }\n",
       "</style>\n",
       "<table border=\"1\" class=\"dataframe\">\n",
       "  <thead>\n",
       "    <tr style=\"text-align: right;\">\n",
       "      <th></th>\n",
       "      <th>maxbookiehome</th>\n",
       "      <th>maxbookieaway</th>\n",
       "      <th>MaxH</th>\n",
       "      <th>MaxA</th>\n",
       "      <th>home_prob</th>\n",
       "      <th>away_prob</th>\n",
       "      <th>Dates</th>\n",
       "      <th>Home_id</th>\n",
       "      <th>Away_id</th>\n",
       "      <th>Score_home</th>\n",
       "      <th>Score_away</th>\n",
       "      <th>totalodds</th>\n",
       "    </tr>\n",
       "    <tr>\n",
       "      <th>unique_id</th>\n",
       "      <th></th>\n",
       "      <th></th>\n",
       "      <th></th>\n",
       "      <th></th>\n",
       "      <th></th>\n",
       "      <th></th>\n",
       "      <th></th>\n",
       "      <th></th>\n",
       "      <th></th>\n",
       "      <th></th>\n",
       "      <th></th>\n",
       "      <th></th>\n",
       "    </tr>\n",
       "  </thead>\n",
       "  <tbody>\n",
       "    <tr>\n",
       "      <th>TBRPP2019022223</th>\n",
       "      <td>William Hill</td>\n",
       "      <td>Pinnacle</td>\n",
       "      <td>1.840336</td>\n",
       "      <td>2.120000</td>\n",
       "      <td>0.543379</td>\n",
       "      <td>0.471698</td>\n",
       "      <td>20190222</td>\n",
       "      <td>Tampa Bay Rays</td>\n",
       "      <td>Philadelphia Phillies</td>\n",
       "      <td>2</td>\n",
       "      <td>3</td>\n",
       "      <td>1.015077</td>\n",
       "    </tr>\n",
       "    <tr>\n",
       "      <th>BRSNYY2019022385</th>\n",
       "      <td>William Hill</td>\n",
       "      <td>Pinnacle</td>\n",
       "      <td>1.847458</td>\n",
       "      <td>2.170000</td>\n",
       "      <td>0.541284</td>\n",
       "      <td>0.460829</td>\n",
       "      <td>20190223</td>\n",
       "      <td>Boston Red Sox</td>\n",
       "      <td>New York Yankees</td>\n",
       "      <td>8</td>\n",
       "      <td>5</td>\n",
       "      <td>1.002114</td>\n",
       "    </tr>\n",
       "    <tr>\n",
       "      <th>TBJDT2019022304</th>\n",
       "      <td>Pinnacle</td>\n",
       "      <td>Pinnacle</td>\n",
       "      <td>1.740741</td>\n",
       "      <td>2.160000</td>\n",
       "      <td>0.574468</td>\n",
       "      <td>0.462963</td>\n",
       "      <td>20190223</td>\n",
       "      <td>Toronto Blue Jays</td>\n",
       "      <td>Detroit Tigers</td>\n",
       "      <td>0</td>\n",
       "      <td>4</td>\n",
       "      <td>1.037431</td>\n",
       "    </tr>\n",
       "    <tr>\n",
       "      <th>CCMB2019022384</th>\n",
       "      <td>Unibet</td>\n",
       "      <td>Pinnacle</td>\n",
       "      <td>1.800000</td>\n",
       "      <td>2.100000</td>\n",
       "      <td>0.555556</td>\n",
       "      <td>0.476190</td>\n",
       "      <td>20190223</td>\n",
       "      <td>Chicago Cubs</td>\n",
       "      <td>Milwaukee Brewers</td>\n",
       "      <td>8</td>\n",
       "      <td>4</td>\n",
       "      <td>1.031746</td>\n",
       "    </tr>\n",
       "    <tr>\n",
       "      <th>WNHA2019022376</th>\n",
       "      <td>Unibet</td>\n",
       "      <td>Pinnacle</td>\n",
       "      <td>1.833333</td>\n",
       "      <td>2.140000</td>\n",
       "      <td>0.545455</td>\n",
       "      <td>0.467290</td>\n",
       "      <td>20190223</td>\n",
       "      <td>Washington Nationals</td>\n",
       "      <td>Houston Astros</td>\n",
       "      <td>7</td>\n",
       "      <td>6</td>\n",
       "      <td>1.012744</td>\n",
       "    </tr>\n",
       "    <tr>\n",
       "      <th>...</th>\n",
       "      <td>...</td>\n",
       "      <td>...</td>\n",
       "      <td>...</td>\n",
       "      <td>...</td>\n",
       "      <td>...</td>\n",
       "      <td>...</td>\n",
       "      <td>...</td>\n",
       "      <td>...</td>\n",
       "      <td>...</td>\n",
       "      <td>...</td>\n",
       "      <td>...</td>\n",
       "      <td>...</td>\n",
       "    </tr>\n",
       "    <tr>\n",
       "      <th>PPSDP2022102242</th>\n",
       "      <td>Pinnacle</td>\n",
       "      <td>Unibet</td>\n",
       "      <td>2.120000</td>\n",
       "      <td>1.892857</td>\n",
       "      <td>0.471698</td>\n",
       "      <td>0.528302</td>\n",
       "      <td>20221022</td>\n",
       "      <td>Philadelphia Phillies</td>\n",
       "      <td>San Diego Padres</td>\n",
       "      <td>4</td>\n",
       "      <td>2</td>\n",
       "      <td>1.000000</td>\n",
       "    </tr>\n",
       "    <tr>\n",
       "      <th>HAPP2022102956</th>\n",
       "      <td>Marathonbet</td>\n",
       "      <td>Marathonbet</td>\n",
       "      <td>1.657895</td>\n",
       "      <td>2.500000</td>\n",
       "      <td>0.603175</td>\n",
       "      <td>0.400000</td>\n",
       "      <td>20221029</td>\n",
       "      <td>Houston Astros</td>\n",
       "      <td>Philadelphia Phillies</td>\n",
       "      <td>5</td>\n",
       "      <td>6</td>\n",
       "      <td>1.003175</td>\n",
       "    </tr>\n",
       "    <tr>\n",
       "      <th>PPHA2022110270</th>\n",
       "      <td>Pinnacle</td>\n",
       "      <td>Marathonbet</td>\n",
       "      <td>2.140000</td>\n",
       "      <td>1.877193</td>\n",
       "      <td>0.467290</td>\n",
       "      <td>0.532710</td>\n",
       "      <td>20221102</td>\n",
       "      <td>Philadelphia Phillies</td>\n",
       "      <td>Houston Astros</td>\n",
       "      <td>7</td>\n",
       "      <td>0</td>\n",
       "      <td>1.000000</td>\n",
       "    </tr>\n",
       "    <tr>\n",
       "      <th>PPHA2022110305</th>\n",
       "      <td>Pinnacle</td>\n",
       "      <td>Marathonbet</td>\n",
       "      <td>2.080000</td>\n",
       "      <td>2.080000</td>\n",
       "      <td>0.480769</td>\n",
       "      <td>0.480769</td>\n",
       "      <td>20221103</td>\n",
       "      <td>Philadelphia Phillies</td>\n",
       "      <td>Houston Astros</td>\n",
       "      <td>0</td>\n",
       "      <td>5</td>\n",
       "      <td>0.961538</td>\n",
       "    </tr>\n",
       "    <tr>\n",
       "      <th>HAPP2022110641</th>\n",
       "      <td>Marathonbet</td>\n",
       "      <td>Marathonbet</td>\n",
       "      <td>1.729927</td>\n",
       "      <td>2.360000</td>\n",
       "      <td>0.578059</td>\n",
       "      <td>0.423729</td>\n",
       "      <td>20221106</td>\n",
       "      <td>Houston Astros</td>\n",
       "      <td>Philadelphia Phillies</td>\n",
       "      <td>4</td>\n",
       "      <td>1</td>\n",
       "      <td>1.001788</td>\n",
       "    </tr>\n",
       "  </tbody>\n",
       "</table>\n",
       "<p>1145 rows × 12 columns</p>\n",
       "</div>"
      ],
      "text/plain": [
       "                 maxbookiehome maxbookieaway      MaxH      MaxA  home_prob  \\\n",
       "unique_id                                                                     \n",
       "TBRPP2019022223   William Hill      Pinnacle  1.840336  2.120000   0.543379   \n",
       "BRSNYY2019022385  William Hill      Pinnacle  1.847458  2.170000   0.541284   \n",
       "TBJDT2019022304       Pinnacle      Pinnacle  1.740741  2.160000   0.574468   \n",
       "CCMB2019022384          Unibet      Pinnacle  1.800000  2.100000   0.555556   \n",
       "WNHA2019022376          Unibet      Pinnacle  1.833333  2.140000   0.545455   \n",
       "...                        ...           ...       ...       ...        ...   \n",
       "PPSDP2022102242       Pinnacle        Unibet  2.120000  1.892857   0.471698   \n",
       "HAPP2022102956     Marathonbet   Marathonbet  1.657895  2.500000   0.603175   \n",
       "PPHA2022110270        Pinnacle   Marathonbet  2.140000  1.877193   0.467290   \n",
       "PPHA2022110305        Pinnacle   Marathonbet  2.080000  2.080000   0.480769   \n",
       "HAPP2022110641     Marathonbet   Marathonbet  1.729927  2.360000   0.578059   \n",
       "\n",
       "                  away_prob     Dates                Home_id  \\\n",
       "unique_id                                                      \n",
       "TBRPP2019022223    0.471698  20190222         Tampa Bay Rays   \n",
       "BRSNYY2019022385   0.460829  20190223         Boston Red Sox   \n",
       "TBJDT2019022304    0.462963  20190223      Toronto Blue Jays   \n",
       "CCMB2019022384     0.476190  20190223           Chicago Cubs   \n",
       "WNHA2019022376     0.467290  20190223   Washington Nationals   \n",
       "...                     ...       ...                    ...   \n",
       "PPSDP2022102242    0.528302  20221022  Philadelphia Phillies   \n",
       "HAPP2022102956     0.400000  20221029         Houston Astros   \n",
       "PPHA2022110270     0.532710  20221102  Philadelphia Phillies   \n",
       "PPHA2022110305     0.480769  20221103  Philadelphia Phillies   \n",
       "HAPP2022110641     0.423729  20221106         Houston Astros   \n",
       "\n",
       "                                Away_id  Score_home  Score_away  totalodds  \n",
       "unique_id                                                                   \n",
       "TBRPP2019022223   Philadelphia Phillies           2           3   1.015077  \n",
       "BRSNYY2019022385       New York Yankees           8           5   1.002114  \n",
       "TBJDT2019022304          Detroit Tigers           0           4   1.037431  \n",
       "CCMB2019022384        Milwaukee Brewers           8           4   1.031746  \n",
       "WNHA2019022376           Houston Astros           7           6   1.012744  \n",
       "...                                 ...         ...         ...        ...  \n",
       "PPSDP2022102242        San Diego Padres           4           2   1.000000  \n",
       "HAPP2022102956    Philadelphia Phillies           5           6   1.003175  \n",
       "PPHA2022110270           Houston Astros           7           0   1.000000  \n",
       "PPHA2022110305           Houston Astros           0           5   0.961538  \n",
       "HAPP2022110641    Philadelphia Phillies           4           1   1.001788  \n",
       "\n",
       "[1145 rows x 12 columns]"
      ]
     },
     "execution_count": 15,
     "metadata": {},
     "output_type": "execute_result"
    }
   ],
   "source": [
    "mlb"
   ]
  },
  {
   "cell_type": "code",
   "execution_count": 16,
   "id": "51c65f4e",
   "metadata": {
    "ExecuteTime": {
     "end_time": "2022-12-03T16:56:16.726187Z",
     "start_time": "2022-12-03T16:56:16.711185Z"
    }
   },
   "outputs": [],
   "source": [
    "mlb['League'] = 'mlb'\n",
    "nhl['League'] = 'nhl'\n",
    "nfl['League'] = 'nfl'\n",
    "nba['League'] = 'nba'"
   ]
  },
  {
   "cell_type": "code",
   "execution_count": null,
   "id": "ff88fcc1",
   "metadata": {
    "ExecuteTime": {
     "end_time": "2022-11-27T18:54:32.874285Z",
     "start_time": "2022-11-27T18:54:32.852339Z"
    }
   },
   "outputs": [],
   "source": []
  },
  {
   "cell_type": "code",
   "execution_count": 17,
   "id": "64d91aa7",
   "metadata": {
    "ExecuteTime": {
     "end_time": "2022-12-03T16:56:16.742184Z",
     "start_time": "2022-12-03T16:56:16.727186Z"
    }
   },
   "outputs": [
    {
     "data": {
      "text/plain": [
       "(58, 13)"
      ]
     },
     "execution_count": 17,
     "metadata": {},
     "output_type": "execute_result"
    }
   ],
   "source": [
    "nba[nba['totalodds']<.99].shape"
   ]
  },
  {
   "cell_type": "code",
   "execution_count": 18,
   "id": "cf69e6f8",
   "metadata": {
    "ExecuteTime": {
     "end_time": "2022-12-03T16:56:16.758191Z",
     "start_time": "2022-12-03T16:56:16.743184Z"
    }
   },
   "outputs": [
    {
     "data": {
      "text/plain": [
       "(13, 13)"
      ]
     },
     "execution_count": 18,
     "metadata": {},
     "output_type": "execute_result"
    }
   ],
   "source": [
    "nfl[nfl['totalodds']<.99].shape"
   ]
  },
  {
   "cell_type": "code",
   "execution_count": 19,
   "id": "3e37f3ed",
   "metadata": {
    "ExecuteTime": {
     "end_time": "2022-12-03T16:56:16.774100Z",
     "start_time": "2022-12-03T16:56:16.759185Z"
    }
   },
   "outputs": [
    {
     "data": {
      "text/plain": [
       "(37, 13)"
      ]
     },
     "execution_count": 19,
     "metadata": {},
     "output_type": "execute_result"
    }
   ],
   "source": [
    "nhl[nhl['totalodds']<.99].shape"
   ]
  },
  {
   "cell_type": "code",
   "execution_count": 20,
   "id": "1bf34778",
   "metadata": {
    "ExecuteTime": {
     "end_time": "2022-12-03T16:56:16.790100Z",
     "start_time": "2022-12-03T16:56:16.775100Z"
    }
   },
   "outputs": [
    {
     "data": {
      "text/plain": [
       "(45, 13)"
      ]
     },
     "execution_count": 20,
     "metadata": {},
     "output_type": "execute_result"
    }
   ],
   "source": [
    "mlb[mlb['totalodds']<.99].shape"
   ]
  },
  {
   "cell_type": "code",
   "execution_count": 21,
   "id": "cc34a9d1",
   "metadata": {
    "ExecuteTime": {
     "end_time": "2022-12-03T16:56:16.806108Z",
     "start_time": "2022-12-03T16:56:16.791100Z"
    }
   },
   "outputs": [],
   "source": [
    "mlb['month']=mlb['Dates'].astype(str).apply(lambda x: int(x[4:6]))"
   ]
  },
  {
   "cell_type": "code",
   "execution_count": 22,
   "id": "f5c1ef71",
   "metadata": {
    "ExecuteTime": {
     "end_time": "2022-12-03T16:56:16.822107Z",
     "start_time": "2022-12-03T16:56:16.807111Z"
    }
   },
   "outputs": [],
   "source": [
    "mlb=mlb[mlb['month']>=4]"
   ]
  },
  {
   "cell_type": "code",
   "execution_count": 23,
   "id": "253f832c",
   "metadata": {
    "ExecuteTime": {
     "end_time": "2022-12-03T16:56:16.854172Z",
     "start_time": "2022-12-03T16:56:16.823111Z"
    }
   },
   "outputs": [],
   "source": [
    "mlb.to_csv(path+\"\\\\cleaned\\\\mlb.csv\")\n",
    "nhl.to_csv(path+\"\\\\cleaned\\\\nhl.csv\")\n",
    "nfl.to_csv(path+\"\\\\cleaned\\\\nfl.csv\")\n",
    "nba.to_csv(path+\"\\\\cleaned\\\\nba.csv\")"
   ]
  },
  {
   "cell_type": "code",
   "execution_count": 24,
   "id": "33ec91c8",
   "metadata": {
    "ExecuteTime": {
     "end_time": "2022-12-03T16:56:16.869099Z",
     "start_time": "2022-12-03T16:56:16.855168Z"
    }
   },
   "outputs": [],
   "source": [
    "cl_path= \"C:\\\\Users\\\\awkno\\\\FINM 35910\\\\Sports Arbitrage\\\\cleaned\""
   ]
  },
  {
   "cell_type": "code",
   "execution_count": 25,
   "id": "baeedd0c",
   "metadata": {
    "ExecuteTime": {
     "end_time": "2022-12-03T16:56:17.026108Z",
     "start_time": "2022-12-03T16:56:16.870100Z"
    }
   },
   "outputs": [],
   "source": [
    "soccer = pd.read_csv(cl_path+\"\\\\soccer.csv\",index_col=0)\n",
    "mlb = pd.read_csv(cl_path+\"\\\\mlb.csv\").rename(columns={'Dates':'Date','Home_id':'Home','Away_id':'Away','Score_home':'homescore','Score_away':'awayscore'}).drop('unique_id',axis=1)\n",
    "nba = pd.read_csv(cl_path+\"\\\\nba.csv\").rename(columns={'Dates':'Date','Home_id':'Home','Away_id':'Away','Score_home':'homescore','Score_away':'awayscore'}).drop('unique_id',axis=1)\n",
    "nhl = pd.read_csv(cl_path+\"\\\\nhl.csv\").rename(columns={'Dates':'Date','Home_id':'Home','Away_id':'Away','Score_home':'homescore','Score_away':'awayscore'}).drop('unique_id',axis=1)\n",
    "nfl = pd.read_csv(cl_path+\"\\\\nfl.csv\").rename(columns={'Dates':'Date','Home_id':'Home','Away_id':'Away','Score_home':'homescore','Score_away':'awayscore'}).drop('unique_id',axis=1)"
   ]
  },
  {
   "cell_type": "code",
   "execution_count": 26,
   "id": "de31eec8",
   "metadata": {
    "ExecuteTime": {
     "end_time": "2022-12-03T16:56:17.041683Z",
     "start_time": "2022-12-03T16:56:17.027110Z"
    }
   },
   "outputs": [],
   "source": [
    "# def func(x,y):\n",
    "#     return x.replace(y,'')\n",
    "# mlb[['unique_id','Dates']].apply(lambda x: re.split(\"(\\d+)\",func(x.unique_id,str(x.Dates))),axis=1)"
   ]
  },
  {
   "cell_type": "code",
   "execution_count": 27,
   "id": "8157dc21",
   "metadata": {
    "ExecuteTime": {
     "end_time": "2022-12-03T16:56:17.073295Z",
     "start_time": "2022-12-03T16:56:17.042747Z"
    }
   },
   "outputs": [],
   "source": [
    "soccer['home_prob'] = 1/soccer['MaxH']\n",
    "soccer['draw_prob'] = 1/soccer['MaxD']\n",
    "soccer['away_prob'] = 1/soccer['MaxA']\n",
    "soccer['totalodds'] = soccer['home_prob'] +soccer['draw_prob']+soccer['away_prob'] \n",
    "soccer = soccer.rename(columns={'homegoals':'homescore','awaygoals':'awayscore'})"
   ]
  },
  {
   "cell_type": "code",
   "execution_count": 28,
   "id": "dcf33579",
   "metadata": {
    "ExecuteTime": {
     "end_time": "2022-12-03T16:56:17.089295Z",
     "start_time": "2022-12-03T16:56:17.074303Z"
    }
   },
   "outputs": [],
   "source": [
    "final = pd.concat([soccer,mlb,nba,nhl,nfl],axis=0)"
   ]
  },
  {
   "cell_type": "code",
   "execution_count": 29,
   "id": "49e550a6",
   "metadata": {
    "ExecuteTime": {
     "end_time": "2022-12-03T16:56:17.168295Z",
     "start_time": "2022-12-03T16:56:17.090296Z"
    }
   },
   "outputs": [],
   "source": [
    "final = final.sort_values('Date').reset_index().drop(['index','month'],axis=1)\n",
    "final[['home_prob','draw_prob','away_prob']] = final[['home_prob','draw_prob','away_prob']].round(8).fillna(0)"
   ]
  },
  {
   "cell_type": "code",
   "execution_count": 30,
   "id": "1f8914fe",
   "metadata": {
    "ExecuteTime": {
     "end_time": "2022-12-03T16:56:17.184300Z",
     "start_time": "2022-12-03T16:56:17.169308Z"
    }
   },
   "outputs": [],
   "source": [
    "# final.loc[112617,'MaxD'] = (3300+100)/100\n",
    "# final.loc[112617,'maxbookiedraw'] = 'Bet365'\n",
    "# final.loc[112617,'draw_prob'] = 1/((3300+100)/100)\n",
    "# final.loc[112617,'totalodds'] = final.loc[112617,'home_prob']+final.loc[112617,'draw_prob']+final.loc[112617,'away_prob'] \n",
    "# final.loc[117148,'MaxD'] = (5900+100)/100\n",
    "# final.loc[117148,'maxbookiedraw'] = 'Bet365'\n",
    "# final.loc[117148,'draw_prob'] = 1/((5900+100)/100)\n",
    "# final.loc[117148,'totalodds'] = final.loc[117148,'home_prob']+final.loc[117148,'draw_prob']+final.loc[117148,'away_prob'] "
   ]
  },
  {
   "cell_type": "code",
   "execution_count": 31,
   "id": "aefdb0bb",
   "metadata": {
    "ExecuteTime": {
     "end_time": "2022-12-03T16:56:17.262430Z",
     "start_time": "2022-12-03T16:56:17.185306Z"
    }
   },
   "outputs": [],
   "source": [
    "years = 3\n",
    "cur_year = datetime.datetime.now().year\n",
    "final['year']=final['Date'].apply(lambda x: int(str(x)[:4]))\n",
    "final = final[final['year']>=cur_year-years].drop('year',axis=1)"
   ]
  },
  {
   "cell_type": "code",
   "execution_count": 32,
   "id": "9df867c7",
   "metadata": {
    "ExecuteTime": {
     "end_time": "2022-12-03T16:56:17.579145Z",
     "start_time": "2022-12-03T16:56:17.262430Z"
    }
   },
   "outputs": [],
   "source": [
    "final.to_csv(cl_path+\"\\\\final.csv\")"
   ]
  },
  {
   "cell_type": "markdown",
   "id": "ab073a12",
   "metadata": {},
   "source": [
    "# Backtest"
   ]
  },
  {
   "cell_type": "code",
   "execution_count": 33,
   "id": "f2174e10",
   "metadata": {
    "ExecuteTime": {
     "end_time": "2022-12-03T16:56:17.594440Z",
     "start_time": "2022-12-03T16:56:17.580148Z"
    }
   },
   "outputs": [
    {
     "data": {
      "text/plain": [
       "Pinnacle        32555\n",
       "Bet365           5714\n",
       "Bwin             3001\n",
       "VC Bet           2954\n",
       "William Hill     1445\n",
       "Marathonbet      1157\n",
       "Unibet            380\n",
       "Name: maxbookieaway, dtype: int64"
      ]
     },
     "execution_count": 33,
     "metadata": {},
     "output_type": "execute_result"
    }
   ],
   "source": [
    "pd.options.display.max_rows = 10\n",
    "final['maxbookieaway'].value_counts()"
   ]
  },
  {
   "cell_type": "code",
   "execution_count": 34,
   "id": "c8d516f5",
   "metadata": {
    "ExecuteTime": {
     "end_time": "2022-12-03T16:56:17.610447Z",
     "start_time": "2022-12-03T16:56:17.595446Z"
    }
   },
   "outputs": [],
   "source": [
    "#assume we start with 50million\n",
    "profit=1000000"
   ]
  },
  {
   "cell_type": "code",
   "execution_count": 111,
   "id": "6f41cdf8",
   "metadata": {
    "ExecuteTime": {
     "end_time": "2022-12-03T17:18:58.889994Z",
     "start_time": "2022-12-03T17:18:58.063681Z"
    }
   },
   "outputs": [],
   "source": [
    "final['MaxD'] = final['MaxD'].fillna(0)\n",
    "final['signal'] = final['totalodds'].apply(lambda x: 1 if x<.99 else 0)\n",
    "final['bethome']=0\n",
    "final['betdraw']=0\n",
    "final['betaway']=0\n",
    "final['totalbet']=0\n",
    "final['winhome']=0\n",
    "final['windraw']=0\n",
    "final['winaway']=0\n",
    "final['totalwin']=0\n",
    "final['winner'] = final[['homescore','awayscore']].apply(lambda x: 'D' if x.homescore==x.awayscore else('H' if x.homescore>x.awayscore else('A' if x.homescore<x.awayscore else 0)),axis=1)"
   ]
  },
  {
   "cell_type": "code",
   "execution_count": null,
   "id": "a24f6e45",
   "metadata": {
    "ExecuteTime": {
     "end_time": "2022-12-03T17:06:22.399457Z",
     "start_time": "2022-12-03T17:06:22.369391Z"
    }
   },
   "outputs": [],
   "source": [
    "\n"
   ]
  },
  {
   "cell_type": "code",
   "execution_count": 36,
   "id": "9fbd8fe9",
   "metadata": {
    "ExecuteTime": {
     "end_time": "2022-12-03T16:56:18.809204Z",
     "start_time": "2022-12-03T16:56:18.793496Z"
    }
   },
   "outputs": [
    {
     "data": {
      "text/plain": [
       "Pinnacle        82\n",
       "William Hill    71\n",
       "Marathonbet     54\n",
       "Bet365          39\n",
       "Unibet          26\n",
       "VC Bet          21\n",
       "Bwin            14\n",
       "Name: maxbookieaway, dtype: int64"
      ]
     },
     "execution_count": 36,
     "metadata": {},
     "output_type": "execute_result"
    }
   ],
   "source": [
    "final[final['signal']==1]['maxbookieaway'].value_counts()"
   ]
  },
  {
   "cell_type": "code",
   "execution_count": 87,
   "id": "fdeb225c",
   "metadata": {
    "ExecuteTime": {
     "end_time": "2022-12-03T17:15:05.937434Z",
     "start_time": "2022-12-03T17:15:05.914398Z"
    }
   },
   "outputs": [],
   "source": [
    "def build_strategy(bet_amount, data,probability=.98,move = True):\n",
    "    tobeton = data[data['signal']==1]\n",
    "\n",
    "    bettingfunds=[bet_amount]\n",
    "    profittotal=[0]\n",
    "    bh,bd,ba,wh,wd,wa = [],[],[],[],[],[]\n",
    "    dates = list(np.unique(data['Date']))\n",
    "    rs = []\n",
    "    for _ in tqdm(dates,desc = 'Progress Bar'):\n",
    "\n",
    "        df = tobeton[tobeton['Date']==_]\n",
    "\n",
    "        if df.shape[0]>0:\n",
    "            \n",
    "            i,ind = min(list(df.index)),df.index\n",
    "            \n",
    "            if move == True:\n",
    "                df.loc[ind,'home_prob'] = df.loc[ind,'home_prob'].values+((1-probability)*.75/3)\n",
    "                df.loc[ind,'draw_prob'] = df.loc[ind,'draw_prob'].values+((1-probability)*.75/3)\n",
    "                df.loc[ind,'away_prob'] = df.loc[ind,'away_prob'].values+((1-probability)*.75/3)\n",
    "\n",
    "                df.loc[ind,'MaxH'] = 1/df.loc[ind,'home_prob'].values\n",
    "                df.loc[ind,'MaxD'] = 1/df.loc[ind,'draw_prob'].values\n",
    "                df.loc[ind,'MaxA'] = 1/df.loc[ind,'away_prob'].values\n",
    "            else:\n",
    "                continue\n",
    "            \n",
    "            r,c = df.shape\n",
    "            rs.append(r)\n",
    "            if r==0:\n",
    "                pass\n",
    "            elif r==1:\n",
    "                \n",
    "                totalbet = bettingfunds[-1]\n",
    "                remainder = bettingfunds[-1]-totalbet\n",
    "\n",
    "                df.loc[i,'bethome'] = round(totalbet*df['home_prob'].item(),2)\n",
    "                df.loc[i,'betdraw'] = round(totalbet*df['draw_prob'].item(),2)\n",
    "                df.loc[i,'betaway'] = round(totalbet*df['away_prob'].item(),2)\n",
    "\n",
    "                bh.append(df.loc[i,'bethome'].item())\n",
    "                bd.append(df.loc[i,'betdraw'].item())\n",
    "                ba.append(df.loc[i,'betaway'].item())\n",
    "\n",
    "                tb = df.loc[i,'bethome'].item()+df.loc[i,'betdraw'].item()+df.loc[i,'betaway'].item()\n",
    "                tobeton.loc[i,'totalbet'] = tb\n",
    "\n",
    "                tobeton.loc[i,'winhome'] = round(df.apply(lambda x:x.bethome*x.MaxH if x.homescore>x.awayscore else 0,axis=1).item(),2)\n",
    "                tobeton.loc[i,'windraw'] = round(df.apply(lambda x:x.betdraw*x.MaxD if x.homescore==x.awayscore else 0,axis=1).item(),2)\n",
    "                tobeton.loc[i,'winaway'] = round(df.apply(lambda x:x.betaway*x.MaxA if x.homescore<x.awayscore else 0,axis=1).item(),2)\n",
    "\n",
    "                profit = tobeton.loc[i,'winhome']+tobeton.loc[i,'winaway']+tobeton.loc[i,'windraw']-tb\n",
    "                tobeton.loc[i,'totalwin']= profit\n",
    "\n",
    "                if profit<0:\n",
    "                    moneytobet = bettingfunds[-1]+tobeton.loc[i,'totalwin']\n",
    "                else:\n",
    "                    moneytobet = bet_amount#+profittotal[-1]*.5\n",
    "\n",
    "                profittotal.append(profit+profittotal[-1])\n",
    "                bettingfunds.append(round(moneytobet,2))\n",
    "\n",
    "            else:\n",
    "                \n",
    "                totalbet = pd.DataFrame([bettingfunds[-1]/r for _ in range(r)])#*df['totalodds']).round(decimals=2)\n",
    "\n",
    "                remainder = bettingfunds[-1]-totalbet.sum().item()\n",
    "\n",
    "                df.loc[ind,'bethome'] = round((bettingfunds[-1]/r)*df['home_prob'],2).values#.item()\n",
    "                df.loc[ind,'betdraw'] = round((bettingfunds[-1]/r)*df['draw_prob'],2).values#.item()\n",
    "                df.loc[ind,'betaway'] = round((bettingfunds[-1]/r)*df['away_prob'],2).values#.item()\n",
    "\n",
    "                bh.extend(list(df.loc[ind,'bethome']))\n",
    "                bd.extend(list(df.loc[ind,'betdraw']))\n",
    "                ba.extend(list(df.loc[ind,'betaway']))\n",
    "\n",
    "                tb = sum(list(df.loc[ind,'bethome'])+list(df.loc[ind,'betdraw'])+list(df.loc[ind,'betaway']))\n",
    "                tobeton.loc[ind,'totalbet'] = df.loc[ind,'bethome']+df.loc[ind,'betdraw']+df.loc[ind,'betaway']\n",
    "\n",
    "                tobeton.loc[ind,'winhome'] = round(df.apply(lambda x:x.bethome*x.MaxH if x.homescore>x.awayscore else 0,axis=1),2)#.item()\n",
    "                tobeton.loc[ind,'windraw'] = round(df.apply(lambda x:x.betdraw*x.MaxD if x.homescore==x.awayscore else 0,axis=1),2)#.item()\n",
    "                tobeton.loc[ind,'winaway'] = round(df.apply(lambda x:x.betaway*x.MaxA if x.homescore<x.awayscore else 0,axis=1),2)#.item()\n",
    "\n",
    "                tobeton.loc[ind,'totalwin'] = tobeton.loc[ind,'winhome']+tobeton.loc[ind,'windraw']+tobeton.loc[ind,'winaway']-tobeton.loc[ind,'totalbet']\n",
    "\n",
    "                if sum(list(tobeton.loc[ind,'totalwin']))<0:\n",
    "                    moneytobet = bettingfunds[-1]+sum(list(tobeton.loc[ind,'totalwin']))\n",
    "                else:\n",
    "                    moneytobet = bet_amount#+profittotal[-1]*.5\n",
    "\n",
    "                zed = [moneytobet for _ in range(r)]\n",
    "                profit = [sum(list(tobeton.loc[ind,'totalwin']))+profittotal[-1] for _ in range(r)]\n",
    "\n",
    "                profittotal.extend(profit)\n",
    "                bettingfunds.extend(zed)\n",
    "        else:\n",
    "            pass\n",
    "\n",
    "    tobeton['profit']=profittotal[1:]\n",
    "    tobeton['bethome'] = bh\n",
    "    tobeton['betdraw'] = bd\n",
    "    tobeton['betaway'] = ba\n",
    "                                        \n",
    "    final = data.drop(['bethome','betdraw','betaway','winhome','windraw','winaway','totalbet','totalwin'],\n",
    "               axis=1).merge(tobeton,on=['League','Date','Home','Away','MaxH','MaxD','MaxA','homescore','awayscore',\n",
    "                                        'maxbookiehome','maxbookiedraw','maxbookieaway','home_prob','draw_prob',\n",
    "                                         'away_prob','totalodds','signal','winner'],how='outer')\n",
    "    final[['bethome','betdraw','betaway','totalbet','winhome','windraw','winaway','totalwin']] = final[['bethome','betdraw','betaway','totalbet','winhome','windraw','winaway','totalwin']].fillna(0)\n",
    "    final['profit'] = final['profit'].ffill().fillna(0)\n",
    "    final['Date'] = final['Date'].apply(lambda x: datetime.datetime.strptime(str(x),'%Y%m%d'))\n",
    "\n",
    "    return final"
   ]
  },
  {
   "cell_type": "code",
   "execution_count": 112,
   "id": "f2ce8faa",
   "metadata": {
    "ExecuteTime": {
     "end_time": "2022-12-03T17:19:03.779717Z",
     "start_time": "2022-12-03T17:19:02.357944Z"
    }
   },
   "outputs": [
    {
     "name": "stderr",
     "output_type": "stream",
     "text": [
      "Progress Bar: 100%|██████████████████████████████████████████████████████████████| 1326/1326 [00:01<00:00, 1225.74it/s]\n"
     ]
    }
   ],
   "source": [
    "returns = build_strategy(100000,final)"
   ]
  },
  {
   "cell_type": "code",
   "execution_count": 48,
   "id": "77bbda34",
   "metadata": {
    "ExecuteTime": {
     "end_time": "2022-12-02T23:09:41.149813Z",
     "start_time": "2022-12-02T23:09:41.142233Z"
    }
   },
   "outputs": [],
   "source": [
    "pd.options.display.max_columns=50"
   ]
  },
  {
   "cell_type": "code",
   "execution_count": 89,
   "id": "c1bce825",
   "metadata": {
    "ExecuteTime": {
     "end_time": "2022-12-03T17:15:14.015068Z",
     "start_time": "2022-12-03T17:15:13.996057Z"
    }
   },
   "outputs": [],
   "source": [
    "def stats(data, annualized=1,confidence_interval=.05):\n",
    "    x = data.describe()\n",
    "    frame = pd.DataFrame(index = [data.columns])\n",
    "    \n",
    "    frame['mean'] = x.loc['mean'].values * annualized\n",
    "    frame['vol'] = x.loc['std'].values * np.sqrt(annualized)\n",
    "    frame['median'] = x.loc['50%'].values\n",
    "    frame['sharpe'] = frame['mean'].values/frame['vol'].values\n",
    "    frame['VaR'] = data.quantile(confidence_interval).values\n",
    "    frame['Skewness'] = data.skew().values\n",
    "    frame['Kurtosis'] = data.kurtosis().values\n",
    "    cum_ret = (1 + data).cumprod()\n",
    "    rolling_max = cum_ret.cummax()\n",
    "    drawdown = (cum_ret - rolling_max) / rolling_max\n",
    "    \n",
    "    maxdraw = drawdown.min()\n",
    "    enddate = drawdown.idxmin()\n",
    "    \n",
    "    for col in drawdown:\n",
    "        frame.loc[col,'Peak'] = (rolling_max.loc[:enddate[col],col]).idxmax()\n",
    "        recovery = (drawdown.loc[enddate[col]:,col])\n",
    "\n",
    "        try:\n",
    "            frame.loc[col,'Recover'] = recovery[recovery >= 0].index[0]\n",
    "        except:\n",
    "            frame.loc[col,'Recover'] = None\n",
    "        \n",
    "        frame['Peak'] = pd.to_datetime(frame['Peak'])\n",
    "        try:\n",
    "            frame['Duration to Recover'] = (frame['Recover'] - frame['Peak'])\n",
    "        except:\n",
    "            None\n",
    "    \n",
    "    return frame"
   ]
  },
  {
   "cell_type": "code",
   "execution_count": 114,
   "id": "721a0ca7",
   "metadata": {
    "ExecuteTime": {
     "end_time": "2022-12-03T17:19:10.511781Z",
     "start_time": "2022-12-03T17:19:10.502506Z"
    }
   },
   "outputs": [],
   "source": [
    "backtest = returns[['Date','profit']].groupby('Date').last()\n",
    "backtest['profit'] = backtest['profit']+100000\n",
    "backtest['BSC'] = backtest['profit'].pct_change()\n",
    "backtest['Cumulative % Return'] = (backtest['BSC'] + 1).cumprod() -1"
   ]
  },
  {
   "cell_type": "code",
   "execution_count": 254,
   "id": "04dadeae",
   "metadata": {
    "ExecuteTime": {
     "end_time": "2022-12-04T00:37:05.597748Z",
     "start_time": "2022-12-04T00:37:05.118430Z"
    }
   },
   "outputs": [
    {
     "data": {
      "image/png": "[encoded data removed]",
      "text/plain": [
       "<Figure size 1080x576 with 1 Axes>"
      ]
     },
     "metadata": {},
     "output_type": "display_data"
    }
   ],
   "source": [
    "fig, ax = plt.subplots(figsize=(15,8))\n",
    "plt.plot(backtest.index,backtest['BSC'])\n",
    "plt.xlabel('Date')\n",
    "plt.ylabel('% Returns')\n",
    "plt.savefig(\"C:\\\\Users\\\\awkno\\\\FINM 35910\\\\Sports Arbitrage\\\\returns_percentage.jpg\",dpi=300)"
   ]
  },
  {
   "cell_type": "code",
   "execution_count": 119,
   "id": "56ed108d",
   "metadata": {
    "ExecuteTime": {
     "end_time": "2022-12-03T17:19:11.181187Z",
     "start_time": "2022-12-03T17:19:11.166180Z"
    }
   },
   "outputs": [
    {
     "data": {
      "text/plain": [
       "nba    58\n",
       "SP2    48\n",
       "nhl    37\n",
       "mlb    31\n",
       "I2     28\n",
       "       ..\n",
       "SC0     2\n",
       "G1      2\n",
       "D1      2\n",
       "SP1     1\n",
       "E2      1\n",
       "Name: League, Length: 25, dtype: int64"
      ]
     },
     "execution_count": 119,
     "metadata": {},
     "output_type": "execute_result"
    }
   ],
   "source": [
    "final[(final['signal']==1)]['League'].value_counts()"
   ]
  },
  {
   "cell_type": "code",
   "execution_count": 120,
   "id": "1ba47e21",
   "metadata": {
    "ExecuteTime": {
     "end_time": "2022-12-03T17:19:11.213187Z",
     "start_time": "2022-12-03T17:19:11.182180Z"
    }
   },
   "outputs": [],
   "source": [
    "final['month'] = final['Date'].apply(lambda x: str(x)[4:6])"
   ]
  },
  {
   "cell_type": "code",
   "execution_count": 121,
   "id": "95a0f42c",
   "metadata": {
    "ExecuteTime": {
     "end_time": "2022-12-03T17:19:11.229178Z",
     "start_time": "2022-12-03T17:19:11.214181Z"
    }
   },
   "outputs": [
    {
     "data": {
      "text/plain": [
       "<bound method DataFrame.reset_index of     month\n",
       "03     39\n",
       "10     38\n",
       "04     36\n",
       "08     33\n",
       "02     28\n",
       "..    ...\n",
       "01     22\n",
       "11     22\n",
       "12     22\n",
       "07     13\n",
       "06      7\n",
       "\n",
       "[12 rows x 1 columns]>"
      ]
     },
     "execution_count": 121,
     "metadata": {},
     "output_type": "execute_result"
    }
   ],
   "source": [
    "pd.DataFrame(final[final['signal']==1]['month'].value_counts()).reset_index"
   ]
  },
  {
   "cell_type": "code",
   "execution_count": 253,
   "id": "8c510481",
   "metadata": {
    "ExecuteTime": {
     "end_time": "2022-12-04T00:36:06.338311Z",
     "start_time": "2022-12-04T00:36:06.061429Z"
    }
   },
   "outputs": [
    {
     "data": {
      "image/png": "[encoded data removed]",
      "text/plain": [
       "<Figure size 720x360 with 1 Axes>"
      ]
     },
     "metadata": {},
     "output_type": "display_data"
    }
   ],
   "source": [
    "fig, ax = plt.subplots(figsize=(10,5))\n",
    "df = final[final['signal']==1]\n",
    "df = df['month'].value_counts().sort_index().reset_index()\n",
    "df['index'] = df['index'].replace({'01':'January','02':'Febuary','03':'March','04':'April','05':'May','06':'June','07':'July','08':'August','09':'September','10':'October','11':'November','12':'December'})\n",
    "ax = sns.barplot(x = 'index',y = 'month',data=df)\n",
    "plt.xticks(rotation=-45)\n",
    "ax.set(xlabel='Month',ylabel='Times Bet')\n",
    "for i in ax.containers:\n",
    "    ax.bar_label(i,)\n",
    "plt.savefig(\"C:\\\\Users\\\\awkno\\\\FINM 35910\\\\Sports Arbitrage\\\\months.jpg\",dpi=300)"
   ]
  },
  {
   "cell_type": "code",
   "execution_count": 269,
   "id": "60ea4ce1",
   "metadata": {
    "ExecuteTime": {
     "end_time": "2022-12-04T00:59:47.081678Z",
     "start_time": "2022-12-04T00:59:46.541272Z"
    }
   },
   "outputs": [
    {
     "data": {
      "image/png": "[encoded data removed]",
      "text/plain": [
       "<Figure size 720x360 with 1 Axes>"
      ]
     },
     "metadata": {},
     "output_type": "display_data"
    }
   ],
   "source": [
    "fig, ax = plt.subplots(figsize=(10,5))\n",
    "df = final[final['signal']==1]\n",
    "df['League'] = df['League'].replace(['B1','D1','D2','E0','E2','E3','EC','F1','F2','G1','I1','I2','N1','P1','SC0','SC1','SC2','SC3','SP1','SP2','T1'],'Soccer')\n",
    "df['League'] = df['League'].replace({'nfl':'NFL','mlb':'MLB','nba':'NBA','nhl':'NHL'})\n",
    "df = df[['month','League']].value_counts().sort_index().reset_index()\n",
    "df['month'] = df['month'].replace({'01':'January','02':'Febuary','03':'March','04':'April','05':'May','06':'June','07':'July','08':'August','09':'September','10':'October','11':'November','12':'December'})\n",
    "df = df.rename(columns={0:'vals'})\n",
    "ax = sns.barplot(x= 'month',y = 'vals',hue='League',data=df)\n",
    "ax.set(xlabel='Month',ylabel='Times Bet')\n",
    "plt.savefig(\"C:\\\\Users\\\\awkno\\\\FINM 35910\\\\Sports Arbitrage\\\\months_league.jpg\",dpi=300)"
   ]
  },
  {
   "cell_type": "code",
   "execution_count": 255,
   "id": "552291e7",
   "metadata": {
    "ExecuteTime": {
     "end_time": "2022-12-04T00:46:15.984313Z",
     "start_time": "2022-12-04T00:46:15.785041Z"
    }
   },
   "outputs": [
    {
     "data": {
      "image/png": "[encoded data removed]",
      "text/plain": [
       "<Figure size 576x360 with 1 Axes>"
      ]
     },
     "metadata": {},
     "output_type": "display_data"
    }
   ],
   "source": [
    "fig, ax = plt.subplots(figsize=(8,5))\n",
    "df = final[final['signal']==1]\n",
    "df['League'] = df['League'].replace(['B1','D1','D2','E0','E2','E3','EC','F1','F2','G1','I1','I2','N1','P1','SC0','SC1','SC2','SC3','SP1','SP2','T1'],'Soccer')\n",
    "df['League'] = df['League'].replace({'nfl':'NFL','mlb':'MLB','nba':'NBA','nhl':'NHL'})\n",
    "df = df['League'].value_counts()\n",
    "df = df.reset_index()\n",
    "ax = sns.barplot(x = 'index',y = 'League',data=df)\n",
    "ax.set(xlabel='Sport',ylabel='Times Bet')\n",
    "for i in ax.containers:\n",
    "    ax.bar_label(i,)\n",
    "plt.savefig(\"C:\\\\Users\\\\awkno\\\\FINM 35910\\\\Sports Arbitrage\\\\leagues.jpg\",dpi=300)"
   ]
  },
  {
   "cell_type": "code",
   "execution_count": 223,
   "id": "d5760db4",
   "metadata": {
    "ExecuteTime": {
     "end_time": "2022-12-04T00:19:17.853123Z",
     "start_time": "2022-12-04T00:19:17.608447Z"
    }
   },
   "outputs": [
    {
     "data": {
      "image/png": "[encoded data removed]",
      "text/plain": [
       "<Figure size 720x360 with 1 Axes>"
      ]
     },
     "metadata": {},
     "output_type": "display_data"
    }
   ],
   "source": [
    "fig, ax = plt.subplots(figsize=(10,5))\n",
    "df = final[final['signal']==1]['maxbookiehome'].value_counts().reset_index()\n",
    "df1 = final[final['signal']==1]['maxbookiedraw'].value_counts().reset_index()\n",
    "df2 = final[final['signal']==1]['maxbookieaway'].value_counts().reset_index()\n",
    "dfs = [df,df1,df2]\n",
    "import functools as ft\n",
    "df_final = ft.reduce(lambda left, right: pd.merge(left, right, on='index',how='outer'), dfs).fillna(0)\n",
    "# sns.barplot(x = df.index,y = df.values)\n",
    "df_final['Bookmaker'] = df_final['maxbookiehome']+df_final['maxbookiedraw']+df_final['maxbookieaway']\n",
    "df_final = df_final.drop(['maxbookiehome','maxbookiedraw','maxbookieaway'],axis=1)\n",
    "df_final = df_final\n",
    "ax = sns.barplot(x = 'index',y = 'Bookmaker',data=df_final)\n",
    "ax.set(xlabel='Bookmaker', ylabel='# of Times Used')\n",
    "for i in ax.containers:\n",
    "    ax.bar_label(i,)\n",
    "plt.savefig(\"C:\\\\Users\\\\awkno\\\\FINM 35910\\\\Sports Arbitrage\\\\betsbybookie.jpg\",dpi=300)"
   ]
  },
  {
   "cell_type": "markdown",
   "id": "44a9d01e",
   "metadata": {},
   "source": [
    "--find locations of where we are legally allowed to bet for each sportsbook. \n",
    "\n",
    "--how to scale it, whats the limit in terms of bets on each site. \n",
    "\n",
    "--run it 24 hours. \n",
    "\n",
    "--max bet amounts \n",
    "\n",
    "--liquidity how to get funds to the correct exchanges/ and how to get the money out \n",
    "\n",
    "--check if lines are different in different places\n",
    "\n",
    "-- Issues, we need ties for all the football games. "
   ]
  },
  {
   "cell_type": "code",
   "execution_count": 125,
   "id": "42668f1f",
   "metadata": {
    "ExecuteTime": {
     "end_time": "2022-12-03T17:19:11.671162Z",
     "start_time": "2022-12-03T17:19:11.624188Z"
    }
   },
   "outputs": [],
   "source": [
    "mbh = list(np.unique(returns['maxbookiehome']))\n",
    "mba = list(np.unique(returns['maxbookieaway']))\n",
    "mbd = list(np.unique(returns['maxbookiedraw'].astype(str)))"
   ]
  },
  {
   "cell_type": "markdown",
   "id": "cb994574",
   "metadata": {
    "ExecuteTime": {
     "end_time": "2022-11-27T04:28:38.827814Z",
     "start_time": "2022-11-27T04:28:38.817059Z"
    }
   },
   "source": [
    "Bet365\n",
    "- legal in NJ/Colorado in the US and the several countries in the EU as well as the UK\n",
    "- max payout is 2million\n",
    "- maximum deposit is 100,000 \n",
    "\n",
    "Bwin\n",
    "- maximum payout is 7000\n",
    "\n",
    "VCBet\n",
    "- available in UK\n",
    "\n",
    "William Hill\n",
    "- maximum payout is 2 million\n",
    "- operated by caesars, operational in NJ and IL as well as other states and the UK\n",
    "\n",
    "Unibet\n",
    "- maximum payout is 1million\n",
    "\n",
    "Pinnacle\n",
    "- available in the uk\n",
    "- max payout is 250000\n",
    "\n",
    "Marathonbet\n",
    "- maximum payout is 225000\n",
    "- available in the uk not us. \n",
    "\n",
    "gamebookers\n",
    "- transaction limited to 10g \n",
    "- available in the uk\n",
    "\n",
    "ladbrokes\n",
    "- available in the united kingdom\n",
    "- 1 million maximum payout\n",
    "\n",
    "sportingbets\n",
    "- maximum weekly win of 250000\n",
    "- available in the uk\n",
    "\n",
    "stan james\n",
    "- 200k maximuim payouts\n",
    "- available in the us"
   ]
  },
  {
   "cell_type": "code",
   "execution_count": 126,
   "id": "ebfa4fa6",
   "metadata": {
    "ExecuteTime": {
     "end_time": "2022-12-03T17:19:11.686365Z",
     "start_time": "2022-12-03T17:19:11.672252Z"
    }
   },
   "outputs": [],
   "source": [
    "#sb = list(set(mbh+mba+mbd))\n",
    "#['Bet365','Bwin','VCBet','William Hill','Unibet','Pinnacle','Marathonbet',Gamebookers,Ladbrokes,Sportingbets,Stan James]"
   ]
  },
  {
   "cell_type": "markdown",
   "id": "ac515d79",
   "metadata": {},
   "source": [
    "#### Comparison vs. Benchmark"
   ]
  },
  {
   "cell_type": "code",
   "execution_count": 127,
   "id": "e052f1d1",
   "metadata": {
    "ExecuteTime": {
     "end_time": "2022-12-03T17:19:11.701523Z",
     "start_time": "2022-12-03T17:19:11.687356Z"
    }
   },
   "outputs": [],
   "source": [
    "aqr = pd.read_csv(\"C:\\\\Users\\\\awkno\\\\FINM 35910\\\\Sports Arbitrage\\\\Benchmark.csv\")\n",
    "spy = pd.read_csv(\"C:\\\\Users\\\\awkno\\\\FINM 35910\\\\Sports Arbitrage\\\\SPY.csv\")\n",
    "rf = pd.read_csv(\"C:\\\\Users\\\\awkno\\\\FINM 35910\\\\Sports Arbitrage\\\\rf.csv\").rename(columns={'DGS10':'RF Values'})\n",
    "#rf['RF Values'] = rf['RF Values'].apply(lambda x: float(x))"
   ]
  },
  {
   "cell_type": "code",
   "execution_count": 128,
   "id": "43bb33e5",
   "metadata": {
    "ExecuteTime": {
     "end_time": "2022-12-03T17:19:11.765541Z",
     "start_time": "2022-12-03T17:19:11.702524Z"
    }
   },
   "outputs": [],
   "source": [
    "aqr.index = pd.to_datetime(aqr.Date)\n",
    "aqr = aqr.loc['2019-01-02':'2022-11-16',:]\n",
    "aqr['AQR'] = aqr['Adj Close'].pct_change().fillna(0)\n",
    "spy.index = pd.to_datetime(spy.Date)\n",
    "spy = spy.loc['2019-01-02':'2022-11-16',:]\n",
    "spy['SPY'] = spy['Adj Close'].pct_change().fillna(0)\n",
    "spy['SPY Cumulative'] = (spy['SPY']+1).cumprod().fillna(0)\n",
    "rf.index = pd.to_datetime(rf.DATE)\n",
    "rf = rf.loc['2019-01-02':'2022-11-16',:]\n",
    "rf['RF'] = rf['RF Values'].pct_change()"
   ]
  },
  {
   "cell_type": "code",
   "execution_count": 129,
   "id": "63bcf612",
   "metadata": {
    "ExecuteTime": {
     "end_time": "2022-12-03T17:19:11.781496Z",
     "start_time": "2022-12-03T17:19:11.766491Z"
    }
   },
   "outputs": [],
   "source": [
    "def stats(data, annualized=1,confidence_interval=.05):\n",
    "    x = data.describe()\n",
    "    frame = pd.DataFrame(index = [data.columns])\n",
    "    \n",
    "    frame['mean'] = x.loc['mean'].values * annualized\n",
    "    frame['vol'] = x.loc['std'].values * np.sqrt(annualized)\n",
    "    frame['median'] = x.loc['50%'].values\n",
    "    frame['sharpe'] = frame['mean'].values/frame['vol'].values\n",
    "    frame['VaR'] = data.quantile(confidence_interval).values\n",
    "    frame['Skewness'] = data.skew().values\n",
    "    frame['Kurtosis'] = data.kurtosis().values\n",
    "    cum_ret = (1 + data).cumprod()\n",
    "    rolling_max = cum_ret.cummax()\n",
    "    drawdown = (cum_ret - rolling_max) / rolling_max\n",
    "    \n",
    "    maxdraw = drawdown.min()\n",
    "    enddate = drawdown.idxmin()\n",
    "    \n",
    "    for col in drawdown:\n",
    "        frame.loc[col,'Peak'] = (rolling_max.loc[:enddate[col],col]).idxmax()\n",
    "        recovery = (drawdown.loc[enddate[col]:,col])\n",
    "\n",
    "        try:\n",
    "            frame.loc[col,'Recover'] = recovery[recovery >= 0].index[0]\n",
    "        except:\n",
    "            frame.loc[col,'Recover'] = None\n",
    "        \n",
    "        frame['Peak'] = pd.to_datetime(frame['Peak'])\n",
    "        try:\n",
    "            frame['Duration to Recover'] = (frame['Recover'] - frame['Peak'])\n",
    "        except:\n",
    "            None\n",
    "    \n",
    "    return frame"
   ]
  },
  {
   "cell_type": "code",
   "execution_count": 130,
   "id": "d497ef57",
   "metadata": {
    "ExecuteTime": {
     "end_time": "2022-12-03T17:19:11.797496Z",
     "start_time": "2022-12-03T17:19:11.782489Z"
    }
   },
   "outputs": [],
   "source": [
    "comps = pd.concat([aqr['AQR'],backtest['BSC'],spy['SPY']],axis=1).fillna(0)"
   ]
  },
  {
   "cell_type": "code",
   "execution_count": 131,
   "id": "ce3ec6d4",
   "metadata": {
    "ExecuteTime": {
     "end_time": "2022-12-03T17:19:11.829495Z",
     "start_time": "2022-12-03T17:19:11.798487Z"
    }
   },
   "outputs": [
    {
     "data": {
      "text/html": [
       "<div>\n",
       "<style scoped>\n",
       "    .dataframe tbody tr th:only-of-type {\n",
       "        vertical-align: middle;\n",
       "    }\n",
       "\n",
       "    .dataframe tbody tr th {\n",
       "        vertical-align: top;\n",
       "    }\n",
       "\n",
       "    .dataframe thead th {\n",
       "        text-align: right;\n",
       "    }\n",
       "</style>\n",
       "<table border=\"1\" class=\"dataframe\">\n",
       "  <thead>\n",
       "    <tr style=\"text-align: right;\">\n",
       "      <th></th>\n",
       "      <th>mean</th>\n",
       "      <th>vol</th>\n",
       "      <th>median</th>\n",
       "      <th>sharpe</th>\n",
       "      <th>VaR</th>\n",
       "      <th>Skewness</th>\n",
       "      <th>Kurtosis</th>\n",
       "      <th>Peak</th>\n",
       "      <th>Recover</th>\n",
       "      <th>Duration to Recover</th>\n",
       "    </tr>\n",
       "  </thead>\n",
       "  <tbody>\n",
       "    <tr>\n",
       "      <th>AQR</th>\n",
       "      <td>0.058007</td>\n",
       "      <td>0.052837</td>\n",
       "      <td>0.0</td>\n",
       "      <td>1.097845</td>\n",
       "      <td>-0.003219</td>\n",
       "      <td>-4.249493</td>\n",
       "      <td>65.071751</td>\n",
       "      <td>2020-02-21</td>\n",
       "      <td>2020-07-06</td>\n",
       "      <td>136 days</td>\n",
       "    </tr>\n",
       "    <tr>\n",
       "      <th>BSC</th>\n",
       "      <td>0.293801</td>\n",
       "      <td>0.103033</td>\n",
       "      <td>0.0</td>\n",
       "      <td>2.851521</td>\n",
       "      <td>0.000000</td>\n",
       "      <td>9.903965</td>\n",
       "      <td>130.206201</td>\n",
       "      <td>2019-01-01</td>\n",
       "      <td>2019-08-03</td>\n",
       "      <td>214 days</td>\n",
       "    </tr>\n",
       "    <tr>\n",
       "      <th>SPY</th>\n",
       "      <td>0.111813</td>\n",
       "      <td>0.189350</td>\n",
       "      <td>0.0</td>\n",
       "      <td>0.590510</td>\n",
       "      <td>-0.017627</td>\n",
       "      <td>-0.629440</td>\n",
       "      <td>16.555832</td>\n",
       "      <td>2020-02-19</td>\n",
       "      <td>2020-08-10</td>\n",
       "      <td>173 days</td>\n",
       "    </tr>\n",
       "  </tbody>\n",
       "</table>\n",
       "</div>"
      ],
      "text/plain": [
       "         mean       vol  median    sharpe       VaR  Skewness    Kurtosis  \\\n",
       "AQR  0.058007  0.052837     0.0  1.097845 -0.003219 -4.249493   65.071751   \n",
       "BSC  0.293801  0.103033     0.0  2.851521  0.000000  9.903965  130.206201   \n",
       "SPY  0.111813  0.189350     0.0  0.590510 -0.017627 -0.629440   16.555832   \n",
       "\n",
       "          Peak    Recover Duration to Recover  \n",
       "AQR 2020-02-21 2020-07-06            136 days  \n",
       "BSC 2019-01-01 2019-08-03            214 days  \n",
       "SPY 2020-02-19 2020-08-10            173 days  "
      ]
     },
     "execution_count": 131,
     "metadata": {},
     "output_type": "execute_result"
    }
   ],
   "source": [
    "stats(comps,252)"
   ]
  },
  {
   "cell_type": "code",
   "execution_count": 132,
   "id": "1e80ef69",
   "metadata": {
    "ExecuteTime": {
     "end_time": "2022-12-03T17:19:11.861495Z",
     "start_time": "2022-12-03T17:19:11.830498Z"
    }
   },
   "outputs": [
    {
     "data": {
      "text/html": [
       "<div>\n",
       "<style scoped>\n",
       "    .dataframe tbody tr th:only-of-type {\n",
       "        vertical-align: middle;\n",
       "    }\n",
       "\n",
       "    .dataframe tbody tr th {\n",
       "        vertical-align: top;\n",
       "    }\n",
       "\n",
       "    .dataframe thead th {\n",
       "        text-align: right;\n",
       "    }\n",
       "</style>\n",
       "<table border=\"1\" class=\"dataframe\">\n",
       "  <thead>\n",
       "    <tr style=\"text-align: right;\">\n",
       "      <th></th>\n",
       "      <th>mean</th>\n",
       "      <th>vol</th>\n",
       "      <th>median</th>\n",
       "      <th>sharpe</th>\n",
       "      <th>VaR</th>\n",
       "      <th>Skewness</th>\n",
       "      <th>Kurtosis</th>\n",
       "      <th>Peak</th>\n",
       "      <th>Recover</th>\n",
       "      <th>Duration to Recover</th>\n",
       "    </tr>\n",
       "  </thead>\n",
       "  <tbody>\n",
       "    <tr>\n",
       "      <th>AQR</th>\n",
       "      <td>0.084018</td>\n",
       "      <td>0.063589</td>\n",
       "      <td>0.0</td>\n",
       "      <td>1.321257</td>\n",
       "      <td>-0.003219</td>\n",
       "      <td>-4.249493</td>\n",
       "      <td>65.071751</td>\n",
       "      <td>2020-02-21</td>\n",
       "      <td>2020-07-06</td>\n",
       "      <td>136 days</td>\n",
       "    </tr>\n",
       "    <tr>\n",
       "      <th>BSC</th>\n",
       "      <td>0.425544</td>\n",
       "      <td>0.124000</td>\n",
       "      <td>0.0</td>\n",
       "      <td>3.431807</td>\n",
       "      <td>0.000000</td>\n",
       "      <td>9.903965</td>\n",
       "      <td>130.206201</td>\n",
       "      <td>2019-01-01</td>\n",
       "      <td>2019-08-03</td>\n",
       "      <td>214 days</td>\n",
       "    </tr>\n",
       "    <tr>\n",
       "      <th>SPY</th>\n",
       "      <td>0.161952</td>\n",
       "      <td>0.227883</td>\n",
       "      <td>0.0</td>\n",
       "      <td>0.710679</td>\n",
       "      <td>-0.017627</td>\n",
       "      <td>-0.629440</td>\n",
       "      <td>16.555832</td>\n",
       "      <td>2020-02-19</td>\n",
       "      <td>2020-08-10</td>\n",
       "      <td>173 days</td>\n",
       "    </tr>\n",
       "  </tbody>\n",
       "</table>\n",
       "</div>"
      ],
      "text/plain": [
       "         mean       vol  median    sharpe       VaR  Skewness    Kurtosis  \\\n",
       "AQR  0.084018  0.063589     0.0  1.321257 -0.003219 -4.249493   65.071751   \n",
       "BSC  0.425544  0.124000     0.0  3.431807  0.000000  9.903965  130.206201   \n",
       "SPY  0.161952  0.227883     0.0  0.710679 -0.017627 -0.629440   16.555832   \n",
       "\n",
       "          Peak    Recover Duration to Recover  \n",
       "AQR 2020-02-21 2020-07-06            136 days  \n",
       "BSC 2019-01-01 2019-08-03            214 days  \n",
       "SPY 2020-02-19 2020-08-10            173 days  "
      ]
     },
     "execution_count": 132,
     "metadata": {},
     "output_type": "execute_result"
    }
   ],
   "source": [
    "stats(comps,365)"
   ]
  },
  {
   "cell_type": "code",
   "execution_count": 163,
   "id": "f6382db9",
   "metadata": {
    "ExecuteTime": {
     "end_time": "2022-12-03T17:46:16.903199Z",
     "start_time": "2022-12-03T17:46:16.879623Z"
    }
   },
   "outputs": [
    {
     "data": {
      "text/html": [
       "<div>\n",
       "<style scoped>\n",
       "    .dataframe tbody tr th:only-of-type {\n",
       "        vertical-align: middle;\n",
       "    }\n",
       "\n",
       "    .dataframe tbody tr th {\n",
       "        vertical-align: top;\n",
       "    }\n",
       "\n",
       "    .dataframe thead th {\n",
       "        text-align: right;\n",
       "    }\n",
       "</style>\n",
       "<table border=\"1\" class=\"dataframe\">\n",
       "  <thead>\n",
       "    <tr style=\"text-align: right;\">\n",
       "      <th></th>\n",
       "      <th>AQR</th>\n",
       "      <th>BSC</th>\n",
       "      <th>SPY</th>\n",
       "    </tr>\n",
       "    <tr>\n",
       "      <th>Date</th>\n",
       "      <th></th>\n",
       "      <th></th>\n",
       "      <th></th>\n",
       "    </tr>\n",
       "  </thead>\n",
       "  <tbody>\n",
       "    <tr>\n",
       "      <th>2019-01-01</th>\n",
       "      <td>0.000000</td>\n",
       "      <td>0.000000</td>\n",
       "      <td>0.000000</td>\n",
       "    </tr>\n",
       "    <tr>\n",
       "      <th>2019-01-02</th>\n",
       "      <td>0.000000</td>\n",
       "      <td>0.000000</td>\n",
       "      <td>0.000000</td>\n",
       "    </tr>\n",
       "    <tr>\n",
       "      <th>2019-01-03</th>\n",
       "      <td>0.000000</td>\n",
       "      <td>0.000000</td>\n",
       "      <td>-0.023863</td>\n",
       "    </tr>\n",
       "    <tr>\n",
       "      <th>2019-01-04</th>\n",
       "      <td>0.001138</td>\n",
       "      <td>0.000000</td>\n",
       "      <td>0.008834</td>\n",
       "    </tr>\n",
       "    <tr>\n",
       "      <th>2019-01-05</th>\n",
       "      <td>0.001138</td>\n",
       "      <td>0.000000</td>\n",
       "      <td>0.008834</td>\n",
       "    </tr>\n",
       "    <tr>\n",
       "      <th>...</th>\n",
       "      <td>...</td>\n",
       "      <td>...</td>\n",
       "      <td>...</td>\n",
       "    </tr>\n",
       "    <tr>\n",
       "      <th>2022-11-12</th>\n",
       "      <td>0.367339</td>\n",
       "      <td>3.951158</td>\n",
       "      <td>0.694803</td>\n",
       "    </tr>\n",
       "    <tr>\n",
       "      <th>2022-11-13</th>\n",
       "      <td>0.367339</td>\n",
       "      <td>3.951158</td>\n",
       "      <td>0.694803</td>\n",
       "    </tr>\n",
       "    <tr>\n",
       "      <th>2022-11-14</th>\n",
       "      <td>0.366160</td>\n",
       "      <td>3.951158</td>\n",
       "      <td>0.680386</td>\n",
       "    </tr>\n",
       "    <tr>\n",
       "      <th>2022-11-15</th>\n",
       "      <td>0.369697</td>\n",
       "      <td>3.951158</td>\n",
       "      <td>0.694718</td>\n",
       "    </tr>\n",
       "    <tr>\n",
       "      <th>2022-11-16</th>\n",
       "      <td>0.368518</td>\n",
       "      <td>3.951158</td>\n",
       "      <td>0.681790</td>\n",
       "    </tr>\n",
       "  </tbody>\n",
       "</table>\n",
       "<p>1397 rows × 3 columns</p>\n",
       "</div>"
      ],
      "text/plain": [
       "                 AQR       BSC       SPY\n",
       "Date                                    \n",
       "2019-01-01  0.000000  0.000000  0.000000\n",
       "2019-01-02  0.000000  0.000000  0.000000\n",
       "2019-01-03  0.000000  0.000000 -0.023863\n",
       "2019-01-04  0.001138  0.000000  0.008834\n",
       "2019-01-05  0.001138  0.000000  0.008834\n",
       "...              ...       ...       ...\n",
       "2022-11-12  0.367339  3.951158  0.694803\n",
       "2022-11-13  0.367339  3.951158  0.694803\n",
       "2022-11-14  0.366160  3.951158  0.680386\n",
       "2022-11-15  0.369697  3.951158  0.694718\n",
       "2022-11-16  0.368518  3.951158  0.681790\n",
       "\n",
       "[1397 rows x 3 columns]"
      ]
     },
     "execution_count": 163,
     "metadata": {},
     "output_type": "execute_result"
    }
   ],
   "source": [
    "cumu_profit = (comps[['AQR','BSC','SPY']]+1).cumprod()-1\n",
    "cumu_profit"
   ]
  },
  {
   "cell_type": "code",
   "execution_count": 205,
   "id": "b2dde225",
   "metadata": {
    "ExecuteTime": {
     "end_time": "2022-12-03T21:28:24.729835Z",
     "start_time": "2022-12-03T21:28:24.246058Z"
    }
   },
   "outputs": [
    {
     "data": {
      "image/png": "[encoded data removed]",
      "text/plain": [
       "<Figure size 1080x576 with 1 Axes>"
      ]
     },
     "metadata": {},
     "output_type": "display_data"
    }
   ],
   "source": [
    "fig, ax = plt.subplots(figsize=(15,8))\n",
    "fig.suptitle('Returns')\n",
    "plt.plot(cumu_profit)\n",
    "plt.xlabel('Date')\n",
    "plt.ylabel('% Return')\n",
    "ax.legend(cumu_profit.columns,loc=2, prop={'size':15})\n",
    "plt.savefig(\"C:\\\\Users\\\\awkno\\\\FINM 35910\\\\Sports Arbitrage\\\\return_comp.jpg\",dpi=300)"
   ]
  },
  {
   "cell_type": "code",
   "execution_count": null,
   "id": "c2a92dc7",
   "metadata": {},
   "outputs": [],
   "source": []
  },
  {
   "cell_type": "code",
   "execution_count": 176,
   "id": "9b8fc319",
   "metadata": {
    "ExecuteTime": {
     "end_time": "2022-12-03T18:00:46.041293Z",
     "start_time": "2022-12-03T18:00:46.025735Z"
    }
   },
   "outputs": [],
   "source": [
    "def sort_returns(x):\n",
    "    if x<0:\n",
    "        return \"Negative\"\n",
    "    elif x == 0:\n",
    "        return \"0.00%\"\n",
    "    elif x>0 and x<=.01:\n",
    "        return '0.00%-0.01%'\n",
    "    elif x>.01 and x<=.02:\n",
    "        return \"0.01%-0.02%\"\n",
    "    elif x>.02 and x<=.03:\n",
    "        return \"0.02%-0.03%\"\n",
    "    elif x>0.03 and x<=.04:\n",
    "        return \"0.03%-0.04%\"\n",
    "    elif x>.04 and x<=.05:\n",
    "        return \"0.04%-0.05%\"\n",
    "    elif x>.05 and x<=.06:\n",
    "        return \"0.05%-0.06%\"\n",
    "    elif x>.06 and x<=.07:\n",
    "        return \"0.06%-0.07%\"\n",
    "    elif x>.07 and x<=.08:\n",
    "        return \"0.07%-0.08%\"\n",
    "    else: return \"Greater than 0.08%\"\n",
    "\n",
    "backtest['vals'] = backtest['BSC'].apply(lambda x: sort_returns(x))"
   ]
  },
  {
   "cell_type": "code",
   "execution_count": 208,
   "id": "19e8d8a5",
   "metadata": {
    "ExecuteTime": {
     "end_time": "2022-12-03T21:49:07.508617Z",
     "start_time": "2022-12-03T21:49:07.091985Z"
    }
   },
   "outputs": [
    {
     "data": {
      "image/png": "[encoded data removed]",
      "text/plain": [
       "<Figure size 1080x576 with 1 Axes>"
      ]
     },
     "metadata": {},
     "output_type": "display_data"
    }
   ],
   "source": [
    "pd.options.display.max_rows=15\n",
    "vc_r = backtest['vals'].value_counts()\n",
    "vc_r = vc_r.reset_index().sort_values('index')\n",
    "idx = [2,0,1,3,4,8,10,5,7,9,6]\n",
    "vc_r = vc_r.reindex(idx)\n",
    "fig, ax = plt.subplots(figsize=(15,8))\n",
    "#sns.barplot(x = vc_r['index'],y = vc_r['vals'])\n",
    "ax = sns.barplot(x = 'index', y = 'vals', \n",
    "              data = vc_r,)\n",
    "ax.set(xlabel='Return Area', ylabel='Number of Returns')\n",
    "for i in ax.containers:\n",
    "    ax.bar_label(i,)\n",
    "plt.savefig(\"C:\\\\Users\\\\awkno\\\\FINM 35910\\\\Sports Arbitrage\\\\returndist.jpg\",dpi=300)"
   ]
  },
  {
   "cell_type": "code",
   "execution_count": 175,
   "id": "2873548b",
   "metadata": {
    "ExecuteTime": {
     "end_time": "2022-12-03T17:58:09.309378Z",
     "start_time": "2022-12-03T17:58:09.300750Z"
    }
   },
   "outputs": [
    {
     "data": {
      "text/html": [
       "<div>\n",
       "<style scoped>\n",
       "    .dataframe tbody tr th:only-of-type {\n",
       "        vertical-align: middle;\n",
       "    }\n",
       "\n",
       "    .dataframe tbody tr th {\n",
       "        vertical-align: top;\n",
       "    }\n",
       "\n",
       "    .dataframe thead th {\n",
       "        text-align: right;\n",
       "    }\n",
       "</style>\n",
       "<table border=\"1\" class=\"dataframe\">\n",
       "  <thead>\n",
       "    <tr style=\"text-align: right;\">\n",
       "      <th></th>\n",
       "      <th>index</th>\n",
       "      <th>vals</th>\n",
       "    </tr>\n",
       "  </thead>\n",
       "  <tbody>\n",
       "    <tr>\n",
       "      <th>0</th>\n",
       "      <td>1</td>\n",
       "      <td>1099</td>\n",
       "    </tr>\n",
       "    <tr>\n",
       "      <th>1</th>\n",
       "      <td>2</td>\n",
       "      <td>123</td>\n",
       "    </tr>\n",
       "    <tr>\n",
       "      <th>2</th>\n",
       "      <td>0</td>\n",
       "      <td>59</td>\n",
       "    </tr>\n",
       "    <tr>\n",
       "      <th>3</th>\n",
       "      <td>3</td>\n",
       "      <td>23</td>\n",
       "    </tr>\n",
       "    <tr>\n",
       "      <th>4</th>\n",
       "      <td>4</td>\n",
       "      <td>9</td>\n",
       "    </tr>\n",
       "    <tr>\n",
       "      <th>...</th>\n",
       "      <td>...</td>\n",
       "      <td>...</td>\n",
       "    </tr>\n",
       "    <tr>\n",
       "      <th>6</th>\n",
       "      <td>10</td>\n",
       "      <td>2</td>\n",
       "    </tr>\n",
       "    <tr>\n",
       "      <th>7</th>\n",
       "      <td>8</td>\n",
       "      <td>2</td>\n",
       "    </tr>\n",
       "    <tr>\n",
       "      <th>8</th>\n",
       "      <td>5</td>\n",
       "      <td>2</td>\n",
       "    </tr>\n",
       "    <tr>\n",
       "      <th>9</th>\n",
       "      <td>9</td>\n",
       "      <td>1</td>\n",
       "    </tr>\n",
       "    <tr>\n",
       "      <th>10</th>\n",
       "      <td>6</td>\n",
       "      <td>1</td>\n",
       "    </tr>\n",
       "  </tbody>\n",
       "</table>\n",
       "<p>11 rows × 2 columns</p>\n",
       "</div>"
      ],
      "text/plain": [
       "    index  vals\n",
       "0       1  1099\n",
       "1       2   123\n",
       "2       0    59\n",
       "3       3    23\n",
       "4       4     9\n",
       "..    ...   ...\n",
       "6      10     2\n",
       "7       8     2\n",
       "8       5     2\n",
       "9       9     1\n",
       "10      6     1\n",
       "\n",
       "[11 rows x 2 columns]"
      ]
     },
     "execution_count": 175,
     "metadata": {},
     "output_type": "execute_result"
    }
   ],
   "source": [
    "vc_r"
   ]
  },
  {
   "cell_type": "markdown",
   "id": "f53a6f8a",
   "metadata": {},
   "source": [
    "#### CAGR"
   ]
  },
  {
   "cell_type": "code",
   "execution_count": 136,
   "id": "ed7b9877",
   "metadata": {
    "ExecuteTime": {
     "end_time": "2022-12-03T17:19:12.004573Z",
     "start_time": "2022-12-03T17:19:11.989581Z"
    }
   },
   "outputs": [
    {
     "name": "stderr",
     "output_type": "stream",
     "text": [
      "C:\\Users\\awkno\\Anaconda3\\envs\\Projects\\lib\\site-packages\\numpy\\core\\fromnumeric.py:57: RuntimeWarning: invalid value encountered in accumulate\n",
      "  return bound(*args, **kwds)\n"
     ]
    }
   ],
   "source": [
    "aqr = aqr.fillna(0)\n",
    "aqr['AQR Profit'] = (aqr['AQR'] +1).cumprod()*100000\n",
    "spy = spy.fillna(0)\n",
    "spy['SPY Profit'] = (spy['SPY'] +1).cumprod()*100000\n",
    "rf = rf.fillna(0)\n",
    "rf['RF Profit'] = (rf['RF'] + 1).cumprod()*100000"
   ]
  },
  {
   "cell_type": "code",
   "execution_count": 137,
   "id": "177f1ffa",
   "metadata": {
    "ExecuteTime": {
     "end_time": "2022-12-03T17:19:12.020578Z",
     "start_time": "2022-12-03T17:19:12.005571Z"
    }
   },
   "outputs": [
    {
     "data": {
      "text/plain": [
       "8.441085747536192"
      ]
     },
     "execution_count": 137,
     "metadata": {},
     "output_type": "execute_result"
    }
   ],
   "source": [
    "aqrcg = (aqr['AQR Profit'].iloc[-1]/aqr['AQR Profit'].iloc[1])**(1/((aqr.index[-1]-aqr.index[0]).days/365.24))-1\n",
    "aqrcg*100"
   ]
  },
  {
   "cell_type": "code",
   "execution_count": 138,
   "id": "103c0055",
   "metadata": {
    "ExecuteTime": {
     "end_time": "2022-12-03T17:19:12.035578Z",
     "start_time": "2022-12-03T17:19:12.021579Z"
    }
   },
   "outputs": [
    {
     "data": {
      "text/plain": [
       "51.11856563385191"
      ]
     },
     "execution_count": 138,
     "metadata": {},
     "output_type": "execute_result"
    }
   ],
   "source": [
    "bcscg = (backtest['profit'].iloc[-1]/backtest['profit'].iloc[1])**(1/((backtest.index[-1]-backtest.index[0]).days/365.24))-1\n",
    "bcscg*100"
   ]
  },
  {
   "cell_type": "code",
   "execution_count": 139,
   "id": "9c3f35a3",
   "metadata": {
    "ExecuteTime": {
     "end_time": "2022-12-03T17:19:12.051579Z",
     "start_time": "2022-12-03T17:19:12.036571Z"
    }
   },
   "outputs": [
    {
     "data": {
      "text/plain": [
       "15.08714053338991"
      ]
     },
     "execution_count": 139,
     "metadata": {},
     "output_type": "execute_result"
    }
   ],
   "source": [
    "spycg = (spy['SPY Profit'].iloc[-1]/spy['SPY Profit'].iloc[1])**(1/((spy.index[-1]-spy.index[0]).days/365.24))-1\n",
    "spycg*100"
   ]
  },
  {
   "cell_type": "markdown",
   "id": "c73cf40b",
   "metadata": {},
   "source": [
    "#### Correlation to SPY"
   ]
  },
  {
   "cell_type": "code",
   "execution_count": 140,
   "id": "ad090d51",
   "metadata": {
    "ExecuteTime": {
     "end_time": "2022-12-03T17:19:12.147578Z",
     "start_time": "2022-12-03T17:19:12.052579Z"
    }
   },
   "outputs": [
    {
     "data": {
      "text/plain": [
       "<AxesSubplot:>"
      ]
     },
     "execution_count": 140,
     "metadata": {},
     "output_type": "execute_result"
    },
    {
     "data": {
      "image/png": "[encoded data removed]",
      "text/plain": [
       "<Figure size 432x288 with 2 Axes>"
      ]
     },
     "metadata": {},
     "output_type": "display_data"
    }
   ],
   "source": [
    "sns.heatmap(comps.corr(),annot=True)"
   ]
  },
  {
   "cell_type": "markdown",
   "id": "c97d8ffd",
   "metadata": {},
   "source": [
    "#### Treynor Ratio"
   ]
  },
  {
   "cell_type": "code",
   "execution_count": 141,
   "id": "aff549f1",
   "metadata": {
    "ExecuteTime": {
     "end_time": "2022-12-03T17:19:12.162579Z",
     "start_time": "2022-12-03T17:19:12.149570Z"
    }
   },
   "outputs": [],
   "source": [
    "comps['BSC_excess'] = (comps['BSC'] - rf['RF Values']).fillna(0)\n",
    "comps['AQR_excess'] = (comps['AQR'] - rf['RF Values']).fillna(0)\n",
    "comps['SPY_excess'] = (comps['SPY'] - rf['RF Values']).fillna(0)"
   ]
  },
  {
   "cell_type": "code",
   "execution_count": 142,
   "id": "cc1e8ff5",
   "metadata": {
    "ExecuteTime": {
     "end_time": "2022-12-03T17:19:12.178578Z",
     "start_time": "2022-12-03T17:19:12.163591Z"
    }
   },
   "outputs": [
    {
     "data": {
      "text/html": [
       "<div>\n",
       "<style scoped>\n",
       "    .dataframe tbody tr th:only-of-type {\n",
       "        vertical-align: middle;\n",
       "    }\n",
       "\n",
       "    .dataframe tbody tr th {\n",
       "        vertical-align: top;\n",
       "    }\n",
       "\n",
       "    .dataframe thead th {\n",
       "        text-align: right;\n",
       "    }\n",
       "</style>\n",
       "<table border=\"1\" class=\"dataframe\">\n",
       "  <thead>\n",
       "    <tr style=\"text-align: right;\">\n",
       "      <th></th>\n",
       "      <th>AQR</th>\n",
       "      <th>BSC</th>\n",
       "      <th>SPY</th>\n",
       "      <th>BSC_excess</th>\n",
       "      <th>AQR_excess</th>\n",
       "      <th>SPY_excess</th>\n",
       "    </tr>\n",
       "    <tr>\n",
       "      <th>Date</th>\n",
       "      <th></th>\n",
       "      <th></th>\n",
       "      <th></th>\n",
       "      <th></th>\n",
       "      <th></th>\n",
       "      <th></th>\n",
       "    </tr>\n",
       "  </thead>\n",
       "  <tbody>\n",
       "    <tr>\n",
       "      <th>2019-01-01</th>\n",
       "      <td>0.000000</td>\n",
       "      <td>0.0</td>\n",
       "      <td>0.000000</td>\n",
       "      <td>0.0000</td>\n",
       "      <td>0.000000</td>\n",
       "      <td>0.000000</td>\n",
       "    </tr>\n",
       "    <tr>\n",
       "      <th>2019-01-02</th>\n",
       "      <td>0.000000</td>\n",
       "      <td>0.0</td>\n",
       "      <td>0.000000</td>\n",
       "      <td>-0.0266</td>\n",
       "      <td>-0.026600</td>\n",
       "      <td>-0.026600</td>\n",
       "    </tr>\n",
       "    <tr>\n",
       "      <th>2019-01-03</th>\n",
       "      <td>0.000000</td>\n",
       "      <td>0.0</td>\n",
       "      <td>-0.023863</td>\n",
       "      <td>-0.0256</td>\n",
       "      <td>-0.025600</td>\n",
       "      <td>-0.049463</td>\n",
       "    </tr>\n",
       "    <tr>\n",
       "      <th>2019-01-04</th>\n",
       "      <td>0.001138</td>\n",
       "      <td>0.0</td>\n",
       "      <td>0.033496</td>\n",
       "      <td>-0.0267</td>\n",
       "      <td>-0.025562</td>\n",
       "      <td>0.006796</td>\n",
       "    </tr>\n",
       "    <tr>\n",
       "      <th>2019-01-05</th>\n",
       "      <td>0.000000</td>\n",
       "      <td>0.0</td>\n",
       "      <td>0.000000</td>\n",
       "      <td>0.0000</td>\n",
       "      <td>0.000000</td>\n",
       "      <td>0.000000</td>\n",
       "    </tr>\n",
       "    <tr>\n",
       "      <th>...</th>\n",
       "      <td>...</td>\n",
       "      <td>...</td>\n",
       "      <td>...</td>\n",
       "      <td>...</td>\n",
       "      <td>...</td>\n",
       "      <td>...</td>\n",
       "    </tr>\n",
       "    <tr>\n",
       "      <th>2022-11-12</th>\n",
       "      <td>0.000000</td>\n",
       "      <td>0.0</td>\n",
       "      <td>0.000000</td>\n",
       "      <td>0.0000</td>\n",
       "      <td>0.000000</td>\n",
       "      <td>0.000000</td>\n",
       "    </tr>\n",
       "    <tr>\n",
       "      <th>2022-11-13</th>\n",
       "      <td>0.000000</td>\n",
       "      <td>0.0</td>\n",
       "      <td>0.000000</td>\n",
       "      <td>0.0000</td>\n",
       "      <td>0.000000</td>\n",
       "      <td>0.000000</td>\n",
       "    </tr>\n",
       "    <tr>\n",
       "      <th>2022-11-14</th>\n",
       "      <td>-0.000862</td>\n",
       "      <td>0.0</td>\n",
       "      <td>-0.008507</td>\n",
       "      <td>-0.0388</td>\n",
       "      <td>-0.039662</td>\n",
       "      <td>-0.047307</td>\n",
       "    </tr>\n",
       "    <tr>\n",
       "      <th>2022-11-15</th>\n",
       "      <td>0.002588</td>\n",
       "      <td>0.0</td>\n",
       "      <td>0.008529</td>\n",
       "      <td>-0.0380</td>\n",
       "      <td>-0.035412</td>\n",
       "      <td>-0.029471</td>\n",
       "    </tr>\n",
       "    <tr>\n",
       "      <th>2022-11-16</th>\n",
       "      <td>-0.000861</td>\n",
       "      <td>0.0</td>\n",
       "      <td>-0.007629</td>\n",
       "      <td>-0.0367</td>\n",
       "      <td>-0.037561</td>\n",
       "      <td>-0.044329</td>\n",
       "    </tr>\n",
       "  </tbody>\n",
       "</table>\n",
       "<p>1397 rows × 6 columns</p>\n",
       "</div>"
      ],
      "text/plain": [
       "                 AQR  BSC       SPY  BSC_excess  AQR_excess  SPY_excess\n",
       "Date                                                                   \n",
       "2019-01-01  0.000000  0.0  0.000000      0.0000    0.000000    0.000000\n",
       "2019-01-02  0.000000  0.0  0.000000     -0.0266   -0.026600   -0.026600\n",
       "2019-01-03  0.000000  0.0 -0.023863     -0.0256   -0.025600   -0.049463\n",
       "2019-01-04  0.001138  0.0  0.033496     -0.0267   -0.025562    0.006796\n",
       "2019-01-05  0.000000  0.0  0.000000      0.0000    0.000000    0.000000\n",
       "...              ...  ...       ...         ...         ...         ...\n",
       "2022-11-12  0.000000  0.0  0.000000      0.0000    0.000000    0.000000\n",
       "2022-11-13  0.000000  0.0  0.000000      0.0000    0.000000    0.000000\n",
       "2022-11-14 -0.000862  0.0 -0.008507     -0.0388   -0.039662   -0.047307\n",
       "2022-11-15  0.002588  0.0  0.008529     -0.0380   -0.035412   -0.029471\n",
       "2022-11-16 -0.000861  0.0 -0.007629     -0.0367   -0.037561   -0.044329\n",
       "\n",
       "[1397 rows x 6 columns]"
      ]
     },
     "execution_count": 142,
     "metadata": {},
     "output_type": "execute_result"
    }
   ],
   "source": [
    "comps"
   ]
  },
  {
   "cell_type": "code",
   "execution_count": 143,
   "id": "6ce247a9",
   "metadata": {
    "ExecuteTime": {
     "end_time": "2022-12-03T17:19:12.193578Z",
     "start_time": "2022-12-03T17:19:12.179581Z"
    }
   },
   "outputs": [],
   "source": [
    "market_var = sum(((comps['SPY_excess']-comps.mean().values[5])**2)/len(comps))"
   ]
  },
  {
   "cell_type": "code",
   "execution_count": 144,
   "id": "669509ea",
   "metadata": {
    "ExecuteTime": {
     "end_time": "2022-12-03T17:19:12.209675Z",
     "start_time": "2022-12-03T17:19:12.194581Z"
    }
   },
   "outputs": [],
   "source": [
    "rfr = rf['RF Values'].mean()"
   ]
  },
  {
   "cell_type": "code",
   "execution_count": 145,
   "id": "f5c0c452",
   "metadata": {
    "ExecuteTime": {
     "end_time": "2022-12-03T17:19:12.225690Z",
     "start_time": "2022-12-03T17:19:12.210683Z"
    }
   },
   "outputs": [],
   "source": [
    "cov_bs = sum(((comps['BSC_excess']-comps.mean().values[3])*(comps['SPY_excess']-comps.mean().values[5]))/(len(comps)-1))\n",
    "cov_as = sum(((comps['AQR_excess']-comps.mean().values[4])*(comps['SPY_excess']-comps.mean().values[5]))/(len(comps)-1))"
   ]
  },
  {
   "cell_type": "code",
   "execution_count": 146,
   "id": "2b77606b",
   "metadata": {
    "ExecuteTime": {
     "end_time": "2022-12-03T17:19:12.241684Z",
     "start_time": "2022-12-03T17:19:12.226683Z"
    }
   },
   "outputs": [],
   "source": [
    "beta_bsc = cov_bs/market_var\n",
    "beta_aqr = cov_as/market_var"
   ]
  },
  {
   "cell_type": "code",
   "execution_count": 147,
   "id": "f1facfc7",
   "metadata": {
    "ExecuteTime": {
     "end_time": "2022-12-03T17:19:12.257010Z",
     "start_time": "2022-12-03T17:19:12.242683Z"
    }
   },
   "outputs": [
    {
     "data": {
      "text/plain": [
       "1.1035781826252424"
      ]
     },
     "execution_count": 147,
     "metadata": {},
     "output_type": "execute_result"
    }
   ],
   "source": [
    "(bcscg - rfr)/beta_bsc"
   ]
  },
  {
   "cell_type": "code",
   "execution_count": 148,
   "id": "b7be4037",
   "metadata": {
    "ExecuteTime": {
     "end_time": "2022-12-03T17:19:12.272906Z",
     "start_time": "2022-12-03T17:19:12.258009Z"
    }
   },
   "outputs": [
    {
     "data": {
      "text/plain": [
       "0.1228299898071633"
      ]
     },
     "execution_count": 148,
     "metadata": {},
     "output_type": "execute_result"
    }
   ],
   "source": [
    "(aqrcg - rfr)/beta_aqr"
   ]
  },
  {
   "cell_type": "markdown",
   "id": "c4868654",
   "metadata": {},
   "source": [
    "#### Jensens Alpha"
   ]
  },
  {
   "cell_type": "code",
   "execution_count": 149,
   "id": "ccc3c743",
   "metadata": {
    "ExecuteTime": {
     "end_time": "2022-12-03T17:19:12.288906Z",
     "start_time": "2022-12-03T17:19:12.273915Z"
    }
   },
   "outputs": [],
   "source": [
    "bsc_ja = bcscg - [rfr + beta_bsc*(spycg-rfr)][0]"
   ]
  },
  {
   "cell_type": "code",
   "execution_count": 150,
   "id": "4e5f6785",
   "metadata": {
    "ExecuteTime": {
     "end_time": "2022-12-03T17:19:12.304802Z",
     "start_time": "2022-12-03T17:19:12.289906Z"
    }
   },
   "outputs": [
    {
     "data": {
      "text/plain": [
       "0.43411797301671795"
      ]
     },
     "execution_count": 150,
     "metadata": {},
     "output_type": "execute_result"
    }
   ],
   "source": [
    "bsc_ja"
   ]
  },
  {
   "cell_type": "code",
   "execution_count": 151,
   "id": "84bcf654",
   "metadata": {
    "ExecuteTime": {
     "end_time": "2022-12-03T17:19:12.320784Z",
     "start_time": "2022-12-03T17:19:12.306802Z"
    }
   },
   "outputs": [],
   "source": [
    "aqr_ja = aqrcg - [rfr + beta_aqr*(spycg-rfr)][0]"
   ]
  },
  {
   "cell_type": "code",
   "execution_count": 152,
   "id": "7a3778f1",
   "metadata": {
    "ExecuteTime": {
     "end_time": "2022-12-03T17:19:12.336723Z",
     "start_time": "2022-12-03T17:19:12.322777Z"
    }
   },
   "outputs": [
    {
     "data": {
      "text/plain": [
       "-0.005883043140894495"
      ]
     },
     "execution_count": 152,
     "metadata": {},
     "output_type": "execute_result"
    }
   ],
   "source": [
    "aqr_ja"
   ]
  },
  {
   "cell_type": "code",
   "execution_count": null,
   "id": "0339ec66",
   "metadata": {},
   "outputs": [],
   "source": []
  }
 ],
 "metadata": {
  "kernelspec": {
   "display_name": "Python 3 (ipykernel)",
   "language": "python",
   "name": "python3"
  },
  "language_info": {
   "codemirror_mode": {
    "name": "ipython",
    "version": 3
   },
   "file_extension": ".py",
   "mimetype": "text/x-python",
   "name": "python",
   "nbconvert_exporter": "python",
   "pygments_lexer": "ipython3",
   "version": "3.9.12"
  }
 },
 "nbformat": 4,
 "nbformat_minor": 5
}
